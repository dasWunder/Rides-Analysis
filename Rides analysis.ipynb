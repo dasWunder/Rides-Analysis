{
 "cells": [
  {
   "cell_type": "markdown",
   "id": "a91d4c09",
   "metadata": {},
   "source": [
    "**Scooter Business Research**\n",
    "\n",
    "GoFast service is the customer of this research. GoFast shared data about some users from several cities, as well as about their trips. It is necessary to analyze data and test hypotheses that can help the business grow\n",
    "\n",
    "**Research objectives:**\n",
    "1. Find out the frequency of occurrence of cities\n",
    "2. Find the ratio of users with a subscription and without a subscription\n",
    "3. Analyze the age of users\n",
    "4. Find out the distance the user covered in one trip\n",
    "5. Find the duration of trips\n",
    "6. Study in more detail users with and without subscription:\n",
    "     - Analyze the distance covered by both user groups\n",
    "     - Analyze the travel duration of both user groups\n",
    "7. Analyze the revenue of different user groups and test some hypotheses\n",
    "8. Find distributions related to promotions and push notifications.\n",
    "\n",
    "**Research progress:**\n",
    "1. I will receive data from three different tables: ```rides```, ```subscriptions```, ```users```. Nothing is known about the quality of the data, so before you begin to achieve your goals, you need to become familiar with the data.\n",
    "2. I will check the data for errors and evaluate their impact on the study. At the data preprocessing stage, I will look for opportunities to correct all errors in the data that will not lead to distortion of the final result.\n",
    "3. Next, I will conduct an exploratory data analysis\n",
    "4. Then I will combine all the tables into one and conduct targeted research on different user groups and on different issues, therefore the action plan is below.\n",
    "\n",
    "\n",
    "**Action plan:**\n",
    "1. Loading and initial study of data\n",
    "2. Data preprocessing\n",
    "3. Exploratory data analysis\n",
    "4. Data merging\n",
    "5. Revenue calculation\n",
    "6. Testing four hypotheses\n",
    "7. Distributions\n",
    "8. Final conclusion"
   ]
  },
  {
   "cell_type": "markdown",
   "id": "5935b584",
   "metadata": {},
   "source": [
    "## **Data and metadata**"
   ]
  },
  {
   "cell_type": "markdown",
   "id": "ab863534",
   "metadata": {},
   "source": [
    "### Libraries import"
   ]
  },
  {
   "cell_type": "code",
   "execution_count": 1,
   "id": "dabe33c1",
   "metadata": {},
   "outputs": [],
   "source": [
    "import pandas as pd\n",
    "import matplotlib.pyplot as plt\n",
    "import numpy as np\n",
    "import seaborn as sns\n",
    "from scipy import stats as st"
   ]
  },
  {
   "cell_type": "code",
   "execution_count": 2,
   "id": "70587a2d",
   "metadata": {},
   "outputs": [],
   "source": [
    "#each file is assigned to a separate variable\n",
    "rides = pd.read_csv('C:\\\\local_path\\\\rides_go.csv')\n",
    "plans = pd.read_csv('C:\\\\local_path\\\\subscriptions_go.csv')\n",
    "users = pd.read_csv('C:\\\\local_path\\\\users_go.csv')"
   ]
  },
  {
   "cell_type": "markdown",
   "id": "8a9d463f",
   "metadata": {},
   "source": [
    "### Rides dataframe"
   ]
  },
  {
   "cell_type": "code",
   "execution_count": 3,
   "id": "f6eff46d",
   "metadata": {
    "scrolled": true
   },
   "outputs": [
    {
     "data": {
      "text/html": [
       "<div>\n",
       "<style scoped>\n",
       "    .dataframe tbody tr th:only-of-type {\n",
       "        vertical-align: middle;\n",
       "    }\n",
       "\n",
       "    .dataframe tbody tr th {\n",
       "        vertical-align: top;\n",
       "    }\n",
       "\n",
       "    .dataframe thead th {\n",
       "        text-align: right;\n",
       "    }\n",
       "</style>\n",
       "<table border=\"1\" class=\"dataframe\">\n",
       "  <thead>\n",
       "    <tr style=\"text-align: right;\">\n",
       "      <th></th>\n",
       "      <th>user_id</th>\n",
       "      <th>distance</th>\n",
       "      <th>duration</th>\n",
       "      <th>date</th>\n",
       "    </tr>\n",
       "  </thead>\n",
       "  <tbody>\n",
       "    <tr>\n",
       "      <th>0</th>\n",
       "      <td>1</td>\n",
       "      <td>4409.919140</td>\n",
       "      <td>25.599769</td>\n",
       "      <td>2021-01-01</td>\n",
       "    </tr>\n",
       "    <tr>\n",
       "      <th>1</th>\n",
       "      <td>1</td>\n",
       "      <td>2617.592153</td>\n",
       "      <td>15.816871</td>\n",
       "      <td>2021-01-18</td>\n",
       "    </tr>\n",
       "    <tr>\n",
       "      <th>2</th>\n",
       "      <td>1</td>\n",
       "      <td>754.159807</td>\n",
       "      <td>6.232113</td>\n",
       "      <td>2021-04-20</td>\n",
       "    </tr>\n",
       "    <tr>\n",
       "      <th>3</th>\n",
       "      <td>1</td>\n",
       "      <td>2694.783254</td>\n",
       "      <td>18.511000</td>\n",
       "      <td>2021-08-11</td>\n",
       "    </tr>\n",
       "    <tr>\n",
       "      <th>4</th>\n",
       "      <td>1</td>\n",
       "      <td>4028.687306</td>\n",
       "      <td>26.265803</td>\n",
       "      <td>2021-08-28</td>\n",
       "    </tr>\n",
       "  </tbody>\n",
       "</table>\n",
       "</div>"
      ],
      "text/plain": [
       "   user_id     distance   duration        date\n",
       "0        1  4409.919140  25.599769  2021-01-01\n",
       "1        1  2617.592153  15.816871  2021-01-18\n",
       "2        1   754.159807   6.232113  2021-04-20\n",
       "3        1  2694.783254  18.511000  2021-08-11\n",
       "4        1  4028.687306  26.265803  2021-08-28"
      ]
     },
     "execution_count": 3,
     "metadata": {},
     "output_type": "execute_result"
    }
   ],
   "source": [
    "rides.head()"
   ]
  },
  {
   "cell_type": "markdown",
   "id": "c727ffc1",
   "metadata": {},
   "source": [
    "#### Rides metadata"
   ]
  },
  {
   "cell_type": "code",
   "execution_count": 4,
   "id": "f6f5f570",
   "metadata": {},
   "outputs": [
    {
     "name": "stdout",
     "output_type": "stream",
     "text": [
      "<class 'pandas.core.frame.DataFrame'>\n",
      "RangeIndex: 18068 entries, 0 to 18067\n",
      "Data columns (total 4 columns):\n",
      " #   Column    Non-Null Count  Dtype  \n",
      "---  ------    --------------  -----  \n",
      " 0   user_id   18068 non-null  int64  \n",
      " 1   distance  18068 non-null  float64\n",
      " 2   duration  18068 non-null  float64\n",
      " 3   date      18068 non-null  object \n",
      "dtypes: float64(2), int64(1), object(1)\n",
      "memory usage: 564.8+ KB\n"
     ]
    }
   ],
   "source": [
    "rides.info()"
   ]
  },
  {
   "cell_type": "markdown",
   "id": "62ab6bb0",
   "metadata": {},
   "source": [
    "### Subscriptions dataframe"
   ]
  },
  {
   "cell_type": "code",
   "execution_count": 5,
   "id": "a48df9f0",
   "metadata": {},
   "outputs": [
    {
     "data": {
      "text/html": [
       "<div>\n",
       "<style scoped>\n",
       "    .dataframe tbody tr th:only-of-type {\n",
       "        vertical-align: middle;\n",
       "    }\n",
       "\n",
       "    .dataframe tbody tr th {\n",
       "        vertical-align: top;\n",
       "    }\n",
       "\n",
       "    .dataframe thead th {\n",
       "        text-align: right;\n",
       "    }\n",
       "</style>\n",
       "<table border=\"1\" class=\"dataframe\">\n",
       "  <thead>\n",
       "    <tr style=\"text-align: right;\">\n",
       "      <th></th>\n",
       "      <th>subscription_type</th>\n",
       "      <th>minute_price</th>\n",
       "      <th>start_ride_price</th>\n",
       "      <th>subscription_fee</th>\n",
       "    </tr>\n",
       "  </thead>\n",
       "  <tbody>\n",
       "    <tr>\n",
       "      <th>0</th>\n",
       "      <td>free</td>\n",
       "      <td>8</td>\n",
       "      <td>50</td>\n",
       "      <td>0</td>\n",
       "    </tr>\n",
       "    <tr>\n",
       "      <th>1</th>\n",
       "      <td>ultra</td>\n",
       "      <td>6</td>\n",
       "      <td>0</td>\n",
       "      <td>199</td>\n",
       "    </tr>\n",
       "  </tbody>\n",
       "</table>\n",
       "</div>"
      ],
      "text/plain": [
       "  subscription_type  minute_price  start_ride_price  subscription_fee\n",
       "0              free             8                50                 0\n",
       "1             ultra             6                 0               199"
      ]
     },
     "execution_count": 5,
     "metadata": {},
     "output_type": "execute_result"
    }
   ],
   "source": [
    "plans.head()"
   ]
  },
  {
   "cell_type": "markdown",
   "id": "4d62e252",
   "metadata": {},
   "source": [
    "#### Subscriptions metadata"
   ]
  },
  {
   "cell_type": "code",
   "execution_count": 6,
   "id": "4338ca67",
   "metadata": {},
   "outputs": [
    {
     "name": "stdout",
     "output_type": "stream",
     "text": [
      "<class 'pandas.core.frame.DataFrame'>\n",
      "RangeIndex: 2 entries, 0 to 1\n",
      "Data columns (total 4 columns):\n",
      " #   Column             Non-Null Count  Dtype \n",
      "---  ------             --------------  ----- \n",
      " 0   subscription_type  2 non-null      object\n",
      " 1   minute_price       2 non-null      int64 \n",
      " 2   start_ride_price   2 non-null      int64 \n",
      " 3   subscription_fee   2 non-null      int64 \n",
      "dtypes: int64(3), object(1)\n",
      "memory usage: 192.0+ bytes\n"
     ]
    }
   ],
   "source": [
    "plans.info()"
   ]
  },
  {
   "cell_type": "markdown",
   "id": "ce05fed0",
   "metadata": {},
   "source": [
    "### Users dataframe"
   ]
  },
  {
   "cell_type": "code",
   "execution_count": 7,
   "id": "6578c2f0",
   "metadata": {
    "scrolled": false
   },
   "outputs": [
    {
     "data": {
      "text/html": [
       "<div>\n",
       "<style scoped>\n",
       "    .dataframe tbody tr th:only-of-type {\n",
       "        vertical-align: middle;\n",
       "    }\n",
       "\n",
       "    .dataframe tbody tr th {\n",
       "        vertical-align: top;\n",
       "    }\n",
       "\n",
       "    .dataframe thead th {\n",
       "        text-align: right;\n",
       "    }\n",
       "</style>\n",
       "<table border=\"1\" class=\"dataframe\">\n",
       "  <thead>\n",
       "    <tr style=\"text-align: right;\">\n",
       "      <th></th>\n",
       "      <th>user_id</th>\n",
       "      <th>name</th>\n",
       "      <th>age</th>\n",
       "      <th>city</th>\n",
       "      <th>subscription_type</th>\n",
       "    </tr>\n",
       "  </thead>\n",
       "  <tbody>\n",
       "    <tr>\n",
       "      <th>0</th>\n",
       "      <td>1</td>\n",
       "      <td>Kristen Martin</td>\n",
       "      <td>22</td>\n",
       "      <td>Vilnius</td>\n",
       "      <td>ultra</td>\n",
       "    </tr>\n",
       "    <tr>\n",
       "      <th>1</th>\n",
       "      <td>2</td>\n",
       "      <td>Jason Leblanc</td>\n",
       "      <td>31</td>\n",
       "      <td>Kaunas</td>\n",
       "      <td>ultra</td>\n",
       "    </tr>\n",
       "    <tr>\n",
       "      <th>2</th>\n",
       "      <td>3</td>\n",
       "      <td>Mark Hunter</td>\n",
       "      <td>20</td>\n",
       "      <td>Warsaw</td>\n",
       "      <td>ultra</td>\n",
       "    </tr>\n",
       "    <tr>\n",
       "      <th>3</th>\n",
       "      <td>4</td>\n",
       "      <td>Elizabeth Davidson</td>\n",
       "      <td>26</td>\n",
       "      <td>Krakow</td>\n",
       "      <td>ultra</td>\n",
       "    </tr>\n",
       "    <tr>\n",
       "      <th>4</th>\n",
       "      <td>5</td>\n",
       "      <td>Kelli Montoya</td>\n",
       "      <td>28</td>\n",
       "      <td>Kaunas</td>\n",
       "      <td>ultra</td>\n",
       "    </tr>\n",
       "  </tbody>\n",
       "</table>\n",
       "</div>"
      ],
      "text/plain": [
       "   user_id                name  age     city subscription_type\n",
       "0        1      Kristen Martin   22  Vilnius             ultra\n",
       "1        2       Jason Leblanc   31   Kaunas             ultra\n",
       "2        3         Mark Hunter   20   Warsaw             ultra\n",
       "3        4  Elizabeth Davidson   26   Krakow             ultra\n",
       "4        5       Kelli Montoya   28   Kaunas             ultra"
      ]
     },
     "execution_count": 7,
     "metadata": {},
     "output_type": "execute_result"
    }
   ],
   "source": [
    "users.head()"
   ]
  },
  {
   "cell_type": "markdown",
   "id": "8034103f",
   "metadata": {},
   "source": [
    "#### Users metadata"
   ]
  },
  {
   "cell_type": "code",
   "execution_count": 8,
   "id": "21312287",
   "metadata": {
    "scrolled": true
   },
   "outputs": [
    {
     "name": "stdout",
     "output_type": "stream",
     "text": [
      "<class 'pandas.core.frame.DataFrame'>\n",
      "RangeIndex: 1565 entries, 0 to 1564\n",
      "Data columns (total 5 columns):\n",
      " #   Column             Non-Null Count  Dtype \n",
      "---  ------             --------------  ----- \n",
      " 0   user_id            1565 non-null   int64 \n",
      " 1   name               1565 non-null   object\n",
      " 2   age                1565 non-null   int64 \n",
      " 3   city               1565 non-null   object\n",
      " 4   subscription_type  1565 non-null   object\n",
      "dtypes: int64(2), object(3)\n",
      "memory usage: 61.3+ KB\n"
     ]
    }
   ],
   "source": [
    "users.info()"
   ]
  },
  {
   "cell_type": "markdown",
   "id": "898755f1",
   "metadata": {},
   "source": [
    "### Notes about dataframes metadata\n",
    "1. There are no missing values in the tables\n",
    "2. In the ```rides``` table, one needs to change the data type for the ```date``` field\n",
    "3. Renaming columns is not required\n",
    "4. Tables can be joined via ```merge() and join()``` by ```user_id and subscription_type``` fields"
   ]
  },
  {
   "cell_type": "markdown",
   "id": "ca754f09",
   "metadata": {},
   "source": [
    "### Histograms on dataframes"
   ]
  },
  {
   "cell_type": "code",
   "execution_count": 9,
   "id": "7fc5ef1a",
   "metadata": {
    "scrolled": false
   },
   "outputs": [
    {
     "data": {
      "image/png": "[encoded data removed]",
      "text/plain": [
       "<Figure size 1000x1000 with 4 Axes>"
      ]
     },
     "metadata": {},
     "output_type": "display_data"
    }
   ],
   "source": [
    "rides.hist(bins=15, figsize=(10, 10), edgecolor='black');"
   ]
  },
  {
   "cell_type": "markdown",
   "id": "fa33afa3",
   "metadata": {},
   "source": [
    "#### About histograms\n",
    "1. ```Distance``` histogram shows that most often users cover 3 km on scooters and there are 4 thousand such trips.\n",
    "2. The ````Duration```` bar graph shows that there were 3000 trips of approximately 18 minutes, as well as about 400 trips of approximately 32 minutes."
   ]
  },
  {
   "cell_type": "markdown",
   "id": "2554b7b5",
   "metadata": {},
   "source": [
    "### **Primary conclusions about tables**\n",
    "\n",
    "1. Tables do not contain missing values\n",
    "2. Just one field ```date``` in the table ```rides``` requires changing the data type\n",
    "3. Histograms allow you to form some primary conclusions that:\n",
    "     - There are over 3 thousand users whose trips last just under 20 minutes\n",
    "     - There are no more than a thousand users whose trips last only from 1 to 5 minutes\n",
    "     - There are 4 thousand users whose travel distance is 4 km\n",
    "     - There are service lovers, there are only about 150 such users and they travel up to 6.5 kilometers"
   ]
  },
  {
   "cell_type": "markdown",
   "id": "6d8c8636",
   "metadata": {},
   "source": [
    "## **Data preprocessing**"
   ]
  },
  {
   "cell_type": "markdown",
   "id": "9f65b8c2",
   "metadata": {},
   "source": [
    "### Data types conversions\n",
    "\n",
    "```date``` to be converted in ```rides``` dataframe"
   ]
  },
  {
   "cell_type": "code",
   "execution_count": 10,
   "id": "12c4d97f",
   "metadata": {},
   "outputs": [],
   "source": [
    "#'date' convert from object to datetime64[ns]\n",
    "rides['date'] = pd.to_datetime(rides['date'], format='%Y-%m-%dT%H:%M:%S')"
   ]
  },
  {
   "cell_type": "code",
   "execution_count": 11,
   "id": "246436b0",
   "metadata": {},
   "outputs": [
    {
     "name": "stdout",
     "output_type": "stream",
     "text": [
      "<class 'pandas.core.frame.DataFrame'>\n",
      "RangeIndex: 18068 entries, 0 to 18067\n",
      "Data columns (total 4 columns):\n",
      " #   Column    Non-Null Count  Dtype         \n",
      "---  ------    --------------  -----         \n",
      " 0   user_id   18068 non-null  int64         \n",
      " 1   distance  18068 non-null  float64       \n",
      " 2   duration  18068 non-null  float64       \n",
      " 3   date      18068 non-null  datetime64[ns]\n",
      "dtypes: datetime64[ns](1), float64(2), int64(1)\n",
      "memory usage: 564.8 KB\n"
     ]
    }
   ],
   "source": [
    "#let's check changes\n",
    "rides.info()"
   ]
  },
  {
   "cell_type": "code",
   "execution_count": 12,
   "id": "1bddbf2e",
   "metadata": {},
   "outputs": [
    {
     "data": {
      "text/html": [
       "<div>\n",
       "<style scoped>\n",
       "    .dataframe tbody tr th:only-of-type {\n",
       "        vertical-align: middle;\n",
       "    }\n",
       "\n",
       "    .dataframe tbody tr th {\n",
       "        vertical-align: top;\n",
       "    }\n",
       "\n",
       "    .dataframe thead th {\n",
       "        text-align: right;\n",
       "    }\n",
       "</style>\n",
       "<table border=\"1\" class=\"dataframe\">\n",
       "  <thead>\n",
       "    <tr style=\"text-align: right;\">\n",
       "      <th></th>\n",
       "      <th>user_id</th>\n",
       "      <th>distance</th>\n",
       "      <th>duration</th>\n",
       "      <th>date</th>\n",
       "    </tr>\n",
       "  </thead>\n",
       "  <tbody>\n",
       "    <tr>\n",
       "      <th>0</th>\n",
       "      <td>1</td>\n",
       "      <td>4409.919140</td>\n",
       "      <td>25.599769</td>\n",
       "      <td>2021-01-01</td>\n",
       "    </tr>\n",
       "    <tr>\n",
       "      <th>1</th>\n",
       "      <td>1</td>\n",
       "      <td>2617.592153</td>\n",
       "      <td>15.816871</td>\n",
       "      <td>2021-01-18</td>\n",
       "    </tr>\n",
       "    <tr>\n",
       "      <th>2</th>\n",
       "      <td>1</td>\n",
       "      <td>754.159807</td>\n",
       "      <td>6.232113</td>\n",
       "      <td>2021-04-20</td>\n",
       "    </tr>\n",
       "  </tbody>\n",
       "</table>\n",
       "</div>"
      ],
      "text/plain": [
       "   user_id     distance   duration       date\n",
       "0        1  4409.919140  25.599769 2021-01-01\n",
       "1        1  2617.592153  15.816871 2021-01-18\n",
       "2        1   754.159807   6.232113 2021-04-20"
      ]
     },
     "execution_count": 12,
     "metadata": {},
     "output_type": "execute_result"
    }
   ],
   "source": [
    "#quick glance how it looks in the df\n",
    "rides.head(3)"
   ]
  },
  {
   "cell_type": "markdown",
   "id": "6db78326",
   "metadata": {},
   "source": [
    "### New column creation with extracted months numbers"
   ]
  },
  {
   "cell_type": "code",
   "execution_count": 13,
   "id": "8e3840b5",
   "metadata": {},
   "outputs": [
    {
     "data": {
      "text/plain": [
       "Int64Index([2021], dtype='int64', name='date')"
      ]
     },
     "execution_count": 13,
     "metadata": {},
     "output_type": "execute_result"
    }
   ],
   "source": [
    "#here I find unique year values before modifying the column so that it only has month numbers\n",
    "pd.DatetimeIndex(rides['date']).year.unique()"
   ]
  },
  {
   "cell_type": "code",
   "execution_count": 14,
   "id": "6bda1543",
   "metadata": {},
   "outputs": [],
   "source": [
    "#I change the date column in the table so that the month numbers from these dates are displayed\n",
    "rides['date'] = pd.DatetimeIndex(rides['date']).month"
   ]
  },
  {
   "cell_type": "code",
   "execution_count": 15,
   "id": "9de599d9",
   "metadata": {},
   "outputs": [],
   "source": [
    "#I'll change the column name from date to month_no to better understand what the column means\n",
    "rides = rides.rename(columns={'date': 'month_no'})"
   ]
  },
  {
   "cell_type": "code",
   "execution_count": 16,
   "id": "88abe353",
   "metadata": {},
   "outputs": [
    {
     "data": {
      "text/html": [
       "<div>\n",
       "<style scoped>\n",
       "    .dataframe tbody tr th:only-of-type {\n",
       "        vertical-align: middle;\n",
       "    }\n",
       "\n",
       "    .dataframe tbody tr th {\n",
       "        vertical-align: top;\n",
       "    }\n",
       "\n",
       "    .dataframe thead th {\n",
       "        text-align: right;\n",
       "    }\n",
       "</style>\n",
       "<table border=\"1\" class=\"dataframe\">\n",
       "  <thead>\n",
       "    <tr style=\"text-align: right;\">\n",
       "      <th></th>\n",
       "      <th>user_id</th>\n",
       "      <th>distance</th>\n",
       "      <th>duration</th>\n",
       "      <th>month_no</th>\n",
       "    </tr>\n",
       "  </thead>\n",
       "  <tbody>\n",
       "    <tr>\n",
       "      <th>0</th>\n",
       "      <td>1</td>\n",
       "      <td>4409.919140</td>\n",
       "      <td>25.599769</td>\n",
       "      <td>1</td>\n",
       "    </tr>\n",
       "    <tr>\n",
       "      <th>1</th>\n",
       "      <td>1</td>\n",
       "      <td>2617.592153</td>\n",
       "      <td>15.816871</td>\n",
       "      <td>1</td>\n",
       "    </tr>\n",
       "    <tr>\n",
       "      <th>2</th>\n",
       "      <td>1</td>\n",
       "      <td>754.159807</td>\n",
       "      <td>6.232113</td>\n",
       "      <td>4</td>\n",
       "    </tr>\n",
       "    <tr>\n",
       "      <th>3</th>\n",
       "      <td>1</td>\n",
       "      <td>2694.783254</td>\n",
       "      <td>18.511000</td>\n",
       "      <td>8</td>\n",
       "    </tr>\n",
       "    <tr>\n",
       "      <th>4</th>\n",
       "      <td>1</td>\n",
       "      <td>4028.687306</td>\n",
       "      <td>26.265803</td>\n",
       "      <td>8</td>\n",
       "    </tr>\n",
       "  </tbody>\n",
       "</table>\n",
       "</div>"
      ],
      "text/plain": [
       "   user_id     distance   duration  month_no\n",
       "0        1  4409.919140  25.599769         1\n",
       "1        1  2617.592153  15.816871         1\n",
       "2        1   754.159807   6.232113         4\n",
       "3        1  2694.783254  18.511000         8\n",
       "4        1  4028.687306  26.265803         8"
      ]
     },
     "execution_count": 16,
     "metadata": {},
     "output_type": "execute_result"
    }
   ],
   "source": [
    "#and see how the table looks now\n",
    "rides.head()"
   ]
  },
  {
   "cell_type": "markdown",
   "id": "4d7a1ab1",
   "metadata": {},
   "source": [
    "### Find and eliminate duplicates\n",
    "\n",
    "#### Finding obvious explicit in all tables"
   ]
  },
  {
   "cell_type": "code",
   "execution_count": 17,
   "id": "46c5e0c1",
   "metadata": {},
   "outputs": [
    {
     "data": {
      "text/plain": [
       "0"
      ]
     },
     "execution_count": 17,
     "metadata": {},
     "output_type": "execute_result"
    }
   ],
   "source": [
    "#number of explicit duplicates in 'rides' table 0\n",
    "rides.duplicated().sum()"
   ]
  },
  {
   "cell_type": "code",
   "execution_count": 18,
   "id": "fd520380",
   "metadata": {},
   "outputs": [
    {
     "data": {
      "text/plain": [
       "0"
      ]
     },
     "execution_count": 18,
     "metadata": {},
     "output_type": "execute_result"
    }
   ],
   "source": [
    "#number of explicit duplicates in the 'plans' table 0\n",
    "plans.duplicated().sum()"
   ]
  },
  {
   "cell_type": "code",
   "execution_count": 19,
   "id": "19b240da",
   "metadata": {},
   "outputs": [
    {
     "data": {
      "text/plain": [
       "31"
      ]
     },
     "execution_count": 19,
     "metadata": {},
     "output_type": "execute_result"
    }
   ],
   "source": [
    "#number of explicit duplicates in 'users' table 31\n",
    "users.duplicated().sum()"
   ]
  },
  {
   "cell_type": "code",
   "execution_count": 20,
   "id": "8c50f02e",
   "metadata": {},
   "outputs": [
    {
     "data": {
      "text/html": [
       "<div>\n",
       "<style scoped>\n",
       "    .dataframe tbody tr th:only-of-type {\n",
       "        vertical-align: middle;\n",
       "    }\n",
       "\n",
       "    .dataframe tbody tr th {\n",
       "        vertical-align: top;\n",
       "    }\n",
       "\n",
       "    .dataframe thead th {\n",
       "        text-align: right;\n",
       "    }\n",
       "</style>\n",
       "<table border=\"1\" class=\"dataframe\">\n",
       "  <thead>\n",
       "    <tr style=\"text-align: right;\">\n",
       "      <th></th>\n",
       "      <th>user_id</th>\n",
       "      <th>name</th>\n",
       "      <th>age</th>\n",
       "      <th>city</th>\n",
       "      <th>subscription_type</th>\n",
       "    </tr>\n",
       "  </thead>\n",
       "  <tbody>\n",
       "    <tr>\n",
       "      <th>1534</th>\n",
       "      <td>293</td>\n",
       "      <td>Ellen Briggs</td>\n",
       "      <td>26</td>\n",
       "      <td>Dresden</td>\n",
       "      <td>ultra</td>\n",
       "    </tr>\n",
       "    <tr>\n",
       "      <th>1535</th>\n",
       "      <td>16</td>\n",
       "      <td>Michelle Potts</td>\n",
       "      <td>27</td>\n",
       "      <td>Dresden</td>\n",
       "      <td>ultra</td>\n",
       "    </tr>\n",
       "    <tr>\n",
       "      <th>1536</th>\n",
       "      <td>909</td>\n",
       "      <td>Elizabeth Davidson</td>\n",
       "      <td>20</td>\n",
       "      <td>Frankfurt-am-Main</td>\n",
       "      <td>free</td>\n",
       "    </tr>\n",
       "    <tr>\n",
       "      <th>1537</th>\n",
       "      <td>403</td>\n",
       "      <td>Christine Moon</td>\n",
       "      <td>19</td>\n",
       "      <td>Munich</td>\n",
       "      <td>ultra</td>\n",
       "    </tr>\n",
       "    <tr>\n",
       "      <th>1538</th>\n",
       "      <td>908</td>\n",
       "      <td>James Vasquez</td>\n",
       "      <td>30</td>\n",
       "      <td>Vilnius</td>\n",
       "      <td>free</td>\n",
       "    </tr>\n",
       "    <tr>\n",
       "      <th>1539</th>\n",
       "      <td>43</td>\n",
       "      <td>Kelsey Patterson</td>\n",
       "      <td>22</td>\n",
       "      <td>Kaunas</td>\n",
       "      <td>ultra</td>\n",
       "    </tr>\n",
       "    <tr>\n",
       "      <th>1540</th>\n",
       "      <td>127</td>\n",
       "      <td>Melissa Rodriguez</td>\n",
       "      <td>25</td>\n",
       "      <td>Berlin</td>\n",
       "      <td>ultra</td>\n",
       "    </tr>\n",
       "    <tr>\n",
       "      <th>1541</th>\n",
       "      <td>659</td>\n",
       "      <td>Devin Medina</td>\n",
       "      <td>27</td>\n",
       "      <td>Krakow</td>\n",
       "      <td>ultra</td>\n",
       "    </tr>\n",
       "    <tr>\n",
       "      <th>1542</th>\n",
       "      <td>204</td>\n",
       "      <td>David Spencer</td>\n",
       "      <td>30</td>\n",
       "      <td>Berlin</td>\n",
       "      <td>ultra</td>\n",
       "    </tr>\n",
       "    <tr>\n",
       "      <th>1543</th>\n",
       "      <td>153</td>\n",
       "      <td>David Murphy</td>\n",
       "      <td>23</td>\n",
       "      <td>Warsaw</td>\n",
       "      <td>ultra</td>\n",
       "    </tr>\n",
       "    <tr>\n",
       "      <th>1544</th>\n",
       "      <td>1245</td>\n",
       "      <td>Matthew Sampson</td>\n",
       "      <td>27</td>\n",
       "      <td>Berlin</td>\n",
       "      <td>free</td>\n",
       "    </tr>\n",
       "    <tr>\n",
       "      <th>1545</th>\n",
       "      <td>807</td>\n",
       "      <td>Melissa Malone</td>\n",
       "      <td>28</td>\n",
       "      <td>Frankfurt-am-Main</td>\n",
       "      <td>free</td>\n",
       "    </tr>\n",
       "    <tr>\n",
       "      <th>1546</th>\n",
       "      <td>924</td>\n",
       "      <td>Michelle Gibson</td>\n",
       "      <td>23</td>\n",
       "      <td>Berlin</td>\n",
       "      <td>free</td>\n",
       "    </tr>\n",
       "    <tr>\n",
       "      <th>1547</th>\n",
       "      <td>635</td>\n",
       "      <td>David Murphy</td>\n",
       "      <td>21</td>\n",
       "      <td>Warsaw</td>\n",
       "      <td>ultra</td>\n",
       "    </tr>\n",
       "    <tr>\n",
       "      <th>1548</th>\n",
       "      <td>136</td>\n",
       "      <td>Katrina Williamson</td>\n",
       "      <td>25</td>\n",
       "      <td>Vilnius</td>\n",
       "      <td>ultra</td>\n",
       "    </tr>\n",
       "    <tr>\n",
       "      <th>1549</th>\n",
       "      <td>108</td>\n",
       "      <td>Vickie Williams</td>\n",
       "      <td>29</td>\n",
       "      <td>Vilnius</td>\n",
       "      <td>ultra</td>\n",
       "    </tr>\n",
       "    <tr>\n",
       "      <th>1550</th>\n",
       "      <td>737</td>\n",
       "      <td>Thomas Young</td>\n",
       "      <td>27</td>\n",
       "      <td>Krakow</td>\n",
       "      <td>free</td>\n",
       "    </tr>\n",
       "    <tr>\n",
       "      <th>1551</th>\n",
       "      <td>666</td>\n",
       "      <td>Joseph Hall</td>\n",
       "      <td>29</td>\n",
       "      <td>Warsaw</td>\n",
       "      <td>ultra</td>\n",
       "    </tr>\n",
       "    <tr>\n",
       "      <th>1552</th>\n",
       "      <td>297</td>\n",
       "      <td>Felicia Donovan</td>\n",
       "      <td>33</td>\n",
       "      <td>Berlin</td>\n",
       "      <td>ultra</td>\n",
       "    </tr>\n",
       "    <tr>\n",
       "      <th>1553</th>\n",
       "      <td>121</td>\n",
       "      <td>Wesley Morales</td>\n",
       "      <td>25</td>\n",
       "      <td>Berlin</td>\n",
       "      <td>ultra</td>\n",
       "    </tr>\n",
       "    <tr>\n",
       "      <th>1554</th>\n",
       "      <td>1198</td>\n",
       "      <td>Heather Diaz</td>\n",
       "      <td>29</td>\n",
       "      <td>Krakow</td>\n",
       "      <td>free</td>\n",
       "    </tr>\n",
       "    <tr>\n",
       "      <th>1555</th>\n",
       "      <td>72</td>\n",
       "      <td>Alexa Jones</td>\n",
       "      <td>25</td>\n",
       "      <td>Warsaw</td>\n",
       "      <td>ultra</td>\n",
       "    </tr>\n",
       "    <tr>\n",
       "      <th>1556</th>\n",
       "      <td>422</td>\n",
       "      <td>Debra Perez</td>\n",
       "      <td>27</td>\n",
       "      <td>Munich</td>\n",
       "      <td>ultra</td>\n",
       "    </tr>\n",
       "    <tr>\n",
       "      <th>1557</th>\n",
       "      <td>611</td>\n",
       "      <td>Kristina Bradley</td>\n",
       "      <td>28</td>\n",
       "      <td>Kaunas</td>\n",
       "      <td>ultra</td>\n",
       "    </tr>\n",
       "    <tr>\n",
       "      <th>1558</th>\n",
       "      <td>1237</td>\n",
       "      <td>Savannah Neal</td>\n",
       "      <td>23</td>\n",
       "      <td>Vilnius</td>\n",
       "      <td>free</td>\n",
       "    </tr>\n",
       "    <tr>\n",
       "      <th>1559</th>\n",
       "      <td>209</td>\n",
       "      <td>Courtney Lewis</td>\n",
       "      <td>23</td>\n",
       "      <td>Kaunas</td>\n",
       "      <td>ultra</td>\n",
       "    </tr>\n",
       "    <tr>\n",
       "      <th>1560</th>\n",
       "      <td>829</td>\n",
       "      <td>Justin Martinez</td>\n",
       "      <td>29</td>\n",
       "      <td>Berlin</td>\n",
       "      <td>free</td>\n",
       "    </tr>\n",
       "    <tr>\n",
       "      <th>1561</th>\n",
       "      <td>809</td>\n",
       "      <td>Ann Silva</td>\n",
       "      <td>26</td>\n",
       "      <td>Munich</td>\n",
       "      <td>free</td>\n",
       "    </tr>\n",
       "    <tr>\n",
       "      <th>1562</th>\n",
       "      <td>307</td>\n",
       "      <td>Christina Reyes</td>\n",
       "      <td>19</td>\n",
       "      <td>Dresden</td>\n",
       "      <td>ultra</td>\n",
       "    </tr>\n",
       "    <tr>\n",
       "      <th>1563</th>\n",
       "      <td>47</td>\n",
       "      <td>Ann Silva</td>\n",
       "      <td>28</td>\n",
       "      <td>Vilnius</td>\n",
       "      <td>ultra</td>\n",
       "    </tr>\n",
       "    <tr>\n",
       "      <th>1564</th>\n",
       "      <td>1045</td>\n",
       "      <td>Kim Kelley</td>\n",
       "      <td>28</td>\n",
       "      <td>Krakow</td>\n",
       "      <td>free</td>\n",
       "    </tr>\n",
       "  </tbody>\n",
       "</table>\n",
       "</div>"
      ],
      "text/plain": [
       "      user_id                name  age               city subscription_type\n",
       "1534      293        Ellen Briggs   26            Dresden             ultra\n",
       "1535       16      Michelle Potts   27            Dresden             ultra\n",
       "1536      909  Elizabeth Davidson   20  Frankfurt-am-Main              free\n",
       "1537      403      Christine Moon   19             Munich             ultra\n",
       "1538      908       James Vasquez   30            Vilnius              free\n",
       "1539       43    Kelsey Patterson   22             Kaunas             ultra\n",
       "1540      127   Melissa Rodriguez   25             Berlin             ultra\n",
       "1541      659        Devin Medina   27             Krakow             ultra\n",
       "1542      204       David Spencer   30             Berlin             ultra\n",
       "1543      153        David Murphy   23             Warsaw             ultra\n",
       "1544     1245     Matthew Sampson   27             Berlin              free\n",
       "1545      807      Melissa Malone   28  Frankfurt-am-Main              free\n",
       "1546      924     Michelle Gibson   23             Berlin              free\n",
       "1547      635        David Murphy   21             Warsaw             ultra\n",
       "1548      136  Katrina Williamson   25            Vilnius             ultra\n",
       "1549      108     Vickie Williams   29            Vilnius             ultra\n",
       "1550      737        Thomas Young   27             Krakow              free\n",
       "1551      666         Joseph Hall   29             Warsaw             ultra\n",
       "1552      297     Felicia Donovan   33             Berlin             ultra\n",
       "1553      121      Wesley Morales   25             Berlin             ultra\n",
       "1554     1198        Heather Diaz   29             Krakow              free\n",
       "1555       72         Alexa Jones   25             Warsaw             ultra\n",
       "1556      422         Debra Perez   27             Munich             ultra\n",
       "1557      611    Kristina Bradley   28             Kaunas             ultra\n",
       "1558     1237       Savannah Neal   23            Vilnius              free\n",
       "1559      209      Courtney Lewis   23             Kaunas             ultra\n",
       "1560      829     Justin Martinez   29             Berlin              free\n",
       "1561      809           Ann Silva   26             Munich              free\n",
       "1562      307     Christina Reyes   19            Dresden             ultra\n",
       "1563       47           Ann Silva   28            Vilnius             ultra\n",
       "1564     1045          Kim Kelley   28             Krakow              free"
      ]
     },
     "execution_count": 20,
     "metadata": {},
     "output_type": "execute_result"
    }
   ],
   "source": [
    "#I will display a list of obvious duplicates in the 'users' table\n",
    "clear_duplicates = users[users.duplicated()]\n",
    "clear_duplicates"
   ]
  },
  {
   "cell_type": "code",
   "execution_count": 21,
   "id": "3cd3d488",
   "metadata": {},
   "outputs": [],
   "source": [
    "#I will remove obvious duplicates from the 'users' table and rewrite the indexes\n",
    "users = users.drop_duplicates().reset_index(drop=True)"
   ]
  },
  {
   "cell_type": "code",
   "execution_count": 22,
   "id": "d7591a43",
   "metadata": {},
   "outputs": [
    {
     "data": {
      "text/plain": [
       "0"
      ]
     },
     "execution_count": 22,
     "metadata": {},
     "output_type": "execute_result"
    }
   ],
   "source": [
    "#I'll check if there are any duplicates.\n",
    "users.duplicated().sum()"
   ]
  },
  {
   "cell_type": "markdown",
   "id": "94b888d2",
   "metadata": {},
   "source": [
    "#### Find implicit duplicates in all tables\n",
    "\n",
    "Regarding implicit duplicates:\n",
    "1. It is not advisable to look for obvious duplicates in any table. The tables may contain users with the same names, with the same travel distance - all this is normal and does not go out of scope"
   ]
  },
  {
   "cell_type": "markdown",
   "id": "a8b331d5",
   "metadata": {},
   "source": [
    "### Search for anomalies"
   ]
  },
  {
   "cell_type": "markdown",
   "id": "7c4f4e76",
   "metadata": {},
   "source": [
    "1. Anomaly plan:\n",
    "     - ```age``` column in ```users```\n",
    "     - ```distance``` and ```duration``` columns in ```rides```"
   ]
  },
  {
   "cell_type": "markdown",
   "id": "7ba8ee5d",
   "metadata": {},
   "source": [
    "#### Box plot ```users``` for age"
   ]
  },
  {
   "cell_type": "code",
   "execution_count": 23,
   "id": "05a4d464",
   "metadata": {},
   "outputs": [
    {
     "data": {
      "image/png": "[encoded data removed]",
      "text/plain": [
       "<Figure size 640x480 with 1 Axes>"
      ]
     },
     "metadata": {},
     "output_type": "display_data"
    }
   ],
   "source": [
    "#I assign a Series object to the variable, in which the data from the 'age' column from users\n",
    "#to see the box plot for this column only\n",
    "users_age = pd.Series([users['age']])\n",
    "\n",
    "#I pass a variable with the necessary data to the method\n",
    "plt.boxplot(users_age)\n",
    "#adjust the size of the Y axis\n",
    "plt.ylim(bottom=10, top=45)\n",
    "#Y axis name\n",
    "plt.ylabel('Age')\n",
    "#boxplot's title\n",
    "plt.title('Users age boxplot graph');"
   ]
  },
  {
   "cell_type": "code",
   "execution_count": 24,
   "id": "75b68673",
   "metadata": {
    "scrolled": true
   },
   "outputs": [
    {
     "data": {
      "text/plain": [
       "count    1534.000000\n",
       "mean       24.903520\n",
       "std         4.572367\n",
       "min        12.000000\n",
       "25%        22.000000\n",
       "50%        25.000000\n",
       "75%        28.000000\n",
       "max        43.000000\n",
       "Name: age, dtype: float64"
      ]
     },
     "execution_count": 24,
     "metadata": {},
     "output_type": "execute_result"
    }
   ],
   "source": [
    "#let's also look at the response to the call to the describe() method on 'age'\n",
    "users['age'].describe()"
   ]
  },
  {
   "cell_type": "markdown",
   "id": "9b2f94aa",
   "metadata": {},
   "source": [
    "##### Comments about the diagram\n",
    "\n",
    "1. Anomalies are traced at the lower and upper boundaries of the data.\n",
    "2. There are 12 users whose age is less than 14 years old. (found out via query()).\n",
    "3. There are 5 users whose age is greater than or equal to 38 years. (found out via query()).\n",
    "4. The average age of users is almost 25 years.\n",
    "5. The youngest user is 12 years old.\n",
    "6. There is a user aged 43 years."
   ]
  },
  {
   "cell_type": "markdown",
   "id": "e253428c",
   "metadata": {},
   "source": [
    "#### Box plot ```rides``` for distance"
   ]
  },
  {
   "cell_type": "code",
   "execution_count": 25,
   "id": "332a1cd4",
   "metadata": {},
   "outputs": [
    {
     "data": {
      "image/png": "[encoded data removed]",
      "text/plain": [
       "<Figure size 640x480 with 1 Axes>"
      ]
     },
     "metadata": {},
     "output_type": "display_data"
    }
   ],
   "source": [
    "rides_distance = pd.Series([rides['distance']])\n",
    "\n",
    "#I pass a variable with the necessary data to the method\n",
    "plt.boxplot(rides_distance)\n",
    "#adjust the size of the Y axis\n",
    "plt.ylim(bottom=0, top=8000)\n",
    "#name for the Y axis\n",
    "plt.ylabel('Distance')\n",
    "#title\n",
    "plt.title('Distance anomlaies');"
   ]
  },
  {
   "cell_type": "code",
   "execution_count": 26,
   "id": "e903524a",
   "metadata": {
    "scrolled": false
   },
   "outputs": [
    {
     "data": {
      "text/plain": [
       "count    18068.000000\n",
       "mean      3070.659976\n",
       "std       1116.831209\n",
       "min          0.855683\n",
       "25%       2543.226360\n",
       "50%       3133.609994\n",
       "75%       3776.222735\n",
       "max       7211.007745\n",
       "Name: distance, dtype: float64"
      ]
     },
     "execution_count": 26,
     "metadata": {},
     "output_type": "execute_result"
    }
   ],
   "source": [
    "#let's also look at the response to the call to the describe() method on 'distance'\n",
    "rides['distance'].describe()"
   ]
  },
  {
   "cell_type": "markdown",
   "id": "8bd2a511",
   "metadata": {},
   "source": [
    "##### Comments about the diagram\n",
    "\n",
    "1. Anomalies up to 700 meters are traced at the lower boundary and over 5600 at the upper boundary. I will leave data from 700 to 5600 meters\n",
    "2. Average distance is 3070 meters\n",
    "3. The median is 3133 meters\n",
    "4. Minimum 85 meters\n",
    "5. Maximum 7200 meters"
   ]
  },
  {
   "cell_type": "markdown",
   "id": "b7475790",
   "metadata": {},
   "source": [
    "#### Box plot```rides``` for rides duration"
   ]
  },
  {
   "cell_type": "code",
   "execution_count": 27,
   "id": "9e16e3ff",
   "metadata": {
    "scrolled": false
   },
   "outputs": [
    {
     "data": {
      "image/png": "[encoded data removed]",
      "text/plain": [
       "<Figure size 640x480 with 1 Axes>"
      ]
     },
     "metadata": {},
     "output_type": "display_data"
    }
   ],
   "source": [
    "rides_duration = pd.Series([rides['duration']])\n",
    "\n",
    "#I pass a variable with the necessary data to the method\n",
    "plt.boxplot(rides_duration)\n",
    "#adjust the size of the Y axis\n",
    "plt.ylim(bottom=0, top=45)\n",
    "#name for the Y axis\n",
    "plt.ylabel('Duration')\n",
    "#title\n",
    "plt.title('Duration anomalies');"
   ]
  },
  {
   "cell_type": "code",
   "execution_count": 28,
   "id": "861ed903",
   "metadata": {
    "scrolled": false
   },
   "outputs": [
    {
     "data": {
      "text/plain": [
       "count    18068.000000\n",
       "mean        17.805011\n",
       "std          6.091051\n",
       "min          0.500000\n",
       "25%         13.597563\n",
       "50%         17.678395\n",
       "75%         21.724800\n",
       "max         40.823963\n",
       "Name: duration, dtype: float64"
      ]
     },
     "execution_count": 28,
     "metadata": {},
     "output_type": "execute_result"
    }
   ],
   "source": [
    "#describe() for 'duration'\n",
    "rides['duration'].describe()"
   ]
  },
  {
   "cell_type": "markdown",
   "id": "70dcf93e",
   "metadata": {},
   "source": [
    "##### Comments about the diagram\n",
    "\n",
    "1. Anomalies of up to 2 minutes at the lower boundary and over 36 at the upper boundary are traced.\n",
    "2. Average duration is almost 18 minutes\n",
    "3. Median is 17 minutes\n",
    "4. Minimum 50 seconds\n",
    "5. Maximum almost 41 minutes"
   ]
  },
  {
   "cell_type": "markdown",
   "id": "129bf2d7",
   "metadata": {},
   "source": [
    "### **Conclusions after data preprocessing**\n",
    "\n",
    "1. The ```date``` column from the ```rides``` table was converted to datetime64[ns] data type for ease of use\n",
    "2. A new column ```month_number``` was created, which contains the month number taken from the values of the ```date`` column\n",
    "3. 31 obvious duplicates in the ```users``` column have been eliminated, there are no duplicates in the remaining columns\n",
    "4. Anomalies from:\n",
    "     - ```age``` columns in the ```users``` table\n",
    "     - columns ```distance``` and ```duration``` in the ```rides``` table"
   ]
  },
  {
   "cell_type": "markdown",
   "id": "db52ddac",
   "metadata": {},
   "source": [
    "## **Exploratory data analysis**\n",
    "\n",
    "### Study the frequency of occurrence of cities"
   ]
  },
  {
   "cell_type": "code",
   "execution_count": 29,
   "id": "ca37f4e8",
   "metadata": {},
   "outputs": [
    {
     "data": {
      "text/plain": [
       "Berlin               219\n",
       "Frankfurt-am-Main    204\n",
       "Krakow               198\n",
       "Dresden              193\n",
       "Munich               189\n",
       "Kaunas               183\n",
       "Vilnius              180\n",
       "Warsaw               168\n",
       "Name: city, dtype: int64"
      ]
     },
     "execution_count": 29,
     "metadata": {},
     "output_type": "execute_result"
    }
   ],
   "source": [
    "#city frequency table\n",
    "users['city'].value_counts()"
   ]
  },
  {
   "cell_type": "code",
   "execution_count": 30,
   "id": "a1d70c8a",
   "metadata": {},
   "outputs": [
    {
     "data": {
      "image/png": "[encoded data removed]",
      "text/plain": [
       "<Figure size 640x480 with 1 Axes>"
      ]
     },
     "metadata": {},
     "output_type": "display_data"
    }
   ],
   "source": [
    "#using the sorted table obtained using value_counts() I build a vertical bar chart\n",
    "city_frequency = (users['city'].value_counts()\n",
    "                  .sort_values(ascending=True)\n",
    "                  .plot(kind='bar', edgecolor='black', linewidth=1, \n",
    "                        title='City frequence', ylabel='Frequency', xlabel='Cities', grid=True))\n",
    "plt.xticks(rotation=30);"
   ]
  },
  {
   "cell_type": "markdown",
   "id": "cf618d35",
   "metadata": {},
   "source": [
    "#### Comments on the histogram\n",
    "\n",
    "1. The horizontal axis (X) represents cities, the vertical axis (Y) represents the frequency of occurrence of a particular city in this column\n",
    "2. It may be noted:\n",
    "     - Users most actively use scooters in Berlin - 219 mentions\n",
    "     - Moderate use of scooters can be observed in Dresden - 193 mentions\n",
    "     - Lowest activity in using scooters in Warsaw - 168 mentions"
   ]
  },
  {
   "cell_type": "markdown",
   "id": "9a956a29",
   "metadata": {},
   "source": [
    "### Study of the ratio of users with a subscription and without one"
   ]
  },
  {
   "cell_type": "code",
   "execution_count": 31,
   "id": "ad18f632",
   "metadata": {},
   "outputs": [
    {
     "data": {
      "image/png": "[encoded data removed]",
      "text/plain": [
       "<Figure size 800x500 with 1 Axes>"
      ]
     },
     "metadata": {},
     "output_type": "display_data"
    }
   ],
   "source": [
    "#categorical variables. I think it’s a good decision to make a Pie Chart. The ratio is shown both visually and by data\n",
    "\n",
    "#variable with data on the type of subscription and the number of users with a particular subscription\n",
    "subscription_counts = users['subscription_type'].value_counts()\n",
    "\n",
    "#creating a share chart\n",
    "fig, ax = plt.subplots(figsize=(8, 5))\n",
    "\n",
    "#creating a visual effect of separation\n",
    "explode=(0, 0.1)\n",
    "\n",
    "#here a share chart with absolute values is created\n",
    "ax.pie(subscription_counts,\n",
    "        labels=subscription_counts.index,\n",
    "        autopct='%1.1f%%', startangle=90,\n",
    "        explode=explode, shadow=True)\n",
    "\n",
    "#adding a pie chart to the center to show absolute values\n",
    "centre_circle = plt.Circle((0,0),0.70,fc='white')\n",
    "fig = plt.gcf()\n",
    "#let's make space inside\n",
    "fig.gca().add_artist(centre_circle)\n",
    "\n",
    "#display the total number of users in the center\n",
    "total_users = len(users)\n",
    "plt.text(0, 0, f'Total: {total_users}', ha='center', va='center', fontsize=12)\n",
    "\n",
    "#display a circle instead of an ellipse\n",
    "ax.axis('equal')\n",
    "\n",
    "#name of share chart\n",
    "plt.title('Ratio of users with free and ultra subscriptions');"
   ]
  },
  {
   "cell_type": "markdown",
   "id": "e329c4da",
   "metadata": {},
   "source": [
    "#### Comments on the pie chart\n",
    "\n",
    "1. The pie chart shows that there are 1534 total users and:\n",
    "     - Of these, 45.6% are with Ultra subscription - 699 users\n",
    "     - While 54.4% are unsubscribed - 835 users"
   ]
  },
  {
   "cell_type": "markdown",
   "id": "8a4ff9d4",
   "metadata": {},
   "source": [
    "### Users age study"
   ]
  },
  {
   "cell_type": "code",
   "execution_count": 32,
   "id": "aaa6e0d0",
   "metadata": {},
   "outputs": [
    {
     "data": {
      "image/png": "[encoded data removed]",
      "text/plain": [
       "<Figure size 700x500 with 1 Axes>"
      ]
     },
     "metadata": {},
     "output_type": "display_data"
    }
   ],
   "source": [
    "#building a histogram by age\n",
    "#I make the edging of the bins and adjust their width too\n",
    "users['age'].hist(bins=22, figsize=(7, 5), edgecolor='black', linewidth=1, color='orange')\n",
    "#set the name of the Y axis\n",
    "plt.ylabel('Frequency')\n",
    "#set the name of the X axis\n",
    "plt.xlabel('Age')\n",
    "#set the name of the histogram itself\n",
    "plt.title('Age of users');"
   ]
  },
  {
   "cell_type": "code",
   "execution_count": 33,
   "id": "9e9f32fa",
   "metadata": {},
   "outputs": [
    {
     "data": {
      "text/plain": [
       "count    1534.000000\n",
       "mean       24.903520\n",
       "std         4.572367\n",
       "min        12.000000\n",
       "25%        22.000000\n",
       "50%        25.000000\n",
       "75%        28.000000\n",
       "max        43.000000\n",
       "Name: age, dtype: float64"
      ]
     },
     "execution_count": 33,
     "metadata": {},
     "output_type": "execute_result"
    }
   ],
   "source": [
    "#statistics for age\n",
    "users['age'].describe()"
   ]
  },
  {
   "cell_type": "markdown",
   "id": "e05ee238",
   "metadata": {},
   "source": [
    "#### Comments on the histogram\n",
    "1. The horizontal axis (X) represents the age of users, the vertical axis (Y) represents the frequency of occurrence of user ages\n",
    "2. Worth noting:\n",
    "     - Scooters are most popular among 25-year-old users - such users have taken a scooter over 140 times\n",
    "     - Scooters are not much inferior in popularity among 20-24 year old users - in this age range, users also actively take scooters from 70 to 130 times\n",
    "     - A sharp decline in the use of scooters has been observed since 29 years. If 28-year-old users took scooters 112 times, but 29-year-olds already 69 times - an almost 2-fold decline\n",
    "3. We can conclude:\n",
    "     - The most active group of users aged 21 to 28\n",
    "     - The least active group of users, ranging from 33 years and older\n",
    "     - Demand for scooters begins among users from 12-13 years old\n",
    "4. Data from descriptive statistics:\n",
    "     - The average age of users is almost 25 years\n",
    "     - The youngest user is 12 years old\n",
    "     - The oldest is 43 years old"
   ]
  },
  {
   "cell_type": "markdown",
   "id": "9c946598",
   "metadata": {},
   "source": [
    "### One ride distance study"
   ]
  },
  {
   "cell_type": "code",
   "execution_count": 34,
   "id": "cb600d4e",
   "metadata": {},
   "outputs": [
    {
     "data": {
      "image/png": "[encoded data removed]",
      "text/plain": [
       "<Figure size 640x480 with 1 Axes>"
      ]
     },
     "metadata": {},
     "output_type": "display_data"
    }
   ],
   "source": [
    "#building a histogram based on distances\n",
    "#I make the edging of the bins and adjust their width too\n",
    "rides['distance'].hist(bins=17, edgecolor='black', linewidth=1, color='brown')\n",
    "#set the name of the Y axis\n",
    "plt.ylabel('Frequency')\n",
    "#set the name of the X axis\n",
    "plt.xlabel('Distance in meters')\n",
    "#set the name of the histogram itself\n",
    "plt.title('Distance covered by users');"
   ]
  },
  {
   "cell_type": "markdown",
   "id": "7108fe43",
   "metadata": {},
   "source": [
    "#### Comments on the histogram\n",
    "1. The horizontal axis (X) represents distances, the vertical (Y) axis represents the frequency of occurrence of distances\n",
    "2. There are 2 distances that users cover most often:\n",
    "     - Almost 4 thousand users cover a distance of 3 km\n",
    "     - Approximately 3200 users cover a distance of 3600 meters\n",
    "3. It is worth highlighting:\n",
    "     - There are approximately 700 users who cover a distance of ~650 meters\n",
    "     - There are approximately 300 users who cover distances over 5km"
   ]
  },
  {
   "cell_type": "markdown",
   "id": "8da2b091",
   "metadata": {},
   "source": [
    "### Rides duration resarch"
   ]
  },
  {
   "cell_type": "code",
   "execution_count": 35,
   "id": "70503798",
   "metadata": {},
   "outputs": [
    {
     "data": {
      "image/png": "[encoded data removed]",
      "text/plain": [
       "<Figure size 700x500 with 1 Axes>"
      ]
     },
     "metadata": {},
     "output_type": "display_data"
    }
   ],
   "source": [
    "#building a histogram of trip duration\n",
    "#I make the edging of the bins and adjust their width too\n",
    "rides['duration'].hist(figsize=(7, 5), edgecolor='black', linewidth=1, color='green')\n",
    "#set the name of the Y axis\n",
    "plt.ylabel('Frequency')\n",
    "#set the name of the X axis\n",
    "plt.xlabel('Duration in minutes')\n",
    "#set the name of the histogram itself\n",
    "plt.title('Duration of user trips');"
   ]
  },
  {
   "cell_type": "markdown",
   "id": "b10130c6",
   "metadata": {},
   "source": [
    "#### Comments on the histogram\n",
    "1. The horizontal axis (X) represents the duration of trips, the vertical axis (Y) represents the frequency of occurrence of certain durations.\n",
    "2. There are 3 durations that occur most often:\n",
    "     - There were approximately 3,700 trips with a duration of approximately 18 minutes\n",
    "     - There were about 3400 trips with a duration of approximately 15 minutes\n",
    "     - 3200 trips were made with a duration of 21 minutes\n",
    "3. Worth noting:\n",
    "     - There are about 200 trips with a duration of 5 minutes\n",
    "     - There are also about 200 trips with a duration of 33 minutes"
   ]
  },
  {
   "cell_type": "markdown",
   "id": "2777c61f",
   "metadata": {},
   "source": [
    "### **Conclusions after research**\n",
    "\n",
    "1. Research on the frequency of scooter use in different cities:\n",
    "     - Users most actively use scooters in Berlin - 219 mentions\n",
    "     - Lowest activity in using scooters in Warsaw - 168 mentions\n",
    "2. Ratio of users with and without subscription:\n",
    "     - Total users 1517\n",
    "     - Of these, 699 users are with the ```ultra``` subscription, which is 45.6% of all users\n",
    "     - Of these, 835 users are without a ``free`` subscription, which is 54.4% of all users\n",
    "3. Study of the popularity of scooters among users of different ages:\n",
    "     - Scooters are most popular among 25-year-old users - such users have taken a scooter over 140 times\n",
    "     - A sharp decline in the use of scooters has been observed since 29 years. If 28-year-old users took scooters 112 times, but 29-year-olds already 69 times - an almost 2-fold decline\n",
    "4. Study of the distance covered:\n",
    "     - Almost 4 thousand users cover a distance of 3 km\n",
    "     - Approximately 3200 users cover a distance of 3600 meters\n",
    "     - There are approximately 700 users who cover a distance of ~650 meters\n",
    "     - There are approximately 300 users who cover distances over 5km\n",
    "5. Trip duration research:\n",
    "     - There were approximately 3,700 trips with a duration of approximately 18 minutes\n",
    "     - There were about 3400 trips with a duration of approximately 15 minutes\n",
    "     - There are about 200 trips with a duration of 5 minutes and about 200 trips with a duration of 33 minutes"
   ]
  },
  {
   "cell_type": "markdown",
   "id": "c533bfcf",
   "metadata": {},
   "source": [
    "## **Data merging**\n",
    "\n",
    "### Combining user, trip and subscription data"
   ]
  },
  {
   "cell_type": "code",
   "execution_count": 36,
   "id": "b4ce961d",
   "metadata": {
    "scrolled": true
   },
   "outputs": [
    {
     "data": {
      "text/html": [
       "<div>\n",
       "<style scoped>\n",
       "    .dataframe tbody tr th:only-of-type {\n",
       "        vertical-align: middle;\n",
       "    }\n",
       "\n",
       "    .dataframe tbody tr th {\n",
       "        vertical-align: top;\n",
       "    }\n",
       "\n",
       "    .dataframe thead th {\n",
       "        text-align: right;\n",
       "    }\n",
       "</style>\n",
       "<table border=\"1\" class=\"dataframe\">\n",
       "  <thead>\n",
       "    <tr style=\"text-align: right;\">\n",
       "      <th></th>\n",
       "      <th>user_id</th>\n",
       "      <th>distance</th>\n",
       "      <th>duration</th>\n",
       "      <th>month_no</th>\n",
       "      <th>name</th>\n",
       "      <th>age</th>\n",
       "      <th>city</th>\n",
       "      <th>subscription_type</th>\n",
       "      <th>minute_price</th>\n",
       "      <th>start_ride_price</th>\n",
       "      <th>subscription_fee</th>\n",
       "    </tr>\n",
       "  </thead>\n",
       "  <tbody>\n",
       "    <tr>\n",
       "      <th>0</th>\n",
       "      <td>1</td>\n",
       "      <td>4409.919140</td>\n",
       "      <td>25.599769</td>\n",
       "      <td>1</td>\n",
       "      <td>Kristen Martin</td>\n",
       "      <td>22</td>\n",
       "      <td>Vilnius</td>\n",
       "      <td>ultra</td>\n",
       "      <td>6</td>\n",
       "      <td>0</td>\n",
       "      <td>199</td>\n",
       "    </tr>\n",
       "    <tr>\n",
       "      <th>1</th>\n",
       "      <td>1</td>\n",
       "      <td>2617.592153</td>\n",
       "      <td>15.816871</td>\n",
       "      <td>1</td>\n",
       "      <td>Kristen Martin</td>\n",
       "      <td>22</td>\n",
       "      <td>Vilnius</td>\n",
       "      <td>ultra</td>\n",
       "      <td>6</td>\n",
       "      <td>0</td>\n",
       "      <td>199</td>\n",
       "    </tr>\n",
       "    <tr>\n",
       "      <th>2</th>\n",
       "      <td>1</td>\n",
       "      <td>754.159807</td>\n",
       "      <td>6.232113</td>\n",
       "      <td>4</td>\n",
       "      <td>Kristen Martin</td>\n",
       "      <td>22</td>\n",
       "      <td>Vilnius</td>\n",
       "      <td>ultra</td>\n",
       "      <td>6</td>\n",
       "      <td>0</td>\n",
       "      <td>199</td>\n",
       "    </tr>\n",
       "    <tr>\n",
       "      <th>3</th>\n",
       "      <td>1</td>\n",
       "      <td>2694.783254</td>\n",
       "      <td>18.511000</td>\n",
       "      <td>8</td>\n",
       "      <td>Kristen Martin</td>\n",
       "      <td>22</td>\n",
       "      <td>Vilnius</td>\n",
       "      <td>ultra</td>\n",
       "      <td>6</td>\n",
       "      <td>0</td>\n",
       "      <td>199</td>\n",
       "    </tr>\n",
       "    <tr>\n",
       "      <th>4</th>\n",
       "      <td>1</td>\n",
       "      <td>4028.687306</td>\n",
       "      <td>26.265803</td>\n",
       "      <td>8</td>\n",
       "      <td>Kristen Martin</td>\n",
       "      <td>22</td>\n",
       "      <td>Vilnius</td>\n",
       "      <td>ultra</td>\n",
       "      <td>6</td>\n",
       "      <td>0</td>\n",
       "      <td>199</td>\n",
       "    </tr>\n",
       "  </tbody>\n",
       "</table>\n",
       "</div>"
      ],
      "text/plain": [
       "   user_id     distance   duration  month_no            name  age     city  \\\n",
       "0        1  4409.919140  25.599769         1  Kristen Martin   22  Vilnius   \n",
       "1        1  2617.592153  15.816871         1  Kristen Martin   22  Vilnius   \n",
       "2        1   754.159807   6.232113         4  Kristen Martin   22  Vilnius   \n",
       "3        1  2694.783254  18.511000         8  Kristen Martin   22  Vilnius   \n",
       "4        1  4028.687306  26.265803         8  Kristen Martin   22  Vilnius   \n",
       "\n",
       "  subscription_type  minute_price  start_ride_price  subscription_fee  \n",
       "0             ultra             6                 0               199  \n",
       "1             ultra             6                 0               199  \n",
       "2             ultra             6                 0               199  \n",
       "3             ultra             6                 0               199  \n",
       "4             ultra             6                 0               199  "
      ]
     },
     "execution_count": 36,
     "metadata": {},
     "output_type": "execute_result"
    }
   ],
   "source": [
    "#I assign the merge of three tables to the dfs variable. I combine trips and users by user_id\n",
    "#and then I merge the plans using the subscription_type table from two tables of trips and users\n",
    "dfs = pd.merge(pd.merge(rides, users, on='user_id'), plans, on='subscription_type')\n",
    "dfs.head()"
   ]
  },
  {
   "cell_type": "markdown",
   "id": "0c33e7d1",
   "metadata": {},
   "source": [
    "### Creating dataframes of users with and without subscriptions\n",
    "\n",
    "#### Dataframe about users without subscription"
   ]
  },
  {
   "cell_type": "code",
   "execution_count": 37,
   "id": "4203fad7",
   "metadata": {},
   "outputs": [
    {
     "data": {
      "text/html": [
       "<div>\n",
       "<style scoped>\n",
       "    .dataframe tbody tr th:only-of-type {\n",
       "        vertical-align: middle;\n",
       "    }\n",
       "\n",
       "    .dataframe tbody tr th {\n",
       "        vertical-align: top;\n",
       "    }\n",
       "\n",
       "    .dataframe thead th {\n",
       "        text-align: right;\n",
       "    }\n",
       "</style>\n",
       "<table border=\"1\" class=\"dataframe\">\n",
       "  <thead>\n",
       "    <tr style=\"text-align: right;\">\n",
       "      <th></th>\n",
       "      <th>user_id</th>\n",
       "      <th>distance</th>\n",
       "      <th>duration</th>\n",
       "      <th>month_no</th>\n",
       "      <th>name</th>\n",
       "      <th>age</th>\n",
       "      <th>city</th>\n",
       "      <th>subscription_type</th>\n",
       "      <th>minute_price</th>\n",
       "      <th>start_ride_price</th>\n",
       "      <th>subscription_fee</th>\n",
       "    </tr>\n",
       "  </thead>\n",
       "  <tbody>\n",
       "    <tr>\n",
       "      <th>18063</th>\n",
       "      <td>1534</td>\n",
       "      <td>3781.098080</td>\n",
       "      <td>19.822962</td>\n",
       "      <td>11</td>\n",
       "      <td>Joy Roberts</td>\n",
       "      <td>25</td>\n",
       "      <td>Dresden</td>\n",
       "      <td>free</td>\n",
       "      <td>8</td>\n",
       "      <td>50</td>\n",
       "      <td>0</td>\n",
       "    </tr>\n",
       "    <tr>\n",
       "      <th>18064</th>\n",
       "      <td>1534</td>\n",
       "      <td>2840.423057</td>\n",
       "      <td>21.409799</td>\n",
       "      <td>11</td>\n",
       "      <td>Joy Roberts</td>\n",
       "      <td>25</td>\n",
       "      <td>Dresden</td>\n",
       "      <td>free</td>\n",
       "      <td>8</td>\n",
       "      <td>50</td>\n",
       "      <td>0</td>\n",
       "    </tr>\n",
       "    <tr>\n",
       "      <th>18065</th>\n",
       "      <td>1534</td>\n",
       "      <td>3826.185507</td>\n",
       "      <td>18.435051</td>\n",
       "      <td>11</td>\n",
       "      <td>Joy Roberts</td>\n",
       "      <td>25</td>\n",
       "      <td>Dresden</td>\n",
       "      <td>free</td>\n",
       "      <td>8</td>\n",
       "      <td>50</td>\n",
       "      <td>0</td>\n",
       "    </tr>\n",
       "    <tr>\n",
       "      <th>18066</th>\n",
       "      <td>1534</td>\n",
       "      <td>2902.308661</td>\n",
       "      <td>16.674362</td>\n",
       "      <td>11</td>\n",
       "      <td>Joy Roberts</td>\n",
       "      <td>25</td>\n",
       "      <td>Dresden</td>\n",
       "      <td>free</td>\n",
       "      <td>8</td>\n",
       "      <td>50</td>\n",
       "      <td>0</td>\n",
       "    </tr>\n",
       "    <tr>\n",
       "      <th>18067</th>\n",
       "      <td>1534</td>\n",
       "      <td>2371.711192</td>\n",
       "      <td>15.893917</td>\n",
       "      <td>12</td>\n",
       "      <td>Joy Roberts</td>\n",
       "      <td>25</td>\n",
       "      <td>Dresden</td>\n",
       "      <td>free</td>\n",
       "      <td>8</td>\n",
       "      <td>50</td>\n",
       "      <td>0</td>\n",
       "    </tr>\n",
       "  </tbody>\n",
       "</table>\n",
       "</div>"
      ],
      "text/plain": [
       "       user_id     distance   duration  month_no         name  age     city  \\\n",
       "18063     1534  3781.098080  19.822962        11  Joy Roberts   25  Dresden   \n",
       "18064     1534  2840.423057  21.409799        11  Joy Roberts   25  Dresden   \n",
       "18065     1534  3826.185507  18.435051        11  Joy Roberts   25  Dresden   \n",
       "18066     1534  2902.308661  16.674362        11  Joy Roberts   25  Dresden   \n",
       "18067     1534  2371.711192  15.893917        12  Joy Roberts   25  Dresden   \n",
       "\n",
       "      subscription_type  minute_price  start_ride_price  subscription_fee  \n",
       "18063              free             8                50                 0  \n",
       "18064              free             8                50                 0  \n",
       "18065              free             8                50                 0  \n",
       "18066              free             8                50                 0  \n",
       "18067              free             8                50                 0  "
      ]
     },
     "execution_count": 37,
     "metadata": {},
     "output_type": "execute_result"
    }
   ],
   "source": [
    "#I assign a slice of data about users without a subscription from dfs to the variable no_plan_users\n",
    "no_plan_users = dfs.query('subscription_type == \"free\"')\n",
    "no_plan_users.tail()"
   ]
  },
  {
   "cell_type": "markdown",
   "id": "f18562d1",
   "metadata": {},
   "source": [
    "#### Dataframe about users with subscriptions"
   ]
  },
  {
   "cell_type": "code",
   "execution_count": 38,
   "id": "96d7fce3",
   "metadata": {
    "scrolled": true
   },
   "outputs": [
    {
     "data": {
      "text/html": [
       "<div>\n",
       "<style scoped>\n",
       "    .dataframe tbody tr th:only-of-type {\n",
       "        vertical-align: middle;\n",
       "    }\n",
       "\n",
       "    .dataframe tbody tr th {\n",
       "        vertical-align: top;\n",
       "    }\n",
       "\n",
       "    .dataframe thead th {\n",
       "        text-align: right;\n",
       "    }\n",
       "</style>\n",
       "<table border=\"1\" class=\"dataframe\">\n",
       "  <thead>\n",
       "    <tr style=\"text-align: right;\">\n",
       "      <th></th>\n",
       "      <th>user_id</th>\n",
       "      <th>distance</th>\n",
       "      <th>duration</th>\n",
       "      <th>month_no</th>\n",
       "      <th>name</th>\n",
       "      <th>age</th>\n",
       "      <th>city</th>\n",
       "      <th>subscription_type</th>\n",
       "      <th>minute_price</th>\n",
       "      <th>start_ride_price</th>\n",
       "      <th>subscription_fee</th>\n",
       "    </tr>\n",
       "  </thead>\n",
       "  <tbody>\n",
       "    <tr>\n",
       "      <th>0</th>\n",
       "      <td>1</td>\n",
       "      <td>4409.919140</td>\n",
       "      <td>25.599769</td>\n",
       "      <td>1</td>\n",
       "      <td>Kristen Martin</td>\n",
       "      <td>22</td>\n",
       "      <td>Vilnius</td>\n",
       "      <td>ultra</td>\n",
       "      <td>6</td>\n",
       "      <td>0</td>\n",
       "      <td>199</td>\n",
       "    </tr>\n",
       "    <tr>\n",
       "      <th>1</th>\n",
       "      <td>1</td>\n",
       "      <td>2617.592153</td>\n",
       "      <td>15.816871</td>\n",
       "      <td>1</td>\n",
       "      <td>Kristen Martin</td>\n",
       "      <td>22</td>\n",
       "      <td>Vilnius</td>\n",
       "      <td>ultra</td>\n",
       "      <td>6</td>\n",
       "      <td>0</td>\n",
       "      <td>199</td>\n",
       "    </tr>\n",
       "    <tr>\n",
       "      <th>2</th>\n",
       "      <td>1</td>\n",
       "      <td>754.159807</td>\n",
       "      <td>6.232113</td>\n",
       "      <td>4</td>\n",
       "      <td>Kristen Martin</td>\n",
       "      <td>22</td>\n",
       "      <td>Vilnius</td>\n",
       "      <td>ultra</td>\n",
       "      <td>6</td>\n",
       "      <td>0</td>\n",
       "      <td>199</td>\n",
       "    </tr>\n",
       "    <tr>\n",
       "      <th>3</th>\n",
       "      <td>1</td>\n",
       "      <td>2694.783254</td>\n",
       "      <td>18.511000</td>\n",
       "      <td>8</td>\n",
       "      <td>Kristen Martin</td>\n",
       "      <td>22</td>\n",
       "      <td>Vilnius</td>\n",
       "      <td>ultra</td>\n",
       "      <td>6</td>\n",
       "      <td>0</td>\n",
       "      <td>199</td>\n",
       "    </tr>\n",
       "    <tr>\n",
       "      <th>4</th>\n",
       "      <td>1</td>\n",
       "      <td>4028.687306</td>\n",
       "      <td>26.265803</td>\n",
       "      <td>8</td>\n",
       "      <td>Kristen Martin</td>\n",
       "      <td>22</td>\n",
       "      <td>Vilnius</td>\n",
       "      <td>ultra</td>\n",
       "      <td>6</td>\n",
       "      <td>0</td>\n",
       "      <td>199</td>\n",
       "    </tr>\n",
       "  </tbody>\n",
       "</table>\n",
       "</div>"
      ],
      "text/plain": [
       "   user_id     distance   duration  month_no            name  age     city  \\\n",
       "0        1  4409.919140  25.599769         1  Kristen Martin   22  Vilnius   \n",
       "1        1  2617.592153  15.816871         1  Kristen Martin   22  Vilnius   \n",
       "2        1   754.159807   6.232113         4  Kristen Martin   22  Vilnius   \n",
       "3        1  2694.783254  18.511000         8  Kristen Martin   22  Vilnius   \n",
       "4        1  4028.687306  26.265803         8  Kristen Martin   22  Vilnius   \n",
       "\n",
       "  subscription_type  minute_price  start_ride_price  subscription_fee  \n",
       "0             ultra             6                 0               199  \n",
       "1             ultra             6                 0               199  \n",
       "2             ultra             6                 0               199  \n",
       "3             ultra             6                 0               199  \n",
       "4             ultra             6                 0               199  "
      ]
     },
     "execution_count": 38,
     "metadata": {},
     "output_type": "execute_result"
    }
   ],
   "source": [
    "#I assign a slice of data about users with a subscription from dfs to the users_with_plans variable\n",
    "users_with_plans = dfs.query('subscription_type == \"ultra\"')\n",
    "users_with_plans.head()"
   ]
  },
  {
   "cell_type": "markdown",
   "id": "5aa61af5",
   "metadata": {},
   "source": [
    "### Visualization of distances and time\n",
    "\n",
    "#### Travel distances for users without a subscription"
   ]
  },
  {
   "cell_type": "code",
   "execution_count": 39,
   "id": "9002fd81",
   "metadata": {
    "scrolled": false
   },
   "outputs": [
    {
     "data": {
      "image/png": "[encoded data removed]",
      "text/plain": [
       "<Figure size 700x400 with 1 Axes>"
      ]
     },
     "metadata": {},
     "output_type": "display_data"
    }
   ],
   "source": [
    "#I'm building a histogram based on the 'distance' column from the table where I collected users without a subscription\n",
    "#I make the edging of the bins and adjust their width too\n",
    "no_plan_users['distance'].hist(bins=25, figsize=(7, 4), edgecolor='black', linewidth=1, color='olive')\n",
    "#Y axis name\n",
    "plt.ylabel('Frequency')\n",
    "#X axis name\n",
    "plt.xlabel('Distance in meters')\n",
    "#histogram name\n",
    "plt.title('Travel distances for non-subscribed users');"
   ]
  },
  {
   "cell_type": "markdown",
   "id": "58b96e2a",
   "metadata": {},
   "source": [
    "##### Comments about the histogram\n",
    "\n",
    "1. The horizontal axis (X) represents distances, the vertical axis (Y) represents the frequency of occurrence of distances covered by users without a subscription\n",
    "2. There are several distance leaders in terms of frequency of occurrence:\n",
    "     - About 800 trips over a distance of 2.5 km\n",
    "     - About 730 trips over a distance of 3.5 km\n",
    "3. Another thing worth noting:\n",
    "     - There are approximately 200 trips, the distance of which is 0.5 km\n",
    "     - There are 350 trips, the distance of which is over 5 km"
   ]
  },
  {
   "cell_type": "markdown",
   "id": "6281b1e4",
   "metadata": {},
   "source": [
    "#### Duration of trips for users without a subscription"
   ]
  },
  {
   "cell_type": "code",
   "execution_count": 40,
   "id": "63e60239",
   "metadata": {},
   "outputs": [
    {
     "data": {
      "image/png": "[encoded data removed]",
      "text/plain": [
       "<Figure size 700x400 with 1 Axes>"
      ]
     },
     "metadata": {},
     "output_type": "display_data"
    }
   ],
   "source": [
    "#I'm building a histogram based on the 'duration' column from the table where I collected users without a subscription\n",
    "#I make the edging of the bins and adjust their width too\n",
    "no_plan_users['duration'].hist(bins=25, figsize=(7, 4), edgecolor='black', linewidth=1, color='coral')\n",
    "#Y axis name\n",
    "plt.ylabel('Frequency')\n",
    "#X axis name\n",
    "plt.xlabel('Duration in minutes')\n",
    "#histogram name\n",
    "plt.title('Trip duration for non-subscribed users');"
   ]
  },
  {
   "cell_type": "markdown",
   "id": "43d3c9db",
   "metadata": {},
   "source": [
    "##### Comments about the histogram\n",
    "\n",
    "1. The horizontal axis (X) represents the duration of trips, the vertical axis (Y) represents the frequency of occurrence of certain durations.\n",
    "2. There are several durations that occur most often:\n",
    "     - There were approximately 850 trips with a duration of approximately 17 minutes\n",
    "     - About 810 trips with a duration of 21 minutes\n",
    "3. Worth noting:\n",
    "     - There are about 30 trips with a duration of 5 minutes\n",
    "     - And there are 100 trips with a duration of 30 minutes"
   ]
  },
  {
   "cell_type": "markdown",
   "id": "ef7bdc8d",
   "metadata": {},
   "source": [
    "#### Travel distances of users with a subscription"
   ]
  },
  {
   "cell_type": "code",
   "execution_count": 41,
   "id": "cedfa4bd",
   "metadata": {
    "scrolled": false
   },
   "outputs": [
    {
     "data": {
      "image/png": "[encoded data removed]",
      "text/plain": [
       "<Figure size 700x400 with 1 Axes>"
      ]
     },
     "metadata": {},
     "output_type": "display_data"
    }
   ],
   "source": [
    "#I'm building a histogram based on the 'distance' column from the table where I collected users without a subscription\n",
    "#I make the edging of the bins and adjust their width too\n",
    "users_with_plans['distance'].hist(bins=30, figsize=(7, 4), edgecolor='black', linewidth=1, color='steelblue')\n",
    "#Y axis name\n",
    "plt.ylabel('Frequency')\n",
    "#X axis name\n",
    "plt.xlabel('Distance in meters')\n",
    "#histogram name\n",
    "plt.title('Distance covered by subscribed users');"
   ]
  },
  {
   "cell_type": "markdown",
   "id": "131442af",
   "metadata": {},
   "source": [
    "##### Comments about the histogram\n",
    "\n",
    "1. The horizontal axis (X) represents the distance, the vertical (Y) axis represents the frequency of occurrence of distances\n",
    "2. There are several distance leaders in terms of frequency of occurrence:\n",
    "     - About 750 trips with a distance of 3100 meters\n",
    "     - About 460 trips with a distance of 2.5 km\n",
    "3. Another thing worth noting:\n",
    "     - There are approximately 100 trips, the distance of which is 0.5 km\n",
    "     - There are 20 trips, the distance of which is over 5 km"
   ]
  },
  {
   "cell_type": "markdown",
   "id": "ac45b381",
   "metadata": {},
   "source": [
    "#### Duration of trips for users with a subscription"
   ]
  },
  {
   "cell_type": "code",
   "execution_count": 42,
   "id": "cd2af87b",
   "metadata": {},
   "outputs": [
    {
     "data": {
      "image/png": "[encoded data removed]",
      "text/plain": [
       "<Figure size 700x500 with 1 Axes>"
      ]
     },
     "metadata": {},
     "output_type": "display_data"
    }
   ],
   "source": [
    "#I'm building a histogram based on the 'duration' column from the table where I collected users without a subscription\n",
    "#I make the edging of the bins and adjust their width too\n",
    "users_with_plans['duration'].hist(bins=25, figsize=(7, 5), edgecolor='black', linewidth=1, color='teal')\n",
    "#Y axis name\n",
    "plt.ylabel('Frequency')\n",
    "#X axis name\n",
    "plt.xlabel('Duration in minutes')\n",
    "#histogram name\n",
    "plt.title('Duration of trips of users with subscription');"
   ]
  },
  {
   "cell_type": "markdown",
   "id": "d9b0196e",
   "metadata": {},
   "source": [
    "##### Comments about the histogram\n",
    "\n",
    "1. The horizontal axis (X) represents the duration of trips, the vertical axis (Y) represents the frequency of occurrence of certain durations.\n",
    "2. There are several leaders in terms of duration:\n",
    "     - Almost 600 trips with a duration of 17 minutes\n",
    "     - 540 trips with a duration of 18 minutes\n",
    "3. It is worth highlighting:\n",
    "     - About 20 trips have a trip duration of 5 minutes and the same number of trips have a duration of 35 minutes"
   ]
  },
  {
   "cell_type": "markdown",
   "id": "c9cc718b",
   "metadata": {},
   "source": [
    "### Historams overlapping for duration comparison"
   ]
  },
  {
   "cell_type": "code",
   "execution_count": 43,
   "id": "57d946db",
   "metadata": {
    "scrolled": false
   },
   "outputs": [
    {
     "data": {
      "image/png": "[encoded data removed]",
      "text/plain": [
       "<Figure size 640x480 with 1 Axes>"
      ]
     },
     "metadata": {},
     "output_type": "display_data"
    }
   ],
   "source": [
    "#histogram for duration of trips of users without subscription\n",
    "plt.hist(no_plan_users['duration'],\n",
    "          label='free subscription',\n",
    "          alpha=0.7, bins=15)\n",
    "\n",
    "#histogram for duration of trips of users with subscription\n",
    "plt.hist(users_with_plans['duration'],\n",
    "          label='ultra subscription',\n",
    "          alpha=0.7, bins=15)\n",
    "\n",
    "#place for a legend\n",
    "plt.legend(loc='upper right')\n",
    "#histogram name\n",
    "plt.title('Overlay histograms of distance covered')\n",
    "#Y axis name\n",
    "plt.ylabel('Distance')\n",
    "#X axis name\n",
    "plt.xlabel('Duration');"
   ]
  },
  {
   "cell_type": "markdown",
   "id": "25ac5bc8",
   "metadata": {},
   "source": [
    "### Historams overlapping for distance comparison"
   ]
  },
  {
   "cell_type": "code",
   "execution_count": 44,
   "id": "b1c723f0",
   "metadata": {},
   "outputs": [
    {
     "data": {
      "image/png": "[encoded data removed]",
      "text/plain": [
       "<Figure size 640x480 with 1 Axes>"
      ]
     },
     "metadata": {},
     "output_type": "display_data"
    }
   ],
   "source": [
    "#histogram for duration of trips of users without subscription\n",
    "plt.hist(no_plan_users['distance'],\n",
    "          label='free subscription',\n",
    "          alpha=0.7, bins=15)\n",
    "\n",
    "#histogram for duration of trips of users with subscription\n",
    "plt.hist(users_with_plans['distance'],\n",
    "          label='ultra subscription',\n",
    "          alpha=0.7, bins=15)\n",
    "\n",
    "#place for a legend\n",
    "plt.legend(loc='upper right')\n",
    "#histogram name\n",
    "plt.title('Overlay histograms of distance covered')\n",
    "#Y axis name\n",
    "plt.ylabel('Number of users')\n",
    "#X axis name\n",
    "plt.xlabel('Duration');"
   ]
  },
  {
   "cell_type": "markdown",
   "id": "d22e9257",
   "metadata": {},
   "source": [
    "### **Conclusions after joins and visualizations**\n",
    "\n",
    "1. Three tables were combined into one ```dfs``` for subsequent detailed study of the data\n",
    "2. Tables were created by slicing:\n",
    "     - ```no_plan_users``` with users without subscription from the ```dfs``` table\n",
    "     - ```users_with_plans``` with users with a subscription from the ```dfs``` table\n",
    "3. The issue of travel distance and travel time of users without a subscription was investigated:\n",
    "     - About 800 trips over a distance of 2.5 km\n",
    "     - About 810 trips with a duration of 21 minutes\n",
    "     - There are 350 trips, the distance of which is over 5 km\n",
    "     - There are 100 trips with a duration of 30 minutes\n",
    "4. The issue of travel distance and travel time of users with a subscription was investigated:\n",
    "     - About 750 trips with a distance of 3100 meters\n",
    "     - Almost 600 trips with a duration of 17 minutes\n",
    "     - There are approximately 100 trips, the distance of which is 0.5 km\n",
    "     - About 20 trips have a trip duration of 5 minutes and the same number of trips have a duration of 35 minutes"
   ]
  },
  {
   "cell_type": "markdown",
   "id": "5c56c5a0",
   "metadata": {},
   "source": [
    "## **Revenue calculation**"
   ]
  },
  {
   "cell_type": "markdown",
   "id": "cb5fb4c9",
   "metadata": {},
   "source": [
    "### Creating a dataframe with aggregated data"
   ]
  },
  {
   "cell_type": "code",
   "execution_count": 45,
   "id": "a946b4a7",
   "metadata": {
    "scrolled": true
   },
   "outputs": [
    {
     "data": {
      "text/plain": [
       "0    26.0\n",
       "1    16.0\n",
       "2     7.0\n",
       "3    19.0\n",
       "4    27.0\n",
       "Name: duration, dtype: float64"
      ]
     },
     "execution_count": 45,
     "metadata": {},
     "output_type": "execute_result"
    }
   ],
   "source": [
    "#rounding the duration in the original merged dataframe\n",
    "dfs['duration'] = np.ceil(dfs['duration'])\n",
    "\n",
    "#I'll check how the rounding turned out\n",
    "dfs['duration'].head()"
   ]
  },
  {
   "cell_type": "code",
   "execution_count": 46,
   "id": "24702dd2",
   "metadata": {},
   "outputs": [
    {
     "data": {
      "text/html": [
       "<div>\n",
       "<style scoped>\n",
       "    .dataframe tbody tr th:only-of-type {\n",
       "        vertical-align: middle;\n",
       "    }\n",
       "\n",
       "    .dataframe tbody tr th {\n",
       "        vertical-align: top;\n",
       "    }\n",
       "\n",
       "    .dataframe thead th {\n",
       "        text-align: right;\n",
       "    }\n",
       "</style>\n",
       "<table border=\"1\" class=\"dataframe\">\n",
       "  <thead>\n",
       "    <tr style=\"text-align: right;\">\n",
       "      <th></th>\n",
       "      <th></th>\n",
       "      <th>distance</th>\n",
       "      <th>duration</th>\n",
       "      <th>trips_count</th>\n",
       "    </tr>\n",
       "    <tr>\n",
       "      <th>user_id</th>\n",
       "      <th>month_no</th>\n",
       "      <th></th>\n",
       "      <th></th>\n",
       "      <th></th>\n",
       "    </tr>\n",
       "  </thead>\n",
       "  <tbody>\n",
       "    <tr>\n",
       "      <th rowspan=\"5\" valign=\"top\">1</th>\n",
       "      <th>1</th>\n",
       "      <td>7027.511294</td>\n",
       "      <td>42.0</td>\n",
       "      <td>2</td>\n",
       "    </tr>\n",
       "    <tr>\n",
       "      <th>4</th>\n",
       "      <td>754.159807</td>\n",
       "      <td>7.0</td>\n",
       "      <td>1</td>\n",
       "    </tr>\n",
       "    <tr>\n",
       "      <th>8</th>\n",
       "      <td>6723.470560</td>\n",
       "      <td>46.0</td>\n",
       "      <td>2</td>\n",
       "    </tr>\n",
       "    <tr>\n",
       "      <th>10</th>\n",
       "      <td>5809.911100</td>\n",
       "      <td>32.0</td>\n",
       "      <td>2</td>\n",
       "    </tr>\n",
       "    <tr>\n",
       "      <th>11</th>\n",
       "      <td>7003.499363</td>\n",
       "      <td>56.0</td>\n",
       "      <td>3</td>\n",
       "    </tr>\n",
       "    <tr>\n",
       "      <th>...</th>\n",
       "      <th>...</th>\n",
       "      <td>...</td>\n",
       "      <td>...</td>\n",
       "      <td>...</td>\n",
       "    </tr>\n",
       "    <tr>\n",
       "      <th rowspan=\"5\" valign=\"top\">1534</th>\n",
       "      <th>6</th>\n",
       "      <td>3409.468534</td>\n",
       "      <td>26.0</td>\n",
       "      <td>2</td>\n",
       "    </tr>\n",
       "    <tr>\n",
       "      <th>8</th>\n",
       "      <td>7622.453034</td>\n",
       "      <td>48.0</td>\n",
       "      <td>2</td>\n",
       "    </tr>\n",
       "    <tr>\n",
       "      <th>9</th>\n",
       "      <td>4928.173852</td>\n",
       "      <td>23.0</td>\n",
       "      <td>1</td>\n",
       "    </tr>\n",
       "    <tr>\n",
       "      <th>11</th>\n",
       "      <td>13350.015305</td>\n",
       "      <td>78.0</td>\n",
       "      <td>4</td>\n",
       "    </tr>\n",
       "    <tr>\n",
       "      <th>12</th>\n",
       "      <td>2371.711192</td>\n",
       "      <td>16.0</td>\n",
       "      <td>1</td>\n",
       "    </tr>\n",
       "  </tbody>\n",
       "</table>\n",
       "<p>11331 rows × 3 columns</p>\n",
       "</div>"
      ],
      "text/plain": [
       "                      distance  duration  trips_count\n",
       "user_id month_no                                     \n",
       "1       1          7027.511294      42.0            2\n",
       "        4           754.159807       7.0            1\n",
       "        8          6723.470560      46.0            2\n",
       "        10         5809.911100      32.0            2\n",
       "        11         7003.499363      56.0            3\n",
       "...                        ...       ...          ...\n",
       "1534    6          3409.468534      26.0            2\n",
       "        8          7622.453034      48.0            2\n",
       "        9          4928.173852      23.0            1\n",
       "        11        13350.015305      78.0            4\n",
       "        12         2371.711192      16.0            1\n",
       "\n",
       "[11331 rows x 3 columns]"
      ]
     },
     "execution_count": 46,
     "metadata": {},
     "output_type": "execute_result"
    }
   ],
   "source": [
    "#pivot table\n",
    "result_pivot = pd.pivot_table(dfs,\n",
    "                              index=['user_id', 'month_no'], #grouping by ID and month number\n",
    "                              values=['distance', 'duration'], #columns for applying functions\n",
    "                              aggfunc={'distance': 'sum', 'duration': 'sum'}) #applying functions to columns\n",
    "\n",
    "#column with the number of trips in each month for each user\n",
    "result_pivot['trips_count'] = dfs.groupby(['user_id', 'month_no']).size().values\n",
    "\n",
    "#dataframe output\n",
    "result_pivot"
   ]
  },
  {
   "cell_type": "markdown",
   "id": "da8a75f7",
   "metadata": {},
   "source": [
    "### Adding a column with monthly revenue"
   ]
  },
  {
   "cell_type": "code",
   "execution_count": 47,
   "id": "17840a30",
   "metadata": {},
   "outputs": [],
   "source": [
    "#merge the pivot table, users table by user_id\n",
    "result_pivot = pd.merge(result_pivot, users, on='user_id', how='left')\n",
    "\n",
    "#checked the result of the merge below, then deleted the self-test"
   ]
  },
  {
   "cell_type": "code",
   "execution_count": 48,
   "id": "693c2cf6",
   "metadata": {},
   "outputs": [],
   "source": [
    "#to the aggregated table I will combine plans by subscription_type\n",
    "result_pivot = pd.merge(result_pivot, plans, on='subscription_type', how='left')\n",
    "\n",
    "#checked the result of the merge below, then deleted the self-test"
   ]
  },
  {
   "cell_type": "code",
   "execution_count": 49,
   "id": "676b277a",
   "metadata": {},
   "outputs": [
    {
     "data": {
      "text/html": [
       "<div>\n",
       "<style scoped>\n",
       "    .dataframe tbody tr th:only-of-type {\n",
       "        vertical-align: middle;\n",
       "    }\n",
       "\n",
       "    .dataframe tbody tr th {\n",
       "        vertical-align: top;\n",
       "    }\n",
       "\n",
       "    .dataframe thead th {\n",
       "        text-align: right;\n",
       "    }\n",
       "</style>\n",
       "<table border=\"1\" class=\"dataframe\">\n",
       "  <thead>\n",
       "    <tr style=\"text-align: right;\">\n",
       "      <th></th>\n",
       "      <th>user_id</th>\n",
       "      <th>distance</th>\n",
       "      <th>duration</th>\n",
       "      <th>trips_count</th>\n",
       "      <th>name</th>\n",
       "      <th>age</th>\n",
       "      <th>city</th>\n",
       "      <th>subscription_type</th>\n",
       "      <th>minute_price</th>\n",
       "      <th>start_ride_price</th>\n",
       "      <th>subscription_fee</th>\n",
       "      <th>revenue</th>\n",
       "    </tr>\n",
       "  </thead>\n",
       "  <tbody>\n",
       "    <tr>\n",
       "      <th>0</th>\n",
       "      <td>1</td>\n",
       "      <td>7027.511294</td>\n",
       "      <td>42.0</td>\n",
       "      <td>2</td>\n",
       "      <td>Kristen Martin</td>\n",
       "      <td>22</td>\n",
       "      <td>Vilnius</td>\n",
       "      <td>ultra</td>\n",
       "      <td>6</td>\n",
       "      <td>0</td>\n",
       "      <td>199</td>\n",
       "      <td>451.0</td>\n",
       "    </tr>\n",
       "    <tr>\n",
       "      <th>1</th>\n",
       "      <td>1</td>\n",
       "      <td>754.159807</td>\n",
       "      <td>7.0</td>\n",
       "      <td>1</td>\n",
       "      <td>Kristen Martin</td>\n",
       "      <td>22</td>\n",
       "      <td>Vilnius</td>\n",
       "      <td>ultra</td>\n",
       "      <td>6</td>\n",
       "      <td>0</td>\n",
       "      <td>199</td>\n",
       "      <td>241.0</td>\n",
       "    </tr>\n",
       "    <tr>\n",
       "      <th>2</th>\n",
       "      <td>1</td>\n",
       "      <td>6723.470560</td>\n",
       "      <td>46.0</td>\n",
       "      <td>2</td>\n",
       "      <td>Kristen Martin</td>\n",
       "      <td>22</td>\n",
       "      <td>Vilnius</td>\n",
       "      <td>ultra</td>\n",
       "      <td>6</td>\n",
       "      <td>0</td>\n",
       "      <td>199</td>\n",
       "      <td>475.0</td>\n",
       "    </tr>\n",
       "  </tbody>\n",
       "</table>\n",
       "</div>"
      ],
      "text/plain": [
       "   user_id     distance  duration  trips_count            name  age     city  \\\n",
       "0        1  7027.511294      42.0            2  Kristen Martin   22  Vilnius   \n",
       "1        1   754.159807       7.0            1  Kristen Martin   22  Vilnius   \n",
       "2        1  6723.470560      46.0            2  Kristen Martin   22  Vilnius   \n",
       "\n",
       "  subscription_type  minute_price  start_ride_price  subscription_fee  revenue  \n",
       "0             ultra             6                 0               199    451.0  \n",
       "1             ultra             6                 0               199    241.0  \n",
       "2             ultra             6                 0               199    475.0  "
      ]
     },
     "execution_count": 49,
     "metadata": {},
     "output_type": "execute_result"
    }
   ],
   "source": [
    "#here I calculate revenue using the formula below\n",
    "result_pivot['revenue'] = (\n",
    "     (result_pivot['start_ride_price'] * result_pivot['trips_count']) +\n",
    "     (result_pivot['minute_price'] * result_pivot['duration']) +\n",
    "     result_pivot['subscription_fee']\n",
    ")\n",
    "\n",
    "#let's see what happened\n",
    "result_pivot.head(3)"
   ]
  },
  {
   "cell_type": "code",
   "execution_count": 50,
   "id": "61bc0a51",
   "metadata": {},
   "outputs": [
    {
     "data": {
      "text/html": [
       "<div>\n",
       "<style scoped>\n",
       "    .dataframe tbody tr th:only-of-type {\n",
       "        vertical-align: middle;\n",
       "    }\n",
       "\n",
       "    .dataframe tbody tr th {\n",
       "        vertical-align: top;\n",
       "    }\n",
       "\n",
       "    .dataframe thead th {\n",
       "        text-align: right;\n",
       "    }\n",
       "</style>\n",
       "<table border=\"1\" class=\"dataframe\">\n",
       "  <thead>\n",
       "    <tr style=\"text-align: right;\">\n",
       "      <th></th>\n",
       "      <th>user_id</th>\n",
       "      <th>revenue</th>\n",
       "    </tr>\n",
       "  </thead>\n",
       "  <tbody>\n",
       "    <tr>\n",
       "      <th>0</th>\n",
       "      <td>1236</td>\n",
       "      <td>5022.0</td>\n",
       "    </tr>\n",
       "    <tr>\n",
       "      <th>1</th>\n",
       "      <td>1063</td>\n",
       "      <td>4924.0</td>\n",
       "    </tr>\n",
       "    <tr>\n",
       "      <th>2</th>\n",
       "      <td>584</td>\n",
       "      <td>4908.0</td>\n",
       "    </tr>\n",
       "    <tr>\n",
       "      <th>3</th>\n",
       "      <td>783</td>\n",
       "      <td>4892.0</td>\n",
       "    </tr>\n",
       "    <tr>\n",
       "      <th>4</th>\n",
       "      <td>1204</td>\n",
       "      <td>4752.0</td>\n",
       "    </tr>\n",
       "  </tbody>\n",
       "</table>\n",
       "</div>"
      ],
      "text/plain": [
       "   user_id  revenue\n",
       "0     1236   5022.0\n",
       "1     1063   4924.0\n",
       "2      584   4908.0\n",
       "3      783   4892.0\n",
       "4     1204   4752.0"
      ]
     },
     "execution_count": 50,
     "metadata": {},
     "output_type": "execute_result"
    }
   ],
   "source": [
    "#and here I’ll make a pivot table, group it by user, sort by revenue DESC. curious to see\n",
    "aggregated = result_pivot.groupby(['user_id']).agg({\n",
    "     'revenue': 'sum'}).sort_values(by='revenue', ascending=False).reset_index() #reset multi-indexes here\n",
    "\n",
    "aggregated.head()"
   ]
  },
  {
   "cell_type": "markdown",
   "id": "99fae398",
   "metadata": {},
   "source": [
    "### **Conclusions after calculating revenue**\n",
    "\n",
    "1. A table ```aggregated``` was created with aggregated data, where the data is grouped by users and months, the number of trips of each user in each month was also calculated there\n",
    "2. The ```revenue``` column was added to the ```aggregated``` table, in which the profit from each user was calculated\n",
    "3. The top 5 users who brought in the most revenue were found. Some revenue data:\n",
    "     - 2514, 2309, 2303, 2303, 2297"
   ]
  },
  {
   "cell_type": "markdown",
   "id": "2029fe3a",
   "metadata": {},
   "source": [
    "## **Hypothesis testing**\n",
    "\n",
    "### Study of the travel duration of users without and with a subscription\n",
    "\n",
    "#### Defining hypotheses\n",
    "\n",
    "1. Null hypothesis (H0): The average travel time for users with a subscription is equal to the average travel time for users without a subscription.\n",
    "2. Alternative hypothesis (H1): The average travel time for users with a subscription is greater than the average travel time for users without a subscription."
   ]
  },
  {
   "cell_type": "code",
   "execution_count": 51,
   "id": "9498f3b5",
   "metadata": {},
   "outputs": [
    {
     "name": "stdout",
     "output_type": "stream",
     "text": [
      "p-value is: 1.2804098316645618e-34\n",
      "Reject the null hypothesis in favor of the alternative: The average travel time for users with a subscription is greater than the average travel time for users without a subscription.\n"
     ]
    }
   ],
   "source": [
    "#duration of trips of users with subscription\n",
    "subs = users_with_plans['duration']\n",
    "#duration of trips for users without subscription\n",
    "no_subs = no_plan_users['duration']\n",
    "\n",
    "#I set the level of stat significance\n",
    "alpha = 0.05\n",
    "\n",
    "#One-sided T-test\n",
    "results = st.ttest_ind(subs, no_subs, alternative='greater')\n",
    "\n",
    "print(f'p-value is:', results.pvalue)\n",
    "\n",
    "#Compare the resulting p-value with the significance level alpha\n",
    "if results.pvalue < alpha:\n",
    "     print(\"Reject the null hypothesis in favor of the alternative: The average travel time for users with a subscription is greater than the average travel time for users without a subscription.\")\n",
    "else:\n",
    "     print(\"The average travel time for users with a subscription is equal to the average travel time for users without a subscription.\")"
   ]
  },
  {
   "cell_type": "markdown",
   "id": "92210b2b",
   "metadata": {},
   "source": [
    "### Exploring the hypothesis of the optimal distance per trip without a subscription\n",
    "\n",
    "#### Defining hypotheses\n",
    "1. Null hypothesis (H0): The average distance per trip for users with a subscription **is** 3130 meters\n",
    "2. Alternative hypothesis (H1): The average distance per trip for users with a subscription is **more** 3130 meters"
   ]
  },
  {
   "cell_type": "code",
   "execution_count": 52,
   "id": "c0c0d5d9",
   "metadata": {},
   "outputs": [
    {
     "name": "stdout",
     "output_type": "stream",
     "text": [
      "p-value is: 0.9195368847849785\n",
      "There is not enough evidence to reject the null hypothesis: the average distance per trip for users with a subscription does not exceed 3130 meters.\n"
     ]
    }
   ],
   "source": [
    "#average travel distance of a user with a subscription\n",
    "distances = users_with_plans['distance']\n",
    "\n",
    "#I set the level of stat significance\n",
    "alpha = 0.05\n",
    "\n",
    "#One-sided T-test\n",
    "results = st.ttest_1samp(distances, 3130, alternative='greater')\n",
    "\n",
    "#conclusion\n",
    "print(\"p-value is:\", results.pvalue)\n",
    "\n",
    "#Compare the resulting p-value with the significance level alpha\n",
    "if results.pvalue < alpha:\n",
    "     print(\"We reject the null hypothesis in favor of the alternative: the average distance of one trip for users with a subscription exceeds 3130 meters.\")\n",
    "else:\n",
    "     print(\"There is not enough evidence to reject the null hypothesis: the average distance per trip for users with a subscription does not exceed 3130 meters.\")"
   ]
  },
  {
   "cell_type": "markdown",
   "id": "c1040de5",
   "metadata": {},
   "source": [
    "### Research from which user group generates more revenue\n",
    "\n",
    "#### Defining hypotheses\n",
    "1. Null hypothesis (H0): The average monthly revenue from users with a subscription is **not different** from the average monthly revenue from users without a subscription.\n",
    "2. Alternative Hypothesis (H1): The average monthly revenue from users with a subscription is **higher** than the average monthly revenue from users without a subscription."
   ]
  },
  {
   "cell_type": "code",
   "execution_count": 53,
   "id": "afca83cb",
   "metadata": {
    "scrolled": true
   },
   "outputs": [
    {
     "name": "stdout",
     "output_type": "stream",
     "text": [
      "p-value: 1.8850394384715216e-31\n",
      "We reject the null hypothesis in favor of the alternative: the average monthly revenue from users with a subscription is higher than from users without a subscription.\n"
     ]
    }
   ],
   "source": [
    "#revenue from users with subscription\n",
    "revenue_with_subscription = result_pivot[result_pivot['subscription_type'] == 'ultra']['revenue']\n",
    "#revenue from users without subscription\n",
    "revenue_without_subscription = result_pivot[result_pivot['subscription_type'] == 'free']['revenue']\n",
    "\n",
    "#stat significance\n",
    "alpha = 0.05\n",
    "\n",
    "#one-sided T-Test\n",
    "results = st.ttest_ind(revenue_with_subscription, revenue_without_subscription, alternative='greater')\n",
    "\n",
    "#conclusion\n",
    "print(\"p-value:\", results.pvalue)\n",
    "\n",
    "# Compare the resulting p-value with the significance level alpha\n",
    "if results.pvalue < alpha:\n",
    "     print(\"We reject the null hypothesis in favor of the alternative: the average monthly revenue from users with a subscription is higher than from users without a subscription.\")\n",
    "else:\n",
    "     print(\"There is not enough evidence to reject the null hypothesis: Average monthly revenue from users with a subscription is no different from revenue from users without a subscription.\")"
   ]
  },
  {
   "cell_type": "markdown",
   "id": "7ff0b682",
   "metadata": {},
   "source": [
    "### **Conclusion after hypotheses**\n",
    "\n",
    "1. Duration of trips for user groups with **free** subscription and with **ultra** subscription\n",
    "     - The average travel time for users with a subscription is greater than the average travel time for users without a subscription.\n",
    "     - p-value is 1.2804098316645618e-34, so the null hypothesis is rejected\n",
    "2. Optimal distance per trip without subscription\n",
    "     - Null hypothesis: The average distance per trip for users with a subscription is 3130 meters\n",
    "     - p-value is 0.9195368847849785, so the null hypothesis cannot be rejected here\n",
    "3. The question of which user group brings in more revenue\n",
    "     - Average monthly revenue from users with a subscription is higher than from users without a subscription.\n",
    "4. The task of reducing requests for technical support\n",
    "     - Two-way T-Test must be used with the ttest_ind method of the scipy library from the stats module"
   ]
  },
  {
   "cell_type": "markdown",
   "id": "5349f25c",
   "metadata": {},
   "source": [
    "## **Final output**\n",
    "**Initial goal** - GoFast service is the customer of this research. GoFast shared data about some users from several cities, as well as about their trips. To do this, it is necessary to analyze data and test hypotheses that can help the business grow\n",
    "\n",
    "**To achieve the goal**\n",
    "1. First stage:\n",
    "     - Familiarization with the data\n",
    "     - Preliminary construction of histograms\n",
    "     - Drawing up primary conclusions\n",
    "2. Second stage:\n",
    "     - Data type conversion\n",
    "     - Creating a new column with the month number\n",
    "     - Search and eliminate duplicates\n",
    "     - Range diagrams for:\n",
    "         - Age\n",
    "         - Distance covered\n",
    "         - Duration of trips\n",
    "     - Search for anomalies in different columns\n",
    "3. Exploratory data analysis:\n",
    "     - Various studies have been carried out:\n",
    "         - Frequency of occurrence of cities - most often Berlin 219 mentions, Dresden occurs 193 times\n",
    "         - Research on the age of users - The greatest popularity of scooters among 25-year-old users\n",
    "         - The ratio of users with **free** and **ultra** subscriptions is 54.4% and 45.6% of users, respectively (699 users to 835)\n",
    "4. The data from all tables was combined into one for subsequent analysis and visualization of some problems:\n",
    "     - The issue of travel distance and travel time of users without a subscription was investigated:\n",
    "         - About 800 trips over a distance of 2.5 km\n",
    "         - About 810 trips with a duration of 21 minutes\n",
    "         - There are 350 trips, the distance of which is over 5 km\n",
    "         - There are 100 trips with a duration of 30 minutes\n",
    "     - The issue of travel distance and travel time of users with a subscription was investigated:\n",
    "         - About 750 trips with a distance of 3100 meters\n",
    "         - Almost 600 trips with a duration of 17 minutes\n",
    "         - There are approximately 100 trips, the distance of which is 0.5 km\n",
    "         - About 20 trips have a trip duration of 5 minutes and the same number of trips have a duration of 35 minutes\n",
    "5. Revenue was calculated:\n",
    "     - The top 5 users who brought in the most revenue were found. Some revenue data:\n",
    "     - 5022, 4924, 4908, 4892, 4752\n",
    "6. Various hypotheses were tested:\n",
    "     - Duration of trips for different user groups\n",
    "         - Found: The average travel time for users with a subscription is longer than the average travel time for users without a subscription.\n",
    "     - Average monthly revenue of users with and without subscription\n",
    "         - Found: Average monthly revenue from users with a subscription is higher than from users without a subscription."
   ]
  }
 ],
 "metadata": {
  "ExecuteTimeLog": [
   {
    "duration": 1100,
    "start_time": "2024-02-08T16:55:45.506Z"
   },
   {
    "duration": 148,
    "start_time": "2024-02-08T16:55:46.608Z"
   },
   {
    "duration": 0,
    "start_time": "2024-02-08T16:55:46.760Z"
   },
   {
    "duration": 0,
    "start_time": "2024-02-08T16:55:46.762Z"
   },
   {
    "duration": 0,
    "start_time": "2024-02-08T16:55:46.763Z"
   },
   {
    "duration": 0,
    "start_time": "2024-02-08T16:55:46.764Z"
   },
   {
    "duration": 1,
    "start_time": "2024-02-08T16:55:46.765Z"
   },
   {
    "duration": 0,
    "start_time": "2024-02-08T16:55:46.767Z"
   },
   {
    "duration": 0,
    "start_time": "2024-02-08T16:55:46.768Z"
   },
   {
    "duration": 0,
    "start_time": "2024-02-08T16:55:46.770Z"
   },
   {
    "duration": 0,
    "start_time": "2024-02-08T16:55:46.771Z"
   },
   {
    "duration": 0,
    "start_time": "2024-02-08T16:55:46.773Z"
   },
   {
    "duration": 0,
    "start_time": "2024-02-08T16:55:46.774Z"
   },
   {
    "duration": 0,
    "start_time": "2024-02-08T16:55:46.775Z"
   },
   {
    "duration": 0,
    "start_time": "2024-02-08T16:55:46.777Z"
   },
   {
    "duration": 0,
    "start_time": "2024-02-08T16:55:46.779Z"
   },
   {
    "duration": 0,
    "start_time": "2024-02-08T16:55:46.780Z"
   },
   {
    "duration": 0,
    "start_time": "2024-02-08T16:55:46.781Z"
   },
   {
    "duration": 0,
    "start_time": "2024-02-08T16:55:46.818Z"
   },
   {
    "duration": 0,
    "start_time": "2024-02-08T16:55:46.819Z"
   },
   {
    "duration": 0,
    "start_time": "2024-02-08T16:55:46.820Z"
   },
   {
    "duration": 0,
    "start_time": "2024-02-08T16:55:46.821Z"
   },
   {
    "duration": 0,
    "start_time": "2024-02-08T16:55:46.822Z"
   },
   {
    "duration": 0,
    "start_time": "2024-02-08T16:55:46.823Z"
   },
   {
    "duration": 0,
    "start_time": "2024-02-08T16:55:46.824Z"
   },
   {
    "duration": 0,
    "start_time": "2024-02-08T16:55:46.824Z"
   },
   {
    "duration": 0,
    "start_time": "2024-02-08T16:55:46.825Z"
   },
   {
    "duration": 0,
    "start_time": "2024-02-08T16:55:46.826Z"
   },
   {
    "duration": 0,
    "start_time": "2024-02-08T16:55:46.827Z"
   },
   {
    "duration": 0,
    "start_time": "2024-02-08T16:55:46.828Z"
   },
   {
    "duration": 0,
    "start_time": "2024-02-08T16:55:46.829Z"
   },
   {
    "duration": 0,
    "start_time": "2024-02-08T16:55:46.830Z"
   },
   {
    "duration": 0,
    "start_time": "2024-02-08T16:55:46.831Z"
   },
   {
    "duration": 0,
    "start_time": "2024-02-08T16:55:46.832Z"
   },
   {
    "duration": 0,
    "start_time": "2024-02-08T16:55:46.833Z"
   },
   {
    "duration": 0,
    "start_time": "2024-02-08T16:55:46.834Z"
   },
   {
    "duration": 0,
    "start_time": "2024-02-08T16:55:46.834Z"
   },
   {
    "duration": 1,
    "start_time": "2024-02-08T16:55:46.835Z"
   },
   {
    "duration": 0,
    "start_time": "2024-02-08T16:55:46.837Z"
   },
   {
    "duration": 0,
    "start_time": "2024-02-08T16:55:46.838Z"
   },
   {
    "duration": 0,
    "start_time": "2024-02-08T16:55:46.839Z"
   },
   {
    "duration": 0,
    "start_time": "2024-02-08T16:55:46.840Z"
   },
   {
    "duration": 0,
    "start_time": "2024-02-08T16:55:46.841Z"
   },
   {
    "duration": 0,
    "start_time": "2024-02-08T16:55:46.842Z"
   },
   {
    "duration": 0,
    "start_time": "2024-02-08T16:55:46.843Z"
   },
   {
    "duration": 0,
    "start_time": "2024-02-08T16:55:46.844Z"
   },
   {
    "duration": 0,
    "start_time": "2024-02-08T16:55:46.845Z"
   },
   {
    "duration": 0,
    "start_time": "2024-02-08T16:55:46.846Z"
   },
   {
    "duration": 0,
    "start_time": "2024-02-08T16:55:46.847Z"
   },
   {
    "duration": 0,
    "start_time": "2024-02-08T16:55:46.848Z"
   },
   {
    "duration": 0,
    "start_time": "2024-02-08T16:55:46.849Z"
   },
   {
    "duration": 1,
    "start_time": "2024-02-08T16:55:46.850Z"
   },
   {
    "duration": 0,
    "start_time": "2024-02-08T16:55:46.852Z"
   },
   {
    "duration": 0,
    "start_time": "2024-02-08T16:55:46.853Z"
   },
   {
    "duration": 0,
    "start_time": "2024-02-08T16:55:46.918Z"
   },
   {
    "duration": 0,
    "start_time": "2024-02-08T16:55:46.919Z"
   },
   {
    "duration": 0,
    "start_time": "2024-02-08T16:55:46.920Z"
   },
   {
    "duration": 0,
    "start_time": "2024-02-08T16:55:46.921Z"
   },
   {
    "duration": 0,
    "start_time": "2024-02-08T16:55:46.922Z"
   },
   {
    "duration": 0,
    "start_time": "2024-02-08T16:55:46.923Z"
   },
   {
    "duration": 0,
    "start_time": "2024-02-08T16:55:46.924Z"
   },
   {
    "duration": 0,
    "start_time": "2024-02-08T16:55:46.925Z"
   },
   {
    "duration": 0,
    "start_time": "2024-02-08T16:55:46.927Z"
   },
   {
    "duration": 0,
    "start_time": "2024-02-08T16:55:46.928Z"
   },
   {
    "duration": 0,
    "start_time": "2024-02-08T16:55:46.929Z"
   },
   {
    "duration": 0,
    "start_time": "2024-02-08T16:55:46.930Z"
   },
   {
    "duration": 0,
    "start_time": "2024-02-08T16:55:46.932Z"
   },
   {
    "duration": 0,
    "start_time": "2024-02-08T16:55:46.934Z"
   },
   {
    "duration": 102,
    "start_time": "2024-02-08T16:57:15.376Z"
   },
   {
    "duration": 1106,
    "start_time": "2024-02-08T16:57:20.114Z"
   },
   {
    "duration": 120,
    "start_time": "2024-02-08T16:57:21.221Z"
   },
   {
    "duration": 12,
    "start_time": "2024-02-08T16:57:21.342Z"
   },
   {
    "duration": 37,
    "start_time": "2024-02-08T16:57:21.356Z"
   },
   {
    "duration": 17,
    "start_time": "2024-02-08T16:57:21.394Z"
   },
   {
    "duration": 12,
    "start_time": "2024-02-08T16:57:21.412Z"
   },
   {
    "duration": 28,
    "start_time": "2024-02-08T16:57:21.426Z"
   },
   {
    "duration": 32,
    "start_time": "2024-02-08T16:57:21.455Z"
   },
   {
    "duration": 452,
    "start_time": "2024-02-08T16:57:21.489Z"
   },
   {
    "duration": 8,
    "start_time": "2024-02-08T16:57:21.944Z"
   },
   {
    "duration": 29,
    "start_time": "2024-02-08T16:57:21.954Z"
   },
   {
    "duration": 14,
    "start_time": "2024-02-08T16:57:21.985Z"
   },
   {
    "duration": 160,
    "start_time": "2024-02-08T16:57:22.001Z"
   },
   {
    "duration": 5,
    "start_time": "2024-02-08T16:57:22.163Z"
   },
   {
    "duration": 33,
    "start_time": "2024-02-08T16:57:22.170Z"
   },
   {
    "duration": 17,
    "start_time": "2024-02-08T16:57:22.204Z"
   },
   {
    "duration": 9,
    "start_time": "2024-02-08T16:57:22.223Z"
   },
   {
    "duration": 23,
    "start_time": "2024-02-08T16:57:22.233Z"
   },
   {
    "duration": 40,
    "start_time": "2024-02-08T16:57:22.257Z"
   },
   {
    "duration": 5,
    "start_time": "2024-02-08T16:57:22.298Z"
   },
   {
    "duration": 34,
    "start_time": "2024-02-08T16:57:22.304Z"
   },
   {
    "duration": 114,
    "start_time": "2024-02-08T16:57:22.339Z"
   },
   {
    "duration": 7,
    "start_time": "2024-02-08T16:57:22.454Z"
   },
   {
    "duration": 121,
    "start_time": "2024-02-08T16:57:22.463Z"
   },
   {
    "duration": 7,
    "start_time": "2024-02-08T16:57:22.586Z"
   },
   {
    "duration": 112,
    "start_time": "2024-02-08T16:57:22.594Z"
   },
   {
    "duration": 12,
    "start_time": "2024-02-08T16:57:22.707Z"
   },
   {
    "duration": 83,
    "start_time": "2024-02-08T16:57:22.723Z"
   },
   {
    "duration": 4,
    "start_time": "2024-02-08T16:57:22.808Z"
   },
   {
    "duration": 57,
    "start_time": "2024-02-08T16:57:22.813Z"
   },
   {
    "duration": 14,
    "start_time": "2024-02-08T16:57:22.871Z"
   },
   {
    "duration": 14,
    "start_time": "2024-02-08T16:57:22.886Z"
   },
   {
    "duration": 10,
    "start_time": "2024-02-08T16:57:22.902Z"
   },
   {
    "duration": 155,
    "start_time": "2024-02-08T16:57:22.913Z"
   },
   {
    "duration": 85,
    "start_time": "2024-02-08T16:57:23.069Z"
   },
   {
    "duration": 141,
    "start_time": "2024-02-08T16:57:23.156Z"
   },
   {
    "duration": 137,
    "start_time": "2024-02-08T16:57:23.298Z"
   },
   {
    "duration": 152,
    "start_time": "2024-02-08T16:57:23.437Z"
   },
   {
    "duration": 33,
    "start_time": "2024-02-08T16:57:23.591Z"
   },
   {
    "duration": 16,
    "start_time": "2024-02-08T16:57:23.626Z"
   },
   {
    "duration": 40,
    "start_time": "2024-02-08T16:57:23.644Z"
   },
   {
    "duration": 14,
    "start_time": "2024-02-08T16:57:23.685Z"
   },
   {
    "duration": 5,
    "start_time": "2024-02-08T16:57:23.701Z"
   },
   {
    "duration": 176,
    "start_time": "2024-02-08T16:57:23.707Z"
   },
   {
    "duration": 162,
    "start_time": "2024-02-08T16:57:23.884Z"
   },
   {
    "duration": 172,
    "start_time": "2024-02-08T16:57:24.048Z"
   },
   {
    "duration": 167,
    "start_time": "2024-02-08T16:57:24.221Z"
   },
   {
    "duration": 10,
    "start_time": "2024-02-08T16:57:24.390Z"
   },
   {
    "duration": 16,
    "start_time": "2024-02-08T16:57:24.402Z"
   },
   {
    "duration": 14,
    "start_time": "2024-02-08T16:57:24.420Z"
   },
   {
    "duration": 8,
    "start_time": "2024-02-08T16:57:24.436Z"
   },
   {
    "duration": 8,
    "start_time": "2024-02-08T16:57:24.445Z"
   },
   {
    "duration": 5,
    "start_time": "2024-02-08T16:57:24.454Z"
   },
   {
    "duration": 11,
    "start_time": "2024-02-08T16:57:24.461Z"
   },
   {
    "duration": 7,
    "start_time": "2024-02-08T16:57:24.474Z"
   },
   {
    "duration": 8,
    "start_time": "2024-02-08T16:57:24.482Z"
   },
   {
    "duration": 28,
    "start_time": "2024-02-08T16:57:24.491Z"
   },
   {
    "duration": 29,
    "start_time": "2024-02-08T16:57:24.520Z"
   },
   {
    "duration": 7,
    "start_time": "2024-02-08T16:57:24.550Z"
   },
   {
    "duration": 14,
    "start_time": "2024-02-08T16:57:24.558Z"
   },
   {
    "duration": 116,
    "start_time": "2024-02-08T16:57:24.573Z"
   },
   {
    "duration": 11,
    "start_time": "2024-02-08T16:57:24.690Z"
   },
   {
    "duration": 16,
    "start_time": "2024-02-08T16:57:24.702Z"
   },
   {
    "duration": 183,
    "start_time": "2024-02-08T16:57:24.719Z"
   },
   {
    "duration": 19,
    "start_time": "2024-02-08T16:57:24.903Z"
   },
   {
    "duration": 12,
    "start_time": "2024-02-08T16:57:24.923Z"
   },
   {
    "duration": 18,
    "start_time": "2024-02-08T16:57:24.936Z"
   },
   {
    "duration": 299,
    "start_time": "2024-02-08T16:57:24.955Z"
   },
   {
    "duration": 100,
    "start_time": "2024-02-08T16:59:10.818Z"
   },
   {
    "duration": 7,
    "start_time": "2024-02-08T16:59:19.850Z"
   },
   {
    "duration": 12,
    "start_time": "2024-02-08T17:10:11.504Z"
   },
   {
    "duration": 7,
    "start_time": "2024-02-08T17:10:11.931Z"
   },
   {
    "duration": 5,
    "start_time": "2024-02-08T17:10:12.441Z"
   },
   {
    "duration": 11,
    "start_time": "2024-02-08T17:10:12.886Z"
   },
   {
    "duration": 6,
    "start_time": "2024-02-08T17:10:22.979Z"
   },
   {
    "duration": 19,
    "start_time": "2024-02-08T17:10:55.523Z"
   },
   {
    "duration": 1044,
    "start_time": "2024-02-08T17:17:12.061Z"
   },
   {
    "duration": 112,
    "start_time": "2024-02-08T17:17:13.107Z"
   },
   {
    "duration": 11,
    "start_time": "2024-02-08T17:17:13.221Z"
   },
   {
    "duration": 11,
    "start_time": "2024-02-08T17:17:13.233Z"
   },
   {
    "duration": 6,
    "start_time": "2024-02-08T17:17:13.246Z"
   },
   {
    "duration": 15,
    "start_time": "2024-02-08T17:17:13.253Z"
   },
   {
    "duration": 15,
    "start_time": "2024-02-08T17:17:13.269Z"
   },
   {
    "duration": 26,
    "start_time": "2024-02-08T17:17:13.285Z"
   },
   {
    "duration": 409,
    "start_time": "2024-02-08T17:17:13.314Z"
   },
   {
    "duration": 6,
    "start_time": "2024-02-08T17:17:13.725Z"
   },
   {
    "duration": 19,
    "start_time": "2024-02-08T17:17:13.733Z"
   },
   {
    "duration": 18,
    "start_time": "2024-02-08T17:17:13.753Z"
   },
   {
    "duration": 157,
    "start_time": "2024-02-08T17:17:13.773Z"
   },
   {
    "duration": 4,
    "start_time": "2024-02-08T17:17:13.933Z"
   },
   {
    "duration": 15,
    "start_time": "2024-02-08T17:17:13.938Z"
   },
   {
    "duration": 19,
    "start_time": "2024-02-08T17:17:13.954Z"
   },
   {
    "duration": 11,
    "start_time": "2024-02-08T17:17:13.974Z"
   },
   {
    "duration": 6,
    "start_time": "2024-02-08T17:17:13.987Z"
   },
   {
    "duration": 12,
    "start_time": "2024-02-08T17:17:13.994Z"
   },
   {
    "duration": 13,
    "start_time": "2024-02-08T17:17:14.007Z"
   },
   {
    "duration": 5,
    "start_time": "2024-02-08T17:17:14.021Z"
   },
   {
    "duration": 97,
    "start_time": "2024-02-08T17:17:14.028Z"
   },
   {
    "duration": 7,
    "start_time": "2024-02-08T17:17:14.127Z"
   },
   {
    "duration": 109,
    "start_time": "2024-02-08T17:17:14.135Z"
   },
   {
    "duration": 7,
    "start_time": "2024-02-08T17:17:14.246Z"
   },
   {
    "duration": 116,
    "start_time": "2024-02-08T17:17:14.254Z"
   },
   {
    "duration": 8,
    "start_time": "2024-02-08T17:17:14.371Z"
   },
   {
    "duration": 12,
    "start_time": "2024-02-08T17:17:14.380Z"
   },
   {
    "duration": 9,
    "start_time": "2024-02-08T17:17:14.394Z"
   },
   {
    "duration": 15,
    "start_time": "2024-02-08T17:17:14.405Z"
   },
   {
    "duration": 3,
    "start_time": "2024-02-08T17:17:14.422Z"
   },
   {
    "duration": 83,
    "start_time": "2024-02-08T17:17:14.427Z"
   },
   {
    "duration": 7,
    "start_time": "2024-02-08T17:17:14.512Z"
   },
   {
    "duration": 150,
    "start_time": "2024-02-08T17:17:14.520Z"
   },
   {
    "duration": 92,
    "start_time": "2024-02-08T17:17:14.672Z"
   },
   {
    "duration": 153,
    "start_time": "2024-02-08T17:17:14.766Z"
   },
   {
    "duration": 140,
    "start_time": "2024-02-08T17:17:14.920Z"
   },
   {
    "duration": 142,
    "start_time": "2024-02-08T17:17:15.062Z"
   },
   {
    "duration": 17,
    "start_time": "2024-02-08T17:17:15.206Z"
   },
   {
    "duration": 10,
    "start_time": "2024-02-08T17:17:15.225Z"
   },
   {
    "duration": 17,
    "start_time": "2024-02-08T17:17:15.240Z"
   },
   {
    "duration": 14,
    "start_time": "2024-02-08T17:17:15.258Z"
   },
   {
    "duration": 4,
    "start_time": "2024-02-08T17:17:15.274Z"
   },
   {
    "duration": 190,
    "start_time": "2024-02-08T17:17:15.279Z"
   },
   {
    "duration": 162,
    "start_time": "2024-02-08T17:17:15.471Z"
   },
   {
    "duration": 185,
    "start_time": "2024-02-08T17:17:15.635Z"
   },
   {
    "duration": 179,
    "start_time": "2024-02-08T17:17:15.822Z"
   },
   {
    "duration": 19,
    "start_time": "2024-02-08T17:17:16.003Z"
   },
   {
    "duration": 4,
    "start_time": "2024-02-08T17:17:16.024Z"
   },
   {
    "duration": 17,
    "start_time": "2024-02-08T17:17:16.030Z"
   },
   {
    "duration": 8,
    "start_time": "2024-02-08T17:17:16.049Z"
   },
   {
    "duration": 7,
    "start_time": "2024-02-08T17:17:16.058Z"
   },
   {
    "duration": 7,
    "start_time": "2024-02-08T17:17:16.067Z"
   },
   {
    "duration": 14,
    "start_time": "2024-02-08T17:17:16.075Z"
   },
   {
    "duration": 6,
    "start_time": "2024-02-08T17:17:16.091Z"
   },
   {
    "duration": 5,
    "start_time": "2024-02-08T17:17:16.118Z"
   },
   {
    "duration": 3,
    "start_time": "2024-02-08T17:17:16.125Z"
   },
   {
    "duration": 11,
    "start_time": "2024-02-08T17:17:16.129Z"
   },
   {
    "duration": 7,
    "start_time": "2024-02-08T17:17:16.141Z"
   },
   {
    "duration": 6,
    "start_time": "2024-02-08T17:17:16.149Z"
   },
   {
    "duration": 132,
    "start_time": "2024-02-08T17:17:16.156Z"
   },
   {
    "duration": 12,
    "start_time": "2024-02-08T17:17:16.290Z"
   },
   {
    "duration": 22,
    "start_time": "2024-02-08T17:17:16.303Z"
   },
   {
    "duration": 137,
    "start_time": "2024-02-08T17:17:16.327Z"
   },
   {
    "duration": 16,
    "start_time": "2024-02-08T17:17:16.466Z"
   },
   {
    "duration": 35,
    "start_time": "2024-02-08T17:17:16.484Z"
   },
   {
    "duration": 5,
    "start_time": "2024-02-08T17:17:16.520Z"
   },
   {
    "duration": 298,
    "start_time": "2024-02-08T17:17:16.527Z"
   },
   {
    "duration": 1383,
    "start_time": "2024-02-10T13:23:32.843Z"
   },
   {
    "duration": 237,
    "start_time": "2024-02-10T13:23:34.228Z"
   },
   {
    "duration": 16,
    "start_time": "2024-02-10T13:23:34.467Z"
   },
   {
    "duration": 18,
    "start_time": "2024-02-10T13:23:34.485Z"
   },
   {
    "duration": 7,
    "start_time": "2024-02-10T13:23:34.504Z"
   },
   {
    "duration": 14,
    "start_time": "2024-02-10T13:23:34.512Z"
   },
   {
    "duration": 9,
    "start_time": "2024-02-10T13:23:34.527Z"
   },
   {
    "duration": 30,
    "start_time": "2024-02-10T13:23:34.537Z"
   },
   {
    "duration": 428,
    "start_time": "2024-02-10T13:23:34.569Z"
   },
   {
    "duration": 7,
    "start_time": "2024-02-10T13:23:35.001Z"
   },
   {
    "duration": 12,
    "start_time": "2024-02-10T13:23:35.010Z"
   },
   {
    "duration": 22,
    "start_time": "2024-02-10T13:23:35.024Z"
   },
   {
    "duration": 17,
    "start_time": "2024-02-10T13:23:35.048Z"
   },
   {
    "duration": 6,
    "start_time": "2024-02-10T13:23:35.067Z"
   },
   {
    "duration": 4,
    "start_time": "2024-02-10T13:23:35.075Z"
   },
   {
    "duration": 16,
    "start_time": "2024-02-10T13:23:35.080Z"
   },
   {
    "duration": 9,
    "start_time": "2024-02-10T13:23:35.098Z"
   },
   {
    "duration": 4,
    "start_time": "2024-02-10T13:23:35.109Z"
   },
   {
    "duration": 6,
    "start_time": "2024-02-10T13:23:35.115Z"
   },
   {
    "duration": 50,
    "start_time": "2024-02-10T13:23:35.123Z"
   },
   {
    "duration": 6,
    "start_time": "2024-02-10T13:23:35.175Z"
   },
   {
    "duration": 7,
    "start_time": "2024-02-10T13:23:35.182Z"
   },
   {
    "duration": 109,
    "start_time": "2024-02-10T13:23:35.191Z"
   },
   {
    "duration": 8,
    "start_time": "2024-02-10T13:23:35.302Z"
   },
   {
    "duration": 120,
    "start_time": "2024-02-10T13:23:35.311Z"
   },
   {
    "duration": 7,
    "start_time": "2024-02-10T13:23:35.433Z"
   },
   {
    "duration": 105,
    "start_time": "2024-02-10T13:23:35.441Z"
   },
   {
    "duration": 16,
    "start_time": "2024-02-10T13:23:35.549Z"
   },
   {
    "duration": 5,
    "start_time": "2024-02-10T13:23:35.566Z"
   },
   {
    "duration": 136,
    "start_time": "2024-02-10T13:23:35.573Z"
   },
   {
    "duration": 126,
    "start_time": "2024-02-10T13:23:35.710Z"
   },
   {
    "duration": 264,
    "start_time": "2024-02-10T13:23:35.838Z"
   },
   {
    "duration": 8,
    "start_time": "2024-02-10T13:23:36.104Z"
   },
   {
    "duration": 172,
    "start_time": "2024-02-10T13:23:36.113Z"
   },
   {
    "duration": 155,
    "start_time": "2024-02-10T13:23:36.287Z"
   },
   {
    "duration": 21,
    "start_time": "2024-02-10T13:23:36.444Z"
   },
   {
    "duration": 10,
    "start_time": "2024-02-10T13:23:36.467Z"
   },
   {
    "duration": 8,
    "start_time": "2024-02-10T13:23:36.478Z"
   },
   {
    "duration": 16,
    "start_time": "2024-02-10T13:23:36.488Z"
   },
   {
    "duration": 13,
    "start_time": "2024-02-10T13:23:36.505Z"
   },
   {
    "duration": 234,
    "start_time": "2024-02-10T13:23:36.519Z"
   },
   {
    "duration": 162,
    "start_time": "2024-02-10T13:23:36.755Z"
   },
   {
    "duration": 156,
    "start_time": "2024-02-10T13:23:36.919Z"
   },
   {
    "duration": 170,
    "start_time": "2024-02-10T13:23:37.077Z"
   },
   {
    "duration": 166,
    "start_time": "2024-02-10T13:23:37.249Z"
   },
   {
    "duration": 166,
    "start_time": "2024-02-10T13:23:37.416Z"
   },
   {
    "duration": 7,
    "start_time": "2024-02-10T13:23:37.584Z"
   },
   {
    "duration": 3,
    "start_time": "2024-02-10T13:23:37.593Z"
   },
   {
    "duration": 5,
    "start_time": "2024-02-10T13:23:37.597Z"
   },
   {
    "duration": 11,
    "start_time": "2024-02-10T13:23:37.604Z"
   },
   {
    "duration": 9,
    "start_time": "2024-02-10T13:23:37.616Z"
   },
   {
    "duration": 6,
    "start_time": "2024-02-10T13:23:37.626Z"
   },
   {
    "duration": 5,
    "start_time": "2024-02-10T13:23:37.633Z"
   },
   {
    "duration": 12,
    "start_time": "2024-02-10T13:23:37.665Z"
   },
   {
    "duration": 3,
    "start_time": "2024-02-10T13:23:37.678Z"
   },
   {
    "duration": 6,
    "start_time": "2024-02-10T13:23:37.682Z"
   },
   {
    "duration": 7,
    "start_time": "2024-02-10T13:23:37.690Z"
   },
   {
    "duration": 5,
    "start_time": "2024-02-10T13:23:37.699Z"
   },
   {
    "duration": 5,
    "start_time": "2024-02-10T13:23:37.705Z"
   },
   {
    "duration": 7,
    "start_time": "2024-02-10T13:23:37.711Z"
   },
   {
    "duration": 4,
    "start_time": "2024-02-10T13:23:37.720Z"
   },
   {
    "duration": 43,
    "start_time": "2024-02-10T13:23:37.725Z"
   },
   {
    "duration": 109,
    "start_time": "2024-02-10T13:23:37.770Z"
   },
   {
    "duration": 1109,
    "start_time": "2024-02-10T13:24:08.447Z"
   },
   {
    "duration": 108,
    "start_time": "2024-02-10T13:24:09.558Z"
   },
   {
    "duration": 11,
    "start_time": "2024-02-10T13:24:09.668Z"
   },
   {
    "duration": 11,
    "start_time": "2024-02-10T13:24:09.682Z"
   },
   {
    "duration": 6,
    "start_time": "2024-02-10T13:24:09.695Z"
   },
   {
    "duration": 11,
    "start_time": "2024-02-10T13:24:09.703Z"
   },
   {
    "duration": 14,
    "start_time": "2024-02-10T13:24:09.715Z"
   },
   {
    "duration": 40,
    "start_time": "2024-02-10T13:24:09.730Z"
   },
   {
    "duration": 433,
    "start_time": "2024-02-10T13:24:09.771Z"
   },
   {
    "duration": 7,
    "start_time": "2024-02-10T13:24:10.206Z"
   },
   {
    "duration": 10,
    "start_time": "2024-02-10T13:24:10.215Z"
   },
   {
    "duration": 8,
    "start_time": "2024-02-10T13:24:10.226Z"
   },
   {
    "duration": 30,
    "start_time": "2024-02-10T13:24:10.236Z"
   },
   {
    "duration": 5,
    "start_time": "2024-02-10T13:24:10.267Z"
   },
   {
    "duration": 6,
    "start_time": "2024-02-10T13:24:10.273Z"
   },
   {
    "duration": 11,
    "start_time": "2024-02-10T13:24:10.280Z"
   },
   {
    "duration": 9,
    "start_time": "2024-02-10T13:24:10.293Z"
   },
   {
    "duration": 11,
    "start_time": "2024-02-10T13:24:10.303Z"
   },
   {
    "duration": 6,
    "start_time": "2024-02-10T13:24:10.316Z"
   },
   {
    "duration": 12,
    "start_time": "2024-02-10T13:24:10.323Z"
   },
   {
    "duration": 30,
    "start_time": "2024-02-10T13:24:10.336Z"
   },
   {
    "duration": 6,
    "start_time": "2024-02-10T13:24:10.367Z"
   },
   {
    "duration": 100,
    "start_time": "2024-02-10T13:24:10.374Z"
   },
   {
    "duration": 8,
    "start_time": "2024-02-10T13:24:10.476Z"
   },
   {
    "duration": 109,
    "start_time": "2024-02-10T13:24:10.485Z"
   },
   {
    "duration": 8,
    "start_time": "2024-02-10T13:24:10.595Z"
   },
   {
    "duration": 114,
    "start_time": "2024-02-10T13:24:10.604Z"
   },
   {
    "duration": 8,
    "start_time": "2024-02-10T13:24:10.722Z"
   },
   {
    "duration": 5,
    "start_time": "2024-02-10T13:24:10.731Z"
   },
   {
    "duration": 149,
    "start_time": "2024-02-10T13:24:10.737Z"
   },
   {
    "duration": 117,
    "start_time": "2024-02-10T13:24:10.887Z"
   },
   {
    "duration": 226,
    "start_time": "2024-02-10T13:24:11.006Z"
   },
   {
    "duration": 7,
    "start_time": "2024-02-10T13:24:11.233Z"
   },
   {
    "duration": 174,
    "start_time": "2024-02-10T13:24:11.242Z"
   },
   {
    "duration": 143,
    "start_time": "2024-02-10T13:24:11.417Z"
   },
   {
    "duration": 14,
    "start_time": "2024-02-10T13:24:11.564Z"
   },
   {
    "duration": 10,
    "start_time": "2024-02-10T13:24:11.580Z"
   },
   {
    "duration": 5,
    "start_time": "2024-02-10T13:24:11.592Z"
   },
   {
    "duration": 16,
    "start_time": "2024-02-10T13:24:11.599Z"
   },
   {
    "duration": 13,
    "start_time": "2024-02-10T13:24:11.617Z"
   },
   {
    "duration": 163,
    "start_time": "2024-02-10T13:24:11.666Z"
   },
   {
    "duration": 160,
    "start_time": "2024-02-10T13:24:11.830Z"
   },
   {
    "duration": 153,
    "start_time": "2024-02-10T13:24:11.991Z"
   },
   {
    "duration": 173,
    "start_time": "2024-02-10T13:24:12.146Z"
   },
   {
    "duration": 172,
    "start_time": "2024-02-10T13:24:12.321Z"
   },
   {
    "duration": 204,
    "start_time": "2024-02-10T13:24:12.495Z"
   },
   {
    "duration": 7,
    "start_time": "2024-02-10T13:24:12.700Z"
   },
   {
    "duration": 3,
    "start_time": "2024-02-10T13:24:12.709Z"
   },
   {
    "duration": 8,
    "start_time": "2024-02-10T13:24:12.714Z"
   },
   {
    "duration": 11,
    "start_time": "2024-02-10T13:24:12.723Z"
   },
   {
    "duration": 16,
    "start_time": "2024-02-10T13:24:12.735Z"
   },
   {
    "duration": 21,
    "start_time": "2024-02-10T13:24:12.753Z"
   },
   {
    "duration": 4,
    "start_time": "2024-02-10T13:24:12.776Z"
   },
   {
    "duration": 12,
    "start_time": "2024-02-10T13:24:12.782Z"
   },
   {
    "duration": 2,
    "start_time": "2024-02-10T13:24:12.795Z"
   },
   {
    "duration": 9,
    "start_time": "2024-02-10T13:24:12.799Z"
   },
   {
    "duration": 13,
    "start_time": "2024-02-10T13:24:12.809Z"
   },
   {
    "duration": 6,
    "start_time": "2024-02-10T13:24:12.824Z"
   },
   {
    "duration": 14,
    "start_time": "2024-02-10T13:24:12.831Z"
   },
   {
    "duration": 19,
    "start_time": "2024-02-10T13:24:12.847Z"
   },
   {
    "duration": 8,
    "start_time": "2024-02-10T13:24:12.867Z"
   },
   {
    "duration": 5,
    "start_time": "2024-02-10T13:24:12.877Z"
   },
   {
    "duration": 105,
    "start_time": "2024-02-10T13:24:12.884Z"
   },
   {
    "duration": 1143,
    "start_time": "2024-02-10T13:56:36.070Z"
   },
   {
    "duration": 110,
    "start_time": "2024-02-10T13:56:37.215Z"
   },
   {
    "duration": 12,
    "start_time": "2024-02-10T13:56:37.327Z"
   },
   {
    "duration": 10,
    "start_time": "2024-02-10T13:56:37.341Z"
   },
   {
    "duration": 8,
    "start_time": "2024-02-10T13:56:37.353Z"
   },
   {
    "duration": 11,
    "start_time": "2024-02-10T13:56:37.362Z"
   },
   {
    "duration": 17,
    "start_time": "2024-02-10T13:56:37.375Z"
   },
   {
    "duration": 26,
    "start_time": "2024-02-10T13:56:37.393Z"
   },
   {
    "duration": 423,
    "start_time": "2024-02-10T13:56:37.421Z"
   },
   {
    "duration": 7,
    "start_time": "2024-02-10T13:56:37.846Z"
   },
   {
    "duration": 16,
    "start_time": "2024-02-10T13:56:37.855Z"
   },
   {
    "duration": 8,
    "start_time": "2024-02-10T13:56:37.872Z"
   },
   {
    "duration": 9,
    "start_time": "2024-02-10T13:56:37.881Z"
   },
   {
    "duration": 5,
    "start_time": "2024-02-10T13:56:37.915Z"
   },
   {
    "duration": 3,
    "start_time": "2024-02-10T13:56:37.921Z"
   },
   {
    "duration": 10,
    "start_time": "2024-02-10T13:56:37.925Z"
   },
   {
    "duration": 13,
    "start_time": "2024-02-10T13:56:37.936Z"
   },
   {
    "duration": 4,
    "start_time": "2024-02-10T13:56:37.950Z"
   },
   {
    "duration": 9,
    "start_time": "2024-02-10T13:56:37.955Z"
   },
   {
    "duration": 58,
    "start_time": "2024-02-10T13:56:37.965Z"
   },
   {
    "duration": 4,
    "start_time": "2024-02-10T13:56:38.025Z"
   },
   {
    "duration": 6,
    "start_time": "2024-02-10T13:56:38.031Z"
   },
   {
    "duration": 121,
    "start_time": "2024-02-10T13:56:38.039Z"
   },
   {
    "duration": 14,
    "start_time": "2024-02-10T13:56:38.162Z"
   },
   {
    "duration": 128,
    "start_time": "2024-02-10T13:56:38.178Z"
   },
   {
    "duration": 13,
    "start_time": "2024-02-10T13:56:38.307Z"
   },
   {
    "duration": 119,
    "start_time": "2024-02-10T13:56:38.322Z"
   },
   {
    "duration": 9,
    "start_time": "2024-02-10T13:56:38.445Z"
   },
   {
    "duration": 5,
    "start_time": "2024-02-10T13:56:38.456Z"
   },
   {
    "duration": 161,
    "start_time": "2024-02-10T13:56:38.463Z"
   },
   {
    "duration": 122,
    "start_time": "2024-02-10T13:56:38.625Z"
   },
   {
    "duration": 228,
    "start_time": "2024-02-10T13:56:38.749Z"
   },
   {
    "duration": 8,
    "start_time": "2024-02-10T13:56:38.979Z"
   },
   {
    "duration": 185,
    "start_time": "2024-02-10T13:56:38.989Z"
   },
   {
    "duration": 161,
    "start_time": "2024-02-10T13:56:39.176Z"
   },
   {
    "duration": 14,
    "start_time": "2024-02-10T13:56:39.338Z"
   },
   {
    "duration": 12,
    "start_time": "2024-02-10T13:56:39.354Z"
   },
   {
    "duration": 8,
    "start_time": "2024-02-10T13:56:39.367Z"
   },
   {
    "duration": 39,
    "start_time": "2024-02-10T13:56:39.376Z"
   },
   {
    "duration": 14,
    "start_time": "2024-02-10T13:56:39.416Z"
   },
   {
    "duration": 197,
    "start_time": "2024-02-10T13:56:39.432Z"
   },
   {
    "duration": 159,
    "start_time": "2024-02-10T13:56:39.631Z"
   },
   {
    "duration": 163,
    "start_time": "2024-02-10T13:56:39.791Z"
   },
   {
    "duration": 185,
    "start_time": "2024-02-10T13:56:39.955Z"
   },
   {
    "duration": 176,
    "start_time": "2024-02-10T13:56:40.141Z"
   },
   {
    "duration": 177,
    "start_time": "2024-02-10T13:56:40.318Z"
   },
   {
    "duration": 7,
    "start_time": "2024-02-10T13:56:40.497Z"
   },
   {
    "duration": 10,
    "start_time": "2024-02-10T13:56:40.506Z"
   },
   {
    "duration": 7,
    "start_time": "2024-02-10T13:56:40.518Z"
   },
   {
    "duration": 9,
    "start_time": "2024-02-10T13:56:40.526Z"
   },
   {
    "duration": 6,
    "start_time": "2024-02-10T13:56:40.536Z"
   },
   {
    "duration": 15,
    "start_time": "2024-02-10T13:56:40.544Z"
   },
   {
    "duration": 14,
    "start_time": "2024-02-10T13:56:40.560Z"
   },
   {
    "duration": 12,
    "start_time": "2024-02-10T13:56:40.576Z"
   },
   {
    "duration": 3,
    "start_time": "2024-02-10T13:56:40.590Z"
   },
   {
    "duration": 23,
    "start_time": "2024-02-10T13:56:40.594Z"
   },
   {
    "duration": 7,
    "start_time": "2024-02-10T13:56:40.618Z"
   },
   {
    "duration": 7,
    "start_time": "2024-02-10T13:56:40.627Z"
   },
   {
    "duration": 6,
    "start_time": "2024-02-10T13:56:40.636Z"
   },
   {
    "duration": 7,
    "start_time": "2024-02-10T13:56:40.644Z"
   },
   {
    "duration": 5,
    "start_time": "2024-02-10T13:56:40.653Z"
   },
   {
    "duration": 8,
    "start_time": "2024-02-10T13:56:40.660Z"
   },
   {
    "duration": 164,
    "start_time": "2024-02-10T13:56:40.670Z"
   },
   {
    "duration": 109,
    "start_time": "2024-02-10T13:58:31.870Z"
   },
   {
    "duration": 16,
    "start_time": "2024-02-10T14:01:02.522Z"
   },
   {
    "duration": 6,
    "start_time": "2024-02-10T14:05:29.375Z"
   },
   {
    "duration": 5,
    "start_time": "2024-02-10T14:14:18.060Z"
   },
   {
    "duration": 3,
    "start_time": "2024-02-10T14:16:00.566Z"
   },
   {
    "duration": 1126,
    "start_time": "2024-02-10T14:18:46.501Z"
   },
   {
    "duration": 99,
    "start_time": "2024-02-10T14:18:47.629Z"
   },
   {
    "duration": 12,
    "start_time": "2024-02-10T14:18:47.730Z"
   },
   {
    "duration": 12,
    "start_time": "2024-02-10T14:18:47.744Z"
   },
   {
    "duration": 7,
    "start_time": "2024-02-10T14:18:47.757Z"
   },
   {
    "duration": 10,
    "start_time": "2024-02-10T14:18:47.765Z"
   },
   {
    "duration": 8,
    "start_time": "2024-02-10T14:18:47.776Z"
   },
   {
    "duration": 35,
    "start_time": "2024-02-10T14:18:47.786Z"
   },
   {
    "duration": 434,
    "start_time": "2024-02-10T14:18:47.822Z"
   },
   {
    "duration": 6,
    "start_time": "2024-02-10T14:18:48.259Z"
   },
   {
    "duration": 10,
    "start_time": "2024-02-10T14:18:48.267Z"
   },
   {
    "duration": 7,
    "start_time": "2024-02-10T14:18:48.279Z"
   },
   {
    "duration": 5,
    "start_time": "2024-02-10T14:18:48.288Z"
   },
   {
    "duration": 4,
    "start_time": "2024-02-10T14:18:48.315Z"
   },
   {
    "duration": 4,
    "start_time": "2024-02-10T14:18:48.320Z"
   },
   {
    "duration": 16,
    "start_time": "2024-02-10T14:18:48.325Z"
   },
   {
    "duration": 12,
    "start_time": "2024-02-10T14:18:48.342Z"
   },
   {
    "duration": 4,
    "start_time": "2024-02-10T14:18:48.355Z"
   },
   {
    "duration": 5,
    "start_time": "2024-02-10T14:18:48.361Z"
   },
   {
    "duration": 12,
    "start_time": "2024-02-10T14:18:48.368Z"
   },
   {
    "duration": 37,
    "start_time": "2024-02-10T14:18:48.381Z"
   },
   {
    "duration": 5,
    "start_time": "2024-02-10T14:18:48.420Z"
   },
   {
    "duration": 114,
    "start_time": "2024-02-10T14:18:48.427Z"
   },
   {
    "duration": 7,
    "start_time": "2024-02-10T14:18:48.543Z"
   },
   {
    "duration": 111,
    "start_time": "2024-02-10T14:18:48.552Z"
   },
   {
    "duration": 8,
    "start_time": "2024-02-10T14:18:48.664Z"
   },
   {
    "duration": 107,
    "start_time": "2024-02-10T14:18:48.673Z"
   },
   {
    "duration": 8,
    "start_time": "2024-02-10T14:18:48.784Z"
   },
   {
    "duration": 5,
    "start_time": "2024-02-10T14:18:48.793Z"
   },
   {
    "duration": 154,
    "start_time": "2024-02-10T14:18:48.799Z"
   },
   {
    "duration": 113,
    "start_time": "2024-02-10T14:18:48.955Z"
   },
   {
    "duration": 210,
    "start_time": "2024-02-10T14:18:49.069Z"
   },
   {
    "duration": 7,
    "start_time": "2024-02-10T14:18:49.280Z"
   },
   {
    "duration": 169,
    "start_time": "2024-02-10T14:18:49.288Z"
   },
   {
    "duration": 152,
    "start_time": "2024-02-10T14:18:49.459Z"
   },
   {
    "duration": 14,
    "start_time": "2024-02-10T14:18:49.613Z"
   },
   {
    "duration": 11,
    "start_time": "2024-02-10T14:18:49.629Z"
   },
   {
    "duration": 4,
    "start_time": "2024-02-10T14:18:49.642Z"
   },
   {
    "duration": 23,
    "start_time": "2024-02-10T14:18:49.647Z"
   },
   {
    "duration": 44,
    "start_time": "2024-02-10T14:18:49.671Z"
   },
   {
    "duration": 160,
    "start_time": "2024-02-10T14:18:49.717Z"
   },
   {
    "duration": 160,
    "start_time": "2024-02-10T14:18:49.878Z"
   },
   {
    "duration": 154,
    "start_time": "2024-02-10T14:18:50.039Z"
   },
   {
    "duration": 185,
    "start_time": "2024-02-10T14:18:50.194Z"
   },
   {
    "duration": 175,
    "start_time": "2024-02-10T14:18:50.381Z"
   },
   {
    "duration": 177,
    "start_time": "2024-02-10T14:18:50.558Z"
   },
   {
    "duration": 7,
    "start_time": "2024-02-10T14:18:50.736Z"
   },
   {
    "duration": 3,
    "start_time": "2024-02-10T14:18:50.745Z"
   },
   {
    "duration": 6,
    "start_time": "2024-02-10T14:18:50.749Z"
   },
   {
    "duration": 22,
    "start_time": "2024-02-10T14:18:50.757Z"
   },
   {
    "duration": 7,
    "start_time": "2024-02-10T14:18:50.781Z"
   },
   {
    "duration": 6,
    "start_time": "2024-02-10T14:18:50.789Z"
   },
   {
    "duration": 21,
    "start_time": "2024-02-10T14:18:50.797Z"
   },
   {
    "duration": 15,
    "start_time": "2024-02-10T14:18:50.820Z"
   },
   {
    "duration": 3,
    "start_time": "2024-02-10T14:18:50.837Z"
   },
   {
    "duration": 9,
    "start_time": "2024-02-10T14:18:50.841Z"
   },
   {
    "duration": 16,
    "start_time": "2024-02-10T14:18:50.852Z"
   },
   {
    "duration": 7,
    "start_time": "2024-02-10T14:18:50.869Z"
   },
   {
    "duration": 6,
    "start_time": "2024-02-10T14:18:50.877Z"
   },
   {
    "duration": 6,
    "start_time": "2024-02-10T14:18:50.915Z"
   },
   {
    "duration": 5,
    "start_time": "2024-02-10T14:18:50.922Z"
   },
   {
    "duration": 9,
    "start_time": "2024-02-10T14:18:50.928Z"
   },
   {
    "duration": 3,
    "start_time": "2024-02-10T14:18:50.939Z"
   },
   {
    "duration": 1090,
    "start_time": "2024-02-10T15:52:56.765Z"
   },
   {
    "duration": 96,
    "start_time": "2024-02-10T15:52:57.856Z"
   },
   {
    "duration": 12,
    "start_time": "2024-02-10T15:52:57.954Z"
   },
   {
    "duration": 11,
    "start_time": "2024-02-10T15:52:57.968Z"
   },
   {
    "duration": 6,
    "start_time": "2024-02-10T15:52:57.981Z"
   },
   {
    "duration": 10,
    "start_time": "2024-02-10T15:52:57.988Z"
   },
   {
    "duration": 7,
    "start_time": "2024-02-10T15:52:57.999Z"
   },
   {
    "duration": 9,
    "start_time": "2024-02-10T15:52:58.007Z"
   },
   {
    "duration": 440,
    "start_time": "2024-02-10T15:52:58.018Z"
   },
   {
    "duration": 8,
    "start_time": "2024-02-10T15:52:58.461Z"
   },
   {
    "duration": 11,
    "start_time": "2024-02-10T15:52:58.470Z"
   },
   {
    "duration": 7,
    "start_time": "2024-02-10T15:52:58.482Z"
   },
   {
    "duration": 8,
    "start_time": "2024-02-10T15:52:58.491Z"
   },
   {
    "duration": 4,
    "start_time": "2024-02-10T15:52:58.501Z"
   },
   {
    "duration": 11,
    "start_time": "2024-02-10T15:52:58.506Z"
   },
   {
    "duration": 7,
    "start_time": "2024-02-10T15:52:58.518Z"
   },
   {
    "duration": 14,
    "start_time": "2024-02-10T15:52:58.526Z"
   },
   {
    "duration": 25,
    "start_time": "2024-02-10T15:52:58.542Z"
   },
   {
    "duration": 5,
    "start_time": "2024-02-10T15:52:58.568Z"
   },
   {
    "duration": 11,
    "start_time": "2024-02-10T15:52:58.575Z"
   },
   {
    "duration": 4,
    "start_time": "2024-02-10T15:52:58.587Z"
   },
   {
    "duration": 6,
    "start_time": "2024-02-10T15:52:58.592Z"
   },
   {
    "duration": 126,
    "start_time": "2024-02-10T15:52:58.599Z"
   },
   {
    "duration": 8,
    "start_time": "2024-02-10T15:52:58.727Z"
   },
   {
    "duration": 107,
    "start_time": "2024-02-10T15:52:58.736Z"
   },
   {
    "duration": 8,
    "start_time": "2024-02-10T15:52:58.845Z"
   },
   {
    "duration": 103,
    "start_time": "2024-02-10T15:52:58.854Z"
   },
   {
    "duration": 7,
    "start_time": "2024-02-10T15:52:58.965Z"
   },
   {
    "duration": 4,
    "start_time": "2024-02-10T15:52:58.973Z"
   },
   {
    "duration": 142,
    "start_time": "2024-02-10T15:52:58.979Z"
   },
   {
    "duration": 114,
    "start_time": "2024-02-10T15:52:59.123Z"
   },
   {
    "duration": 217,
    "start_time": "2024-02-10T15:52:59.239Z"
   },
   {
    "duration": 11,
    "start_time": "2024-02-10T15:52:59.458Z"
   },
   {
    "duration": 157,
    "start_time": "2024-02-10T15:52:59.471Z"
   },
   {
    "duration": 136,
    "start_time": "2024-02-10T15:52:59.629Z"
   },
   {
    "duration": 12,
    "start_time": "2024-02-10T15:52:59.767Z"
   },
   {
    "duration": 10,
    "start_time": "2024-02-10T15:52:59.781Z"
   },
   {
    "duration": 3,
    "start_time": "2024-02-10T15:52:59.792Z"
   },
   {
    "duration": 25,
    "start_time": "2024-02-10T15:52:59.796Z"
   },
   {
    "duration": 12,
    "start_time": "2024-02-10T15:52:59.822Z"
   },
   {
    "duration": 181,
    "start_time": "2024-02-10T15:52:59.836Z"
   },
   {
    "duration": 164,
    "start_time": "2024-02-10T15:53:00.018Z"
   },
   {
    "duration": 160,
    "start_time": "2024-02-10T15:53:00.184Z"
   },
   {
    "duration": 175,
    "start_time": "2024-02-10T15:53:00.345Z"
   },
   {
    "duration": 223,
    "start_time": "2024-02-10T15:53:00.522Z"
   },
   {
    "duration": 218,
    "start_time": "2024-02-10T15:53:00.747Z"
   },
   {
    "duration": 6,
    "start_time": "2024-02-10T15:53:00.967Z"
   },
   {
    "duration": 41,
    "start_time": "2024-02-10T15:53:00.974Z"
   },
   {
    "duration": 55,
    "start_time": "2024-02-10T15:53:01.016Z"
   },
   {
    "duration": 36,
    "start_time": "2024-02-10T15:53:01.072Z"
   },
   {
    "duration": 27,
    "start_time": "2024-02-10T15:53:01.110Z"
   },
   {
    "duration": 40,
    "start_time": "2024-02-10T15:53:01.139Z"
   },
   {
    "duration": 37,
    "start_time": "2024-02-10T15:53:01.180Z"
   },
   {
    "duration": 34,
    "start_time": "2024-02-10T15:53:01.219Z"
   },
   {
    "duration": 30,
    "start_time": "2024-02-10T15:53:01.255Z"
   },
   {
    "duration": 26,
    "start_time": "2024-02-10T15:53:01.286Z"
   },
   {
    "duration": 46,
    "start_time": "2024-02-10T15:53:01.314Z"
   },
   {
    "duration": 35,
    "start_time": "2024-02-10T15:53:01.362Z"
   },
   {
    "duration": 1367,
    "start_time": "2024-02-10T16:52:34.708Z"
   },
   {
    "duration": 217,
    "start_time": "2024-02-10T16:52:36.077Z"
   },
   {
    "duration": 12,
    "start_time": "2024-02-10T16:52:36.295Z"
   },
   {
    "duration": 14,
    "start_time": "2024-02-10T16:52:36.309Z"
   },
   {
    "duration": 42,
    "start_time": "2024-02-10T16:52:36.325Z"
   },
   {
    "duration": 30,
    "start_time": "2024-02-10T16:52:36.369Z"
   },
   {
    "duration": 14,
    "start_time": "2024-02-10T16:52:36.401Z"
   },
   {
    "duration": 33,
    "start_time": "2024-02-10T16:52:36.417Z"
   },
   {
    "duration": 413,
    "start_time": "2024-02-10T16:52:36.451Z"
   },
   {
    "duration": 9,
    "start_time": "2024-02-10T16:52:36.867Z"
   },
   {
    "duration": 49,
    "start_time": "2024-02-10T16:52:36.877Z"
   },
   {
    "duration": 25,
    "start_time": "2024-02-10T16:52:36.927Z"
   },
   {
    "duration": 48,
    "start_time": "2024-02-10T16:52:36.954Z"
   },
   {
    "duration": 27,
    "start_time": "2024-02-10T16:52:37.004Z"
   },
   {
    "duration": 21,
    "start_time": "2024-02-10T16:52:37.033Z"
   },
   {
    "duration": 42,
    "start_time": "2024-02-10T16:52:37.056Z"
   },
   {
    "duration": 10,
    "start_time": "2024-02-10T16:52:37.100Z"
   },
   {
    "duration": 10,
    "start_time": "2024-02-10T16:52:37.112Z"
   },
   {
    "duration": 13,
    "start_time": "2024-02-10T16:52:37.124Z"
   },
   {
    "duration": 28,
    "start_time": "2024-02-10T16:52:37.139Z"
   },
   {
    "duration": 6,
    "start_time": "2024-02-10T16:52:37.169Z"
   },
   {
    "duration": 13,
    "start_time": "2024-02-10T16:52:37.177Z"
   },
   {
    "duration": 99,
    "start_time": "2024-02-10T16:52:37.191Z"
   },
   {
    "duration": 7,
    "start_time": "2024-02-10T16:52:37.292Z"
   },
   {
    "duration": 117,
    "start_time": "2024-02-10T16:52:37.300Z"
   },
   {
    "duration": 18,
    "start_time": "2024-02-10T16:52:37.419Z"
   },
   {
    "duration": 114,
    "start_time": "2024-02-10T16:52:37.439Z"
   },
   {
    "duration": 8,
    "start_time": "2024-02-10T16:52:37.557Z"
   },
   {
    "duration": 22,
    "start_time": "2024-02-10T16:52:37.566Z"
   },
   {
    "duration": 172,
    "start_time": "2024-02-10T16:52:37.590Z"
   },
   {
    "duration": 115,
    "start_time": "2024-02-10T16:52:37.764Z"
   },
   {
    "duration": 205,
    "start_time": "2024-02-10T16:52:37.881Z"
   },
   {
    "duration": 7,
    "start_time": "2024-02-10T16:52:38.087Z"
   },
   {
    "duration": 182,
    "start_time": "2024-02-10T16:52:38.095Z"
   },
   {
    "duration": 153,
    "start_time": "2024-02-10T16:52:38.278Z"
   },
   {
    "duration": 13,
    "start_time": "2024-02-10T16:52:38.432Z"
   },
   {
    "duration": 28,
    "start_time": "2024-02-10T16:52:38.446Z"
   },
   {
    "duration": 23,
    "start_time": "2024-02-10T16:52:38.475Z"
   },
   {
    "duration": 32,
    "start_time": "2024-02-10T16:52:38.500Z"
   },
   {
    "duration": 22,
    "start_time": "2024-02-10T16:52:38.534Z"
   },
   {
    "duration": 179,
    "start_time": "2024-02-10T16:52:38.558Z"
   },
   {
    "duration": 170,
    "start_time": "2024-02-10T16:52:38.739Z"
   },
   {
    "duration": 165,
    "start_time": "2024-02-10T16:52:38.911Z"
   },
   {
    "duration": 183,
    "start_time": "2024-02-10T16:52:39.078Z"
   },
   {
    "duration": 194,
    "start_time": "2024-02-10T16:52:39.263Z"
   },
   {
    "duration": 191,
    "start_time": "2024-02-10T16:52:39.458Z"
   },
   {
    "duration": 6,
    "start_time": "2024-02-10T16:52:39.651Z"
   },
   {
    "duration": 23,
    "start_time": "2024-02-10T16:52:39.658Z"
   },
   {
    "duration": 21,
    "start_time": "2024-02-10T16:52:39.683Z"
   },
   {
    "duration": 28,
    "start_time": "2024-02-10T16:52:39.706Z"
   },
   {
    "duration": 15,
    "start_time": "2024-02-10T16:52:39.736Z"
   },
   {
    "duration": 23,
    "start_time": "2024-02-10T16:52:39.753Z"
   },
   {
    "duration": 23,
    "start_time": "2024-02-10T16:52:39.778Z"
   },
   {
    "duration": 19,
    "start_time": "2024-02-10T16:52:39.803Z"
   },
   {
    "duration": 17,
    "start_time": "2024-02-10T16:52:39.824Z"
   },
   {
    "duration": 28,
    "start_time": "2024-02-10T16:52:39.843Z"
   },
   {
    "duration": 47,
    "start_time": "2024-02-10T16:52:39.873Z"
   },
   {
    "duration": 22,
    "start_time": "2024-02-10T16:52:39.922Z"
   },
   {
    "duration": 6,
    "start_time": "2024-02-10T16:53:53.096Z"
   },
   {
    "duration": 18,
    "start_time": "2024-02-10T16:54:15.160Z"
   },
   {
    "duration": 5,
    "start_time": "2024-02-10T16:57:24.623Z"
   },
   {
    "duration": 7,
    "start_time": "2024-02-10T16:57:31.782Z"
   },
   {
    "duration": 1198,
    "start_time": "2024-02-10T17:01:01.755Z"
   },
   {
    "duration": 113,
    "start_time": "2024-02-10T17:01:02.955Z"
   },
   {
    "duration": 13,
    "start_time": "2024-02-10T17:01:03.069Z"
   },
   {
    "duration": 35,
    "start_time": "2024-02-10T17:01:03.084Z"
   },
   {
    "duration": 9,
    "start_time": "2024-02-10T17:01:03.120Z"
   },
   {
    "duration": 26,
    "start_time": "2024-02-10T17:01:03.131Z"
   },
   {
    "duration": 11,
    "start_time": "2024-02-10T17:01:03.158Z"
   },
   {
    "duration": 25,
    "start_time": "2024-02-10T17:01:03.170Z"
   },
   {
    "duration": 412,
    "start_time": "2024-02-10T17:01:03.196Z"
   },
   {
    "duration": 7,
    "start_time": "2024-02-10T17:01:03.612Z"
   },
   {
    "duration": 19,
    "start_time": "2024-02-10T17:01:03.620Z"
   },
   {
    "duration": 21,
    "start_time": "2024-02-10T17:01:03.641Z"
   },
   {
    "duration": 27,
    "start_time": "2024-02-10T17:01:03.663Z"
   },
   {
    "duration": 14,
    "start_time": "2024-02-10T17:01:03.691Z"
   },
   {
    "duration": 21,
    "start_time": "2024-02-10T17:01:03.706Z"
   },
   {
    "duration": 24,
    "start_time": "2024-02-10T17:01:03.729Z"
   },
   {
    "duration": 17,
    "start_time": "2024-02-10T17:01:03.754Z"
   },
   {
    "duration": 10,
    "start_time": "2024-02-10T17:01:03.772Z"
   },
   {
    "duration": 7,
    "start_time": "2024-02-10T17:01:03.784Z"
   },
   {
    "duration": 26,
    "start_time": "2024-02-10T17:01:03.792Z"
   },
   {
    "duration": 10,
    "start_time": "2024-02-10T17:01:03.819Z"
   },
   {
    "duration": 14,
    "start_time": "2024-02-10T17:01:03.830Z"
   },
   {
    "duration": 104,
    "start_time": "2024-02-10T17:01:03.845Z"
   },
   {
    "duration": 7,
    "start_time": "2024-02-10T17:01:03.950Z"
   },
   {
    "duration": 114,
    "start_time": "2024-02-10T17:01:03.959Z"
   },
   {
    "duration": 7,
    "start_time": "2024-02-10T17:01:04.074Z"
   },
   {
    "duration": 105,
    "start_time": "2024-02-10T17:01:04.083Z"
   },
   {
    "duration": 8,
    "start_time": "2024-02-10T17:01:04.192Z"
   },
   {
    "duration": 10,
    "start_time": "2024-02-10T17:01:04.201Z"
   },
   {
    "duration": 154,
    "start_time": "2024-02-10T17:01:04.212Z"
   },
   {
    "duration": 109,
    "start_time": "2024-02-10T17:01:04.368Z"
   },
   {
    "duration": 221,
    "start_time": "2024-02-10T17:01:04.479Z"
   },
   {
    "duration": 7,
    "start_time": "2024-02-10T17:01:04.702Z"
   },
   {
    "duration": 160,
    "start_time": "2024-02-10T17:01:04.710Z"
   },
   {
    "duration": 132,
    "start_time": "2024-02-10T17:01:04.871Z"
   },
   {
    "duration": 12,
    "start_time": "2024-02-10T17:01:05.005Z"
   },
   {
    "duration": 23,
    "start_time": "2024-02-10T17:01:05.019Z"
   },
   {
    "duration": 16,
    "start_time": "2024-02-10T17:01:05.043Z"
   },
   {
    "duration": 38,
    "start_time": "2024-02-10T17:01:05.061Z"
   },
   {
    "duration": 12,
    "start_time": "2024-02-10T17:01:05.101Z"
   },
   {
    "duration": 173,
    "start_time": "2024-02-10T17:01:05.115Z"
   },
   {
    "duration": 161,
    "start_time": "2024-02-10T17:01:05.289Z"
   },
   {
    "duration": 154,
    "start_time": "2024-02-10T17:01:05.452Z"
   },
   {
    "duration": 201,
    "start_time": "2024-02-10T17:01:05.607Z"
   },
   {
    "duration": 194,
    "start_time": "2024-02-10T17:01:05.810Z"
   },
   {
    "duration": 190,
    "start_time": "2024-02-10T17:01:06.006Z"
   },
   {
    "duration": 6,
    "start_time": "2024-02-10T17:01:06.198Z"
   },
   {
    "duration": 34,
    "start_time": "2024-02-10T17:01:06.206Z"
   },
   {
    "duration": 7,
    "start_time": "2024-02-10T17:01:06.241Z"
   },
   {
    "duration": 8,
    "start_time": "2024-02-10T17:01:06.250Z"
   },
   {
    "duration": 5,
    "start_time": "2024-02-10T17:01:06.259Z"
   },
   {
    "duration": 11,
    "start_time": "2024-02-10T17:01:06.265Z"
   },
   {
    "duration": 24,
    "start_time": "2024-02-10T17:01:06.277Z"
   },
   {
    "duration": 35,
    "start_time": "2024-02-10T17:01:06.302Z"
   },
   {
    "duration": 16,
    "start_time": "2024-02-10T17:01:06.338Z"
   },
   {
    "duration": 7,
    "start_time": "2024-02-10T17:01:06.356Z"
   },
   {
    "duration": 7,
    "start_time": "2024-02-10T17:01:06.365Z"
   },
   {
    "duration": 20,
    "start_time": "2024-02-10T17:01:06.373Z"
   },
   {
    "duration": 8,
    "start_time": "2024-02-10T17:01:06.394Z"
   },
   {
    "duration": 1327,
    "start_time": "2024-02-10T17:52:10.499Z"
   },
   {
    "duration": 218,
    "start_time": "2024-02-10T17:52:11.828Z"
   },
   {
    "duration": 13,
    "start_time": "2024-02-10T17:52:12.048Z"
   },
   {
    "duration": 12,
    "start_time": "2024-02-10T17:52:12.063Z"
   },
   {
    "duration": 6,
    "start_time": "2024-02-10T17:52:12.078Z"
   },
   {
    "duration": 10,
    "start_time": "2024-02-10T17:52:12.086Z"
   },
   {
    "duration": 10,
    "start_time": "2024-02-10T17:52:12.098Z"
   },
   {
    "duration": 13,
    "start_time": "2024-02-10T17:52:12.117Z"
   },
   {
    "duration": 420,
    "start_time": "2024-02-10T17:52:12.131Z"
   },
   {
    "duration": 7,
    "start_time": "2024-02-10T17:52:12.553Z"
   },
   {
    "duration": 20,
    "start_time": "2024-02-10T17:52:12.561Z"
   },
   {
    "duration": 8,
    "start_time": "2024-02-10T17:52:12.582Z"
   },
   {
    "duration": 6,
    "start_time": "2024-02-10T17:52:12.591Z"
   },
   {
    "duration": 19,
    "start_time": "2024-02-10T17:52:12.600Z"
   },
   {
    "duration": 4,
    "start_time": "2024-02-10T17:52:12.620Z"
   },
   {
    "duration": 8,
    "start_time": "2024-02-10T17:52:12.625Z"
   },
   {
    "duration": 11,
    "start_time": "2024-02-10T17:52:12.634Z"
   },
   {
    "duration": 5,
    "start_time": "2024-02-10T17:52:12.647Z"
   },
   {
    "duration": 6,
    "start_time": "2024-02-10T17:52:12.653Z"
   },
   {
    "duration": 13,
    "start_time": "2024-02-10T17:52:12.660Z"
   },
   {
    "duration": 43,
    "start_time": "2024-02-10T17:52:12.675Z"
   },
   {
    "duration": 7,
    "start_time": "2024-02-10T17:52:12.719Z"
   },
   {
    "duration": 105,
    "start_time": "2024-02-10T17:52:12.728Z"
   },
   {
    "duration": 8,
    "start_time": "2024-02-10T17:52:12.835Z"
   },
   {
    "duration": 106,
    "start_time": "2024-02-10T17:52:12.845Z"
   },
   {
    "duration": 7,
    "start_time": "2024-02-10T17:52:12.953Z"
   },
   {
    "duration": 102,
    "start_time": "2024-02-10T17:52:12.961Z"
   },
   {
    "duration": 7,
    "start_time": "2024-02-10T17:52:13.065Z"
   },
   {
    "duration": 4,
    "start_time": "2024-02-10T17:52:13.074Z"
   },
   {
    "duration": 148,
    "start_time": "2024-02-10T17:52:13.079Z"
   },
   {
    "duration": 110,
    "start_time": "2024-02-10T17:52:13.229Z"
   },
   {
    "duration": 225,
    "start_time": "2024-02-10T17:52:13.340Z"
   },
   {
    "duration": 9,
    "start_time": "2024-02-10T17:52:13.567Z"
   },
   {
    "duration": 174,
    "start_time": "2024-02-10T17:52:13.577Z"
   },
   {
    "duration": 144,
    "start_time": "2024-02-10T17:52:13.752Z"
   },
   {
    "duration": 26,
    "start_time": "2024-02-10T17:52:13.898Z"
   },
   {
    "duration": 11,
    "start_time": "2024-02-10T17:52:13.926Z"
   },
   {
    "duration": 4,
    "start_time": "2024-02-10T17:52:13.939Z"
   },
   {
    "duration": 18,
    "start_time": "2024-02-10T17:52:13.945Z"
   },
   {
    "duration": 13,
    "start_time": "2024-02-10T17:52:13.965Z"
   },
   {
    "duration": 190,
    "start_time": "2024-02-10T17:52:13.983Z"
   },
   {
    "duration": 168,
    "start_time": "2024-02-10T17:52:14.176Z"
   },
   {
    "duration": 156,
    "start_time": "2024-02-10T17:52:14.346Z"
   },
   {
    "duration": 170,
    "start_time": "2024-02-10T17:52:14.504Z"
   },
   {
    "duration": 206,
    "start_time": "2024-02-10T17:52:14.676Z"
   },
   {
    "duration": 185,
    "start_time": "2024-02-10T17:52:14.884Z"
   },
   {
    "duration": 6,
    "start_time": "2024-02-10T17:52:15.071Z"
   },
   {
    "duration": 40,
    "start_time": "2024-02-10T17:52:15.078Z"
   },
   {
    "duration": 7,
    "start_time": "2024-02-10T17:52:15.120Z"
   },
   {
    "duration": 12,
    "start_time": "2024-02-10T17:52:15.128Z"
   },
   {
    "duration": 22,
    "start_time": "2024-02-10T17:52:15.141Z"
   },
   {
    "duration": 20,
    "start_time": "2024-02-10T17:52:15.165Z"
   },
   {
    "duration": 14,
    "start_time": "2024-02-10T17:52:15.186Z"
   },
   {
    "duration": 16,
    "start_time": "2024-02-10T17:52:15.202Z"
   },
   {
    "duration": 15,
    "start_time": "2024-02-10T17:52:15.219Z"
   },
   {
    "duration": 22,
    "start_time": "2024-02-10T17:52:15.236Z"
   },
   {
    "duration": 4,
    "start_time": "2024-02-10T17:52:15.260Z"
   },
   {
    "duration": 1296,
    "start_time": "2024-02-11T05:44:25.966Z"
   },
   {
    "duration": 225,
    "start_time": "2024-02-11T05:44:27.264Z"
   },
   {
    "duration": 11,
    "start_time": "2024-02-11T05:44:27.491Z"
   },
   {
    "duration": 22,
    "start_time": "2024-02-11T05:44:27.504Z"
   },
   {
    "duration": 6,
    "start_time": "2024-02-11T05:44:27.527Z"
   },
   {
    "duration": 9,
    "start_time": "2024-02-11T05:44:27.535Z"
   },
   {
    "duration": 9,
    "start_time": "2024-02-11T05:44:27.546Z"
   },
   {
    "duration": 10,
    "start_time": "2024-02-11T05:44:27.557Z"
   },
   {
    "duration": 393,
    "start_time": "2024-02-11T05:44:27.568Z"
   },
   {
    "duration": 8,
    "start_time": "2024-02-11T05:44:27.964Z"
   },
   {
    "duration": 10,
    "start_time": "2024-02-11T05:44:27.973Z"
   },
   {
    "duration": 11,
    "start_time": "2024-02-11T05:44:27.984Z"
   },
   {
    "duration": 7,
    "start_time": "2024-02-11T05:44:27.996Z"
   },
   {
    "duration": 4,
    "start_time": "2024-02-11T05:44:28.004Z"
   },
   {
    "duration": 3,
    "start_time": "2024-02-11T05:44:28.010Z"
   },
   {
    "duration": 10,
    "start_time": "2024-02-11T05:44:28.014Z"
   },
   {
    "duration": 48,
    "start_time": "2024-02-11T05:44:28.025Z"
   },
   {
    "duration": 4,
    "start_time": "2024-02-11T05:44:28.075Z"
   },
   {
    "duration": 11,
    "start_time": "2024-02-11T05:44:28.080Z"
   },
   {
    "duration": 11,
    "start_time": "2024-02-11T05:44:28.092Z"
   },
   {
    "duration": 5,
    "start_time": "2024-02-11T05:44:28.104Z"
   },
   {
    "duration": 8,
    "start_time": "2024-02-11T05:44:28.110Z"
   },
   {
    "duration": 109,
    "start_time": "2024-02-11T05:44:28.119Z"
   },
   {
    "duration": 9,
    "start_time": "2024-02-11T05:44:28.229Z"
   },
   {
    "duration": 112,
    "start_time": "2024-02-11T05:44:28.239Z"
   },
   {
    "duration": 14,
    "start_time": "2024-02-11T05:44:28.353Z"
   },
   {
    "duration": 106,
    "start_time": "2024-02-11T05:44:28.369Z"
   },
   {
    "duration": 8,
    "start_time": "2024-02-11T05:44:28.478Z"
   },
   {
    "duration": 5,
    "start_time": "2024-02-11T05:44:28.487Z"
   },
   {
    "duration": 137,
    "start_time": "2024-02-11T05:44:28.493Z"
   },
   {
    "duration": 112,
    "start_time": "2024-02-11T05:44:28.631Z"
   },
   {
    "duration": 243,
    "start_time": "2024-02-11T05:44:28.744Z"
   },
   {
    "duration": 7,
    "start_time": "2024-02-11T05:44:28.989Z"
   },
   {
    "duration": 152,
    "start_time": "2024-02-11T05:44:28.997Z"
   },
   {
    "duration": 131,
    "start_time": "2024-02-11T05:44:29.151Z"
   },
   {
    "duration": 12,
    "start_time": "2024-02-11T05:44:29.284Z"
   },
   {
    "duration": 10,
    "start_time": "2024-02-11T05:44:29.297Z"
   },
   {
    "duration": 9,
    "start_time": "2024-02-11T05:44:29.308Z"
   },
   {
    "duration": 15,
    "start_time": "2024-02-11T05:44:29.318Z"
   },
   {
    "duration": 34,
    "start_time": "2024-02-11T05:44:29.334Z"
   },
   {
    "duration": 144,
    "start_time": "2024-02-11T05:44:29.369Z"
   },
   {
    "duration": 154,
    "start_time": "2024-02-11T05:44:29.514Z"
   },
   {
    "duration": 145,
    "start_time": "2024-02-11T05:44:29.669Z"
   },
   {
    "duration": 170,
    "start_time": "2024-02-11T05:44:29.815Z"
   },
   {
    "duration": 178,
    "start_time": "2024-02-11T05:44:29.987Z"
   },
   {
    "duration": 177,
    "start_time": "2024-02-11T05:44:30.166Z"
   },
   {
    "duration": 5,
    "start_time": "2024-02-11T05:44:30.345Z"
   },
   {
    "duration": 59,
    "start_time": "2024-02-11T05:44:30.352Z"
   },
   {
    "duration": 15,
    "start_time": "2024-02-11T05:44:30.412Z"
   },
   {
    "duration": 43,
    "start_time": "2024-02-11T05:44:30.428Z"
   },
   {
    "duration": 43,
    "start_time": "2024-02-11T05:44:30.473Z"
   },
   {
    "duration": 23,
    "start_time": "2024-02-11T05:44:30.517Z"
   },
   {
    "duration": 51,
    "start_time": "2024-02-11T05:44:30.541Z"
   },
   {
    "duration": 44,
    "start_time": "2024-02-11T05:44:30.594Z"
   },
   {
    "duration": 38,
    "start_time": "2024-02-11T05:44:30.640Z"
   },
   {
    "duration": 46,
    "start_time": "2024-02-11T05:44:30.679Z"
   },
   {
    "duration": 41,
    "start_time": "2024-02-11T05:44:30.727Z"
   },
   {
    "duration": 6,
    "start_time": "2024-02-11T05:45:39.094Z"
   },
   {
    "duration": 1303,
    "start_time": "2024-02-11T08:31:31.799Z"
   },
   {
    "duration": 230,
    "start_time": "2024-02-11T08:31:33.105Z"
   },
   {
    "duration": 17,
    "start_time": "2024-02-11T08:31:33.337Z"
   },
   {
    "duration": 38,
    "start_time": "2024-02-11T08:31:33.356Z"
   },
   {
    "duration": 13,
    "start_time": "2024-02-11T08:31:33.397Z"
   },
   {
    "duration": 16,
    "start_time": "2024-02-11T08:31:33.412Z"
   },
   {
    "duration": 21,
    "start_time": "2024-02-11T08:31:33.430Z"
   },
   {
    "duration": 32,
    "start_time": "2024-02-11T08:31:33.453Z"
   },
   {
    "duration": 455,
    "start_time": "2024-02-11T08:31:33.488Z"
   },
   {
    "duration": 8,
    "start_time": "2024-02-11T08:31:33.945Z"
   },
   {
    "duration": 10,
    "start_time": "2024-02-11T08:31:33.965Z"
   },
   {
    "duration": 11,
    "start_time": "2024-02-11T08:31:33.976Z"
   },
   {
    "duration": 8,
    "start_time": "2024-02-11T08:31:33.988Z"
   },
   {
    "duration": 4,
    "start_time": "2024-02-11T08:31:33.997Z"
   },
   {
    "duration": 3,
    "start_time": "2024-02-11T08:31:34.003Z"
   },
   {
    "duration": 10,
    "start_time": "2024-02-11T08:31:34.007Z"
   },
   {
    "duration": 26,
    "start_time": "2024-02-11T08:31:34.018Z"
   },
   {
    "duration": 24,
    "start_time": "2024-02-11T08:31:34.045Z"
   },
   {
    "duration": 13,
    "start_time": "2024-02-11T08:31:34.071Z"
   },
   {
    "duration": 18,
    "start_time": "2024-02-11T08:31:34.086Z"
   },
   {
    "duration": 5,
    "start_time": "2024-02-11T08:31:34.106Z"
   },
   {
    "duration": 6,
    "start_time": "2024-02-11T08:31:34.113Z"
   },
   {
    "duration": 120,
    "start_time": "2024-02-11T08:31:34.121Z"
   },
   {
    "duration": 7,
    "start_time": "2024-02-11T08:31:34.243Z"
   },
   {
    "duration": 116,
    "start_time": "2024-02-11T08:31:34.251Z"
   },
   {
    "duration": 8,
    "start_time": "2024-02-11T08:31:34.369Z"
   },
   {
    "duration": 119,
    "start_time": "2024-02-11T08:31:34.378Z"
   },
   {
    "duration": 9,
    "start_time": "2024-02-11T08:31:34.501Z"
   },
   {
    "duration": 6,
    "start_time": "2024-02-11T08:31:34.512Z"
   },
   {
    "duration": 168,
    "start_time": "2024-02-11T08:31:34.519Z"
   },
   {
    "duration": 127,
    "start_time": "2024-02-11T08:31:34.689Z"
   },
   {
    "duration": 252,
    "start_time": "2024-02-11T08:31:34.818Z"
   },
   {
    "duration": 9,
    "start_time": "2024-02-11T08:31:35.072Z"
   },
   {
    "duration": 200,
    "start_time": "2024-02-11T08:31:35.082Z"
   },
   {
    "duration": 156,
    "start_time": "2024-02-11T08:31:35.283Z"
   },
   {
    "duration": 25,
    "start_time": "2024-02-11T08:31:35.441Z"
   },
   {
    "duration": 11,
    "start_time": "2024-02-11T08:31:35.467Z"
   },
   {
    "duration": 4,
    "start_time": "2024-02-11T08:31:35.480Z"
   },
   {
    "duration": 22,
    "start_time": "2024-02-11T08:31:35.486Z"
   },
   {
    "duration": 14,
    "start_time": "2024-02-11T08:31:35.509Z"
   },
   {
    "duration": 177,
    "start_time": "2024-02-11T08:31:35.524Z"
   },
   {
    "duration": 181,
    "start_time": "2024-02-11T08:31:35.704Z"
   },
   {
    "duration": 172,
    "start_time": "2024-02-11T08:31:35.891Z"
   },
   {
    "duration": 201,
    "start_time": "2024-02-11T08:31:36.065Z"
   },
   {
    "duration": 204,
    "start_time": "2024-02-11T08:31:36.267Z"
   },
   {
    "duration": 215,
    "start_time": "2024-02-11T08:31:36.474Z"
   },
   {
    "duration": 6,
    "start_time": "2024-02-11T08:31:36.690Z"
   },
   {
    "duration": 27,
    "start_time": "2024-02-11T08:31:36.698Z"
   },
   {
    "duration": 9,
    "start_time": "2024-02-11T08:31:36.727Z"
   },
   {
    "duration": 28,
    "start_time": "2024-02-11T08:31:36.738Z"
   },
   {
    "duration": 15,
    "start_time": "2024-02-11T08:31:36.767Z"
   },
   {
    "duration": 6,
    "start_time": "2024-02-11T08:31:36.783Z"
   },
   {
    "duration": 6,
    "start_time": "2024-02-11T08:31:36.791Z"
   },
   {
    "duration": 6,
    "start_time": "2024-02-11T08:31:36.798Z"
   },
   {
    "duration": 5,
    "start_time": "2024-02-11T08:31:36.806Z"
   },
   {
    "duration": 54,
    "start_time": "2024-02-11T08:31:36.812Z"
   },
   {
    "duration": 2,
    "start_time": "2024-02-11T08:31:36.868Z"
   },
   {
    "duration": 1244,
    "start_time": "2024-02-11T17:10:12.219Z"
   },
   {
    "duration": 221,
    "start_time": "2024-02-11T17:10:13.465Z"
   },
   {
    "duration": 11,
    "start_time": "2024-02-11T17:10:13.688Z"
   },
   {
    "duration": 10,
    "start_time": "2024-02-11T17:10:13.701Z"
   },
   {
    "duration": 7,
    "start_time": "2024-02-11T17:10:13.713Z"
   },
   {
    "duration": 25,
    "start_time": "2024-02-11T17:10:13.721Z"
   },
   {
    "duration": 14,
    "start_time": "2024-02-11T17:10:13.748Z"
   },
   {
    "duration": 14,
    "start_time": "2024-02-11T17:10:13.763Z"
   },
   {
    "duration": 382,
    "start_time": "2024-02-11T17:10:13.779Z"
   },
   {
    "duration": 6,
    "start_time": "2024-02-11T17:10:14.164Z"
   },
   {
    "duration": 12,
    "start_time": "2024-02-11T17:10:14.171Z"
   },
   {
    "duration": 7,
    "start_time": "2024-02-11T17:10:14.184Z"
   },
   {
    "duration": 7,
    "start_time": "2024-02-11T17:10:14.192Z"
   },
   {
    "duration": 4,
    "start_time": "2024-02-11T17:10:14.200Z"
   },
   {
    "duration": 8,
    "start_time": "2024-02-11T17:10:14.205Z"
   },
   {
    "duration": 16,
    "start_time": "2024-02-11T17:10:14.214Z"
   },
   {
    "duration": 10,
    "start_time": "2024-02-11T17:10:14.232Z"
   },
   {
    "duration": 4,
    "start_time": "2024-02-11T17:10:14.243Z"
   },
   {
    "duration": 7,
    "start_time": "2024-02-11T17:10:14.265Z"
   },
   {
    "duration": 12,
    "start_time": "2024-02-11T17:10:14.274Z"
   },
   {
    "duration": 5,
    "start_time": "2024-02-11T17:10:14.287Z"
   },
   {
    "duration": 5,
    "start_time": "2024-02-11T17:10:14.293Z"
   },
   {
    "duration": 110,
    "start_time": "2024-02-11T17:10:14.299Z"
   },
   {
    "duration": 7,
    "start_time": "2024-02-11T17:10:14.411Z"
   },
   {
    "duration": 107,
    "start_time": "2024-02-11T17:10:14.420Z"
   },
   {
    "duration": 8,
    "start_time": "2024-02-11T17:10:14.529Z"
   },
   {
    "duration": 116,
    "start_time": "2024-02-11T17:10:14.538Z"
   },
   {
    "duration": 7,
    "start_time": "2024-02-11T17:10:14.664Z"
   },
   {
    "duration": 4,
    "start_time": "2024-02-11T17:10:14.673Z"
   },
   {
    "duration": 140,
    "start_time": "2024-02-11T17:10:14.679Z"
   },
   {
    "duration": 107,
    "start_time": "2024-02-11T17:10:14.822Z"
   },
   {
    "duration": 215,
    "start_time": "2024-02-11T17:10:14.931Z"
   },
   {
    "duration": 17,
    "start_time": "2024-02-11T17:10:15.148Z"
   },
   {
    "duration": 160,
    "start_time": "2024-02-11T17:10:15.167Z"
   },
   {
    "duration": 136,
    "start_time": "2024-02-11T17:10:15.329Z"
   },
   {
    "duration": 13,
    "start_time": "2024-02-11T17:10:15.467Z"
   },
   {
    "duration": 10,
    "start_time": "2024-02-11T17:10:15.482Z"
   },
   {
    "duration": 4,
    "start_time": "2024-02-11T17:10:15.494Z"
   },
   {
    "duration": 27,
    "start_time": "2024-02-11T17:10:15.500Z"
   },
   {
    "duration": 40,
    "start_time": "2024-02-11T17:10:15.529Z"
   },
   {
    "duration": 161,
    "start_time": "2024-02-11T17:10:15.570Z"
   },
   {
    "duration": 165,
    "start_time": "2024-02-11T17:10:15.733Z"
   },
   {
    "duration": 158,
    "start_time": "2024-02-11T17:10:15.900Z"
   },
   {
    "duration": 168,
    "start_time": "2024-02-11T17:10:16.064Z"
   },
   {
    "duration": 188,
    "start_time": "2024-02-11T17:10:16.234Z"
   },
   {
    "duration": 179,
    "start_time": "2024-02-11T17:10:16.423Z"
   },
   {
    "duration": 7,
    "start_time": "2024-02-11T17:10:16.604Z"
   },
   {
    "duration": 27,
    "start_time": "2024-02-11T17:10:16.612Z"
   },
   {
    "duration": 25,
    "start_time": "2024-02-11T17:10:16.641Z"
   },
   {
    "duration": 8,
    "start_time": "2024-02-11T17:10:16.668Z"
   },
   {
    "duration": 17,
    "start_time": "2024-02-11T17:10:16.677Z"
   },
   {
    "duration": 6,
    "start_time": "2024-02-11T17:10:16.695Z"
   },
   {
    "duration": 14,
    "start_time": "2024-02-11T17:10:16.703Z"
   },
   {
    "duration": 5,
    "start_time": "2024-02-11T17:10:16.718Z"
   },
   {
    "duration": 5,
    "start_time": "2024-02-11T17:10:16.725Z"
   },
   {
    "duration": 34,
    "start_time": "2024-02-11T17:10:16.731Z"
   },
   {
    "duration": 3,
    "start_time": "2024-02-11T17:10:16.766Z"
   },
   {
    "duration": 1411,
    "start_time": "2024-02-11T19:17:22.638Z"
   },
   {
    "duration": 261,
    "start_time": "2024-02-11T19:17:24.051Z"
   },
   {
    "duration": 13,
    "start_time": "2024-02-11T19:17:24.314Z"
   },
   {
    "duration": 18,
    "start_time": "2024-02-11T19:17:24.328Z"
   },
   {
    "duration": 18,
    "start_time": "2024-02-11T19:17:24.348Z"
   },
   {
    "duration": 26,
    "start_time": "2024-02-11T19:17:24.370Z"
   },
   {
    "duration": 10,
    "start_time": "2024-02-11T19:17:24.397Z"
   },
   {
    "duration": 11,
    "start_time": "2024-02-11T19:17:24.408Z"
   },
   {
    "duration": 477,
    "start_time": "2024-02-11T19:17:24.420Z"
   },
   {
    "duration": 6,
    "start_time": "2024-02-11T19:17:24.899Z"
   },
   {
    "duration": 24,
    "start_time": "2024-02-11T19:17:24.907Z"
   },
   {
    "duration": 45,
    "start_time": "2024-02-11T19:17:24.933Z"
   },
   {
    "duration": 5,
    "start_time": "2024-02-11T19:17:24.982Z"
   },
   {
    "duration": 13,
    "start_time": "2024-02-11T19:17:24.990Z"
   },
   {
    "duration": 15,
    "start_time": "2024-02-11T19:17:25.005Z"
   },
   {
    "duration": 64,
    "start_time": "2024-02-11T19:17:25.021Z"
   },
   {
    "duration": 20,
    "start_time": "2024-02-11T19:17:25.087Z"
   },
   {
    "duration": 16,
    "start_time": "2024-02-11T19:17:25.108Z"
   },
   {
    "duration": 49,
    "start_time": "2024-02-11T19:17:25.126Z"
   },
   {
    "duration": 13,
    "start_time": "2024-02-11T19:17:25.176Z"
   },
   {
    "duration": 18,
    "start_time": "2024-02-11T19:17:25.190Z"
   },
   {
    "duration": 19,
    "start_time": "2024-02-11T19:17:25.209Z"
   },
   {
    "duration": 115,
    "start_time": "2024-02-11T19:17:25.229Z"
   },
   {
    "duration": 15,
    "start_time": "2024-02-11T19:17:25.351Z"
   },
   {
    "duration": 116,
    "start_time": "2024-02-11T19:17:25.367Z"
   },
   {
    "duration": 11,
    "start_time": "2024-02-11T19:17:25.489Z"
   },
   {
    "duration": 115,
    "start_time": "2024-02-11T19:17:25.501Z"
   },
   {
    "duration": 7,
    "start_time": "2024-02-11T19:17:25.618Z"
   },
   {
    "duration": 19,
    "start_time": "2024-02-11T19:17:25.626Z"
   },
   {
    "duration": 171,
    "start_time": "2024-02-11T19:17:25.651Z"
   },
   {
    "duration": 116,
    "start_time": "2024-02-11T19:17:25.824Z"
   },
   {
    "duration": 254,
    "start_time": "2024-02-11T19:17:25.945Z"
   },
   {
    "duration": 7,
    "start_time": "2024-02-11T19:17:26.200Z"
   },
   {
    "duration": 196,
    "start_time": "2024-02-11T19:17:26.209Z"
   },
   {
    "duration": 177,
    "start_time": "2024-02-11T19:17:26.407Z"
   },
   {
    "duration": 13,
    "start_time": "2024-02-11T19:17:26.585Z"
   },
   {
    "duration": 10,
    "start_time": "2024-02-11T19:17:26.599Z"
   },
   {
    "duration": 20,
    "start_time": "2024-02-11T19:17:26.611Z"
   },
   {
    "duration": 27,
    "start_time": "2024-02-11T19:17:26.632Z"
   },
   {
    "duration": 20,
    "start_time": "2024-02-11T19:17:26.660Z"
   },
   {
    "duration": 176,
    "start_time": "2024-02-11T19:17:26.685Z"
   },
   {
    "duration": 174,
    "start_time": "2024-02-11T19:17:26.863Z"
   },
   {
    "duration": 178,
    "start_time": "2024-02-11T19:17:27.038Z"
   },
   {
    "duration": 194,
    "start_time": "2024-02-11T19:17:27.218Z"
   },
   {
    "duration": 209,
    "start_time": "2024-02-11T19:17:27.413Z"
   },
   {
    "duration": 235,
    "start_time": "2024-02-11T19:17:27.623Z"
   },
   {
    "duration": 18,
    "start_time": "2024-02-11T19:17:27.865Z"
   },
   {
    "duration": 27,
    "start_time": "2024-02-11T19:17:27.885Z"
   },
   {
    "duration": 8,
    "start_time": "2024-02-11T19:17:27.914Z"
   },
   {
    "duration": 28,
    "start_time": "2024-02-11T19:17:27.923Z"
   },
   {
    "duration": 19,
    "start_time": "2024-02-11T19:17:27.952Z"
   },
   {
    "duration": 15,
    "start_time": "2024-02-11T19:17:27.973Z"
   },
   {
    "duration": 12,
    "start_time": "2024-02-11T19:17:27.989Z"
   },
   {
    "duration": 16,
    "start_time": "2024-02-11T19:17:28.003Z"
   },
   {
    "duration": 15,
    "start_time": "2024-02-11T19:17:28.020Z"
   },
   {
    "duration": 31,
    "start_time": "2024-02-11T19:17:28.036Z"
   },
   {
    "duration": 4,
    "start_time": "2024-02-11T19:17:28.069Z"
   },
   {
    "duration": 1088,
    "start_time": "2024-02-11T19:31:01.359Z"
   },
   {
    "duration": 109,
    "start_time": "2024-02-11T19:31:02.449Z"
   },
   {
    "duration": 14,
    "start_time": "2024-02-11T19:31:02.559Z"
   },
   {
    "duration": 22,
    "start_time": "2024-02-11T19:31:02.575Z"
   },
   {
    "duration": 32,
    "start_time": "2024-02-11T19:31:02.598Z"
   },
   {
    "duration": 32,
    "start_time": "2024-02-11T19:31:02.631Z"
   },
   {
    "duration": 9,
    "start_time": "2024-02-11T19:31:02.665Z"
   },
   {
    "duration": 7,
    "start_time": "2024-02-11T19:31:02.676Z"
   },
   {
    "duration": 411,
    "start_time": "2024-02-11T19:31:02.684Z"
   },
   {
    "duration": 6,
    "start_time": "2024-02-11T19:31:03.097Z"
   },
   {
    "duration": 24,
    "start_time": "2024-02-11T19:31:03.105Z"
   },
   {
    "duration": 28,
    "start_time": "2024-02-11T19:31:03.130Z"
   },
   {
    "duration": 8,
    "start_time": "2024-02-11T19:31:03.159Z"
   },
   {
    "duration": 14,
    "start_time": "2024-02-11T19:31:03.168Z"
   },
   {
    "duration": 15,
    "start_time": "2024-02-11T19:31:03.183Z"
   },
   {
    "duration": 30,
    "start_time": "2024-02-11T19:31:03.200Z"
   },
   {
    "duration": 11,
    "start_time": "2024-02-11T19:31:03.231Z"
   },
   {
    "duration": 19,
    "start_time": "2024-02-11T19:31:03.243Z"
   },
   {
    "duration": 6,
    "start_time": "2024-02-11T19:31:03.268Z"
   },
   {
    "duration": 11,
    "start_time": "2024-02-11T19:31:03.275Z"
   },
   {
    "duration": 4,
    "start_time": "2024-02-11T19:31:03.288Z"
   },
   {
    "duration": 5,
    "start_time": "2024-02-11T19:31:03.293Z"
   },
   {
    "duration": 125,
    "start_time": "2024-02-11T19:31:03.299Z"
   },
   {
    "duration": 7,
    "start_time": "2024-02-11T19:31:03.425Z"
   },
   {
    "duration": 119,
    "start_time": "2024-02-11T19:31:03.433Z"
   },
   {
    "duration": 13,
    "start_time": "2024-02-11T19:31:03.561Z"
   },
   {
    "duration": 100,
    "start_time": "2024-02-11T19:31:03.575Z"
   },
   {
    "duration": 8,
    "start_time": "2024-02-11T19:31:03.678Z"
   },
   {
    "duration": 5,
    "start_time": "2024-02-11T19:31:03.687Z"
   },
   {
    "duration": 181,
    "start_time": "2024-02-11T19:31:03.693Z"
   },
   {
    "duration": 110,
    "start_time": "2024-02-11T19:31:03.876Z"
   },
   {
    "duration": 209,
    "start_time": "2024-02-11T19:31:03.988Z"
   },
   {
    "duration": 6,
    "start_time": "2024-02-11T19:31:04.199Z"
   },
   {
    "duration": 173,
    "start_time": "2024-02-11T19:31:04.207Z"
   },
   {
    "duration": 144,
    "start_time": "2024-02-11T19:31:04.381Z"
   },
   {
    "duration": 26,
    "start_time": "2024-02-11T19:31:04.526Z"
   },
   {
    "duration": 16,
    "start_time": "2024-02-11T19:31:04.562Z"
   },
   {
    "duration": 4,
    "start_time": "2024-02-11T19:31:04.580Z"
   },
   {
    "duration": 17,
    "start_time": "2024-02-11T19:31:04.585Z"
   },
   {
    "duration": 12,
    "start_time": "2024-02-11T19:31:04.603Z"
   },
   {
    "duration": 179,
    "start_time": "2024-02-11T19:31:04.617Z"
   },
   {
    "duration": 172,
    "start_time": "2024-02-11T19:31:04.798Z"
   },
   {
    "duration": 150,
    "start_time": "2024-02-11T19:31:04.974Z"
   },
   {
    "duration": 172,
    "start_time": "2024-02-11T19:31:05.125Z"
   },
   {
    "duration": 195,
    "start_time": "2024-02-11T19:31:05.298Z"
   },
   {
    "duration": 192,
    "start_time": "2024-02-11T19:31:05.495Z"
   },
   {
    "duration": 5,
    "start_time": "2024-02-11T19:31:05.689Z"
   },
   {
    "duration": 24,
    "start_time": "2024-02-11T19:31:05.695Z"
   },
   {
    "duration": 39,
    "start_time": "2024-02-11T19:31:05.720Z"
   },
   {
    "duration": 12,
    "start_time": "2024-02-11T19:31:05.766Z"
   },
   {
    "duration": 18,
    "start_time": "2024-02-11T19:31:05.780Z"
   },
   {
    "duration": 6,
    "start_time": "2024-02-11T19:31:05.800Z"
   },
   {
    "duration": 13,
    "start_time": "2024-02-11T19:31:05.807Z"
   },
   {
    "duration": 9,
    "start_time": "2024-02-11T19:31:05.821Z"
   },
   {
    "duration": 8,
    "start_time": "2024-02-11T19:31:05.831Z"
   },
   {
    "duration": 34,
    "start_time": "2024-02-11T19:31:05.840Z"
   },
   {
    "duration": 3,
    "start_time": "2024-02-11T19:31:05.875Z"
   },
   {
    "duration": 1283,
    "start_time": "2024-02-12T01:18:12.543Z"
   },
   {
    "duration": 221,
    "start_time": "2024-02-12T01:18:13.830Z"
   },
   {
    "duration": 11,
    "start_time": "2024-02-12T01:18:14.053Z"
   },
   {
    "duration": 11,
    "start_time": "2024-02-12T01:18:14.065Z"
   },
   {
    "duration": 7,
    "start_time": "2024-02-12T01:18:14.077Z"
   },
   {
    "duration": 9,
    "start_time": "2024-02-12T01:18:14.085Z"
   },
   {
    "duration": 7,
    "start_time": "2024-02-12T01:18:14.095Z"
   },
   {
    "duration": 15,
    "start_time": "2024-02-12T01:18:14.104Z"
   },
   {
    "duration": 427,
    "start_time": "2024-02-12T01:18:14.122Z"
   },
   {
    "duration": 7,
    "start_time": "2024-02-12T01:18:14.551Z"
   },
   {
    "duration": 11,
    "start_time": "2024-02-12T01:18:14.559Z"
   },
   {
    "duration": 8,
    "start_time": "2024-02-12T01:18:14.571Z"
   },
   {
    "duration": 6,
    "start_time": "2024-02-12T01:18:14.580Z"
   },
   {
    "duration": 29,
    "start_time": "2024-02-12T01:18:14.588Z"
   },
   {
    "duration": 3,
    "start_time": "2024-02-12T01:18:14.618Z"
   },
   {
    "duration": 11,
    "start_time": "2024-02-12T01:18:14.622Z"
   },
   {
    "duration": 15,
    "start_time": "2024-02-12T01:18:14.634Z"
   },
   {
    "duration": 4,
    "start_time": "2024-02-12T01:18:14.651Z"
   },
   {
    "duration": 5,
    "start_time": "2024-02-12T01:18:14.656Z"
   },
   {
    "duration": 11,
    "start_time": "2024-02-12T01:18:14.663Z"
   },
   {
    "duration": 4,
    "start_time": "2024-02-12T01:18:14.676Z"
   },
   {
    "duration": 38,
    "start_time": "2024-02-12T01:18:14.681Z"
   },
   {
    "duration": 98,
    "start_time": "2024-02-12T01:18:14.721Z"
   },
   {
    "duration": 8,
    "start_time": "2024-02-12T01:18:14.820Z"
   },
   {
    "duration": 108,
    "start_time": "2024-02-12T01:18:14.829Z"
   },
   {
    "duration": 8,
    "start_time": "2024-02-12T01:18:14.939Z"
   },
   {
    "duration": 117,
    "start_time": "2024-02-12T01:18:14.951Z"
   },
   {
    "duration": 9,
    "start_time": "2024-02-12T01:18:15.070Z"
   },
   {
    "duration": 18,
    "start_time": "2024-02-12T01:18:15.080Z"
   },
   {
    "duration": 148,
    "start_time": "2024-02-12T01:18:15.099Z"
   },
   {
    "duration": 108,
    "start_time": "2024-02-12T01:18:15.249Z"
   },
   {
    "duration": 214,
    "start_time": "2024-02-12T01:18:15.358Z"
   },
   {
    "duration": 7,
    "start_time": "2024-02-12T01:18:15.573Z"
   },
   {
    "duration": 169,
    "start_time": "2024-02-12T01:18:15.582Z"
   },
   {
    "duration": 171,
    "start_time": "2024-02-12T01:18:15.753Z"
   },
   {
    "duration": 13,
    "start_time": "2024-02-12T01:18:15.925Z"
   },
   {
    "duration": 10,
    "start_time": "2024-02-12T01:18:15.940Z"
   },
   {
    "duration": 4,
    "start_time": "2024-02-12T01:18:15.951Z"
   },
   {
    "duration": 17,
    "start_time": "2024-02-12T01:18:15.956Z"
   },
   {
    "duration": 12,
    "start_time": "2024-02-12T01:18:15.974Z"
   },
   {
    "duration": 159,
    "start_time": "2024-02-12T01:18:16.014Z"
   },
   {
    "duration": 183,
    "start_time": "2024-02-12T01:18:16.174Z"
   },
   {
    "duration": 158,
    "start_time": "2024-02-12T01:18:16.358Z"
   },
   {
    "duration": 166,
    "start_time": "2024-02-12T01:18:16.518Z"
   },
   {
    "duration": 200,
    "start_time": "2024-02-12T01:18:16.686Z"
   },
   {
    "duration": 197,
    "start_time": "2024-02-12T01:18:16.887Z"
   },
   {
    "duration": 6,
    "start_time": "2024-02-12T01:18:17.085Z"
   },
   {
    "duration": 37,
    "start_time": "2024-02-12T01:18:17.092Z"
   },
   {
    "duration": 8,
    "start_time": "2024-02-12T01:18:17.130Z"
   },
   {
    "duration": 6,
    "start_time": "2024-02-12T01:18:17.139Z"
   },
   {
    "duration": 13,
    "start_time": "2024-02-12T01:18:17.146Z"
   },
   {
    "duration": 6,
    "start_time": "2024-02-12T01:18:17.161Z"
   },
   {
    "duration": 13,
    "start_time": "2024-02-12T01:18:17.168Z"
   },
   {
    "duration": 34,
    "start_time": "2024-02-12T01:18:17.182Z"
   },
   {
    "duration": 5,
    "start_time": "2024-02-12T01:18:17.218Z"
   },
   {
    "duration": 22,
    "start_time": "2024-02-12T01:18:17.224Z"
   },
   {
    "duration": 2,
    "start_time": "2024-02-12T01:18:17.248Z"
   }
  ],
  "kernelspec": {
   "display_name": "Python 3 (ipykernel)",
   "language": "python",
   "name": "python3"
  },
  "language_info": {
   "codemirror_mode": {
    "name": "ipython",
    "version": 3
   },
   "file_extension": ".py",
   "mimetype": "text/x-python",
   "name": "python",
   "nbconvert_exporter": "python",
   "pygments_lexer": "ipython3",
   "version": "3.9.13"
  },
  "toc": {
   "base_numbering": 1,
   "nav_menu": {},
   "number_sections": true,
   "sideBar": true,
   "skip_h1_title": false,
   "title_cell": "Table of Contents",
   "title_sidebar": "Contents",
   "toc_cell": false,
   "toc_position": {
    "height": "calc(100% - 180px)",
    "left": "10px",
    "top": "150px",
    "width": "489px"
   },
   "toc_section_display": true,
   "toc_window_display": true
  }
 },
 "nbformat": 4,
 "nbformat_minor": 5
}
